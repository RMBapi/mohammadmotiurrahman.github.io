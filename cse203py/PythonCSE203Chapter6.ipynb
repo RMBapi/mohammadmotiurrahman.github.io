{
  "nbformat": 4,
  "nbformat_minor": 0,
  "metadata": {
    "colab": {
      "name": "PythonCSE203Chapter6.ipynb",
      "provenance": [],
      "authorship_tag": "ABX9TyNX5FnFG72wqJV7PYTlrIa0",
      "include_colab_link": true
    },
    "kernelspec": {
      "name": "python3",
      "display_name": "Python 3"
    },
    "language_info": {
      "name": "python"
    }
  },
  "cells": [
    {
      "cell_type": "markdown",
      "metadata": {
        "id": "view-in-github",
        "colab_type": "text"
      },
      "source": [
        "<a href=\"https://colab.research.google.com/github/mohammadmotiurrahman/mohammadmotiurrahman.github.io/blob/main/cse203py/PythonCSE203Chapter6.ipynb\" target=\"_parent\"><img src=\"https://colab.research.google.com/assets/colab-badge.svg\" alt=\"Open In Colab\"/></a>"
      ]
    },
    {
      "cell_type": "markdown",
      "source": [
        "#Graph"
      ],
      "metadata": {
        "id": "iWS5uDbOeBAy"
      }
    },
    {
      "cell_type": "markdown",
      "source": [
        "## Implementation of Graph"
      ],
      "metadata": {
        "id": "R1qlP7OAhq6b"
      }
    },
    {
      "cell_type": "code",
      "source": [
        "class node:\n",
        "  def __init__(self, val):\n",
        "    self.data = val\n",
        "    self.next = None"
      ],
      "metadata": {
        "id": "HPKlNc5M8Qg8"
      },
      "execution_count": null,
      "outputs": []
    },
    {
      "cell_type": "code",
      "source": [
        "class graph:\n",
        "  def __init__(self, nV):\n",
        "    self.numVertex = nV\n",
        "    self.adj = None"
      ],
      "metadata": {
        "id": "gp1adLK8R5Vj"
      },
      "execution_count": null,
      "outputs": []
    },
    {
      "cell_type": "code",
      "source": [
        "def createGraph(g,nV):\n",
        "  g = graph(nV)\n",
        "  g.adj = [node(None) for i in range(g.numVertex)]\n",
        "  return g"
      ],
      "metadata": {
        "id": "bj6IfCNbS7WC"
      },
      "execution_count": null,
      "outputs": []
    },
    {
      "cell_type": "code",
      "source": [
        "def addEdge(g, src, dest):\n",
        "  n = node(dest)\n",
        "\n",
        "  n.next = g.adj[src]\n",
        "\n",
        "  g.adj[src] = n\n",
        "\n",
        "  #if the graph is undirected\n",
        "  m = node(src)\n",
        "\n",
        "  m.next = g.adj[dest]\n",
        "  \n",
        "  g.adj[dest] = m\n",
        "\n",
        "  return g\n"
      ],
      "metadata": {
        "id": "0MP0KnikUOLX"
      },
      "execution_count": null,
      "outputs": []
    },
    {
      "cell_type": "code",
      "source": [
        "def printGraph(g):\n",
        "  for i in range(g.numVertex):\n",
        "    n = g.adj[i]\n",
        "\n",
        "    print(i, end = \": \")\n",
        "\n",
        "    while n:\n",
        "      print(n.data, end = \" \")\n",
        "      n = n.next\n",
        "\n",
        "    print(\" \")"
      ],
      "metadata": {
        "id": "ct9Ki2VYW0Ny"
      },
      "execution_count": null,
      "outputs": []
    },
    {
      "cell_type": "code",
      "source": [
        "def main():\n",
        "  g = None\n",
        "  g = createGraph(g,6)\n",
        "  g = addEdge(g, 0, 3)\n",
        "  g = addEdge(g, 1, 0)\n",
        "  g = addEdge(g, 1, 3)\n",
        "  g = addEdge(g, 2, 1)\n",
        "  g = addEdge(g, 2, 0)\n",
        "  g = addEdge(g, 4, 2)\n",
        "  g = addEdge(g, 4, 1)\n",
        "  g = addEdge(g, 4, 5)\n",
        "  g = addEdge(g, 5, 3)\n",
        "  \n",
        "  printGraph(g)\n",
        "\n",
        "main()"
      ],
      "metadata": {
        "colab": {
          "base_uri": "https://localhost:8080/"
        },
        "id": "9AM76ZJOYCR_",
        "outputId": "582c9a68-6f7b-463f-9173-10aaf03b0488"
      },
      "execution_count": null,
      "outputs": [
        {
          "output_type": "stream",
          "name": "stdout",
          "text": [
            "0: 2 1 3 None  \n",
            "1: 4 2 3 0 None  \n",
            "2: 4 0 1 None  \n",
            "3: 5 1 0 None  \n",
            "4: 5 1 2 None  \n",
            "5: 3 4 None  \n"
          ]
        }
      ]
    },
    {
      "cell_type": "markdown",
      "source": [
        "#End of Chapter 6"
      ],
      "metadata": {
        "id": "mCYnbw0Dd9Fy"
      }
    }
  ]
}