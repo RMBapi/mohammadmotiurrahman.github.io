{
  "nbformat": 4,
  "nbformat_minor": 0,
  "metadata": {
    "colab": {
      "name": "PythonCSE203Chapter1.ipynb",
      "provenance": [],
      "include_colab_link": true
    },
    "kernelspec": {
      "name": "python3",
      "display_name": "Python 3"
    },
    "language_info": {
      "name": "python"
    }
  },
  "cells": [
    {
      "cell_type": "markdown",
      "metadata": {
        "id": "view-in-github",
        "colab_type": "text"
      },
      "source": [
        "<a href=\"https://colab.research.google.com/github/mohammadmotiurrahman/mohammadmotiurrahman.github.io/blob/main/cse203py/PythonCSE203Chapter1.ipynb\" target=\"_parent\"><img src=\"https://colab.research.google.com/assets/colab-badge.svg\" alt=\"Open In Colab\"/></a>"
      ]
    },
    {
      "cell_type": "markdown",
      "source": [
        "# Review of CSC 101 course taught at IUB .\n",
        "\n",
        "In order to run the code , click on the black and orange icon \"Open in Colab\" above. This will take you to Google Colaboratory. After that try the following key combination, Shift + Enter to run each cell.\n",
        "\n"
      ],
      "metadata": {
        "id": "vmuPPj8BdpMk"
      }
    },
    {
      "cell_type": "markdown",
      "source": [
        "##Basic Idea\n",
        "Here we go again, in Python. Lets see where it ends."
      ],
      "metadata": {
        "id": "517HWWX9d-GY"
      }
    },
    {
      "cell_type": "markdown",
      "source": [
        "### Hello World in Python"
      ],
      "metadata": {
        "id": "shkSLFjIerba"
      }
    },
    {
      "cell_type": "code",
      "execution_count": null,
      "metadata": {
        "colab": {
          "base_uri": "https://localhost:8080/"
        },
        "id": "0lWclhrkc4vp",
        "outputId": "30dccd1f-122b-49ef-e15a-fe429c86c557"
      },
      "outputs": [
        {
          "output_type": "stream",
          "name": "stdout",
          "text": [
            "Hello World in Python for CSE 203\n"
          ]
        }
      ],
      "source": [
        "print(\"Hello World in Python for CSE 203\")"
      ]
    },
    {
      "cell_type": "markdown",
      "source": [
        "### Variables in Python"
      ],
      "metadata": {
        "id": "sfHS9vx1eflN"
      }
    },
    {
      "cell_type": "code",
      "source": [
        "a = 5\n",
        "b = 5.6\n",
        "c = True\n",
        "d = \"Carrot\"\n",
        "print(a)\n",
        "print(b)\n",
        "print(c)\n",
        "print(d)"
      ],
      "metadata": {
        "colab": {
          "base_uri": "https://localhost:8080/"
        },
        "id": "1pWLMXUpeUWG",
        "outputId": "08fc6fa4-1713-44d4-e75b-ce65d45fc67a"
      },
      "execution_count": null,
      "outputs": [
        {
          "output_type": "stream",
          "name": "stdout",
          "text": [
            "5\n",
            "5.6\n",
            "True\n",
            "Carrot\n"
          ]
        }
      ]
    },
    {
      "cell_type": "markdown",
      "source": [
        "### Mathematical Operation"
      ],
      "metadata": {
        "id": "aJ9DXq1hfzks"
      }
    },
    {
      "cell_type": "code",
      "source": [
        "x = 10 \n",
        "y = 3\n",
        "print(f\"x + y = {x + y}\") # Sum \n",
        "print(f\"x - y = {x - y}\") # Subtract\n",
        "print(f\"x * y = {x * y}\") # Multiplication\n",
        "print(f\"x ** y = {x **y}\") # Power operation\n",
        "print(f\"x / y = {x /y}\") # Division\n",
        "print(f\"x // y = {x // y}\") # Quotient of a division\n",
        "print(f\"x % y = {x % y}\") # Remainder of a division"
      ],
      "metadata": {
        "colab": {
          "base_uri": "https://localhost:8080/"
        },
        "id": "ZdvTZf2OfR2K",
        "outputId": "cd216adf-e41b-40f3-f69c-6f45ad3ad310"
      },
      "execution_count": null,
      "outputs": [
        {
          "output_type": "stream",
          "name": "stdout",
          "text": [
            "x + y = 13\n",
            "x - y = 7\n",
            "x * y = 30\n",
            "x ** y = 1000\n",
            "x / y = 3.3333333333333335\n",
            "x // y = 3\n",
            "x % y = 1\n"
          ]
        }
      ]
    },
    {
      "cell_type": "markdown",
      "source": [
        "### for - loops"
      ],
      "metadata": {
        "id": "vzoUTNpXhoPH"
      }
    },
    {
      "cell_type": "code",
      "source": [
        "for i in range(5): \n",
        "  print (i)"
      ],
      "metadata": {
        "colab": {
          "base_uri": "https://localhost:8080/"
        },
        "id": "-t1BSQeWhnWE",
        "outputId": "8561adad-42f5-473f-eda1-b64d09549693"
      },
      "execution_count": null,
      "outputs": [
        {
          "output_type": "stream",
          "name": "stdout",
          "text": [
            "0\n",
            "1\n",
            "2\n",
            "3\n",
            "4\n"
          ]
        }
      ]
    },
    {
      "cell_type": "code",
      "source": [
        "for i in range(0, 5):\n",
        "  print(i, end = \" \")"
      ],
      "metadata": {
        "colab": {
          "base_uri": "https://localhost:8080/"
        },
        "id": "gRvy6g6RgxtT",
        "outputId": "fdacbd7a-5b0f-4af3-e311-63c997d42066"
      },
      "execution_count": null,
      "outputs": [
        {
          "output_type": "stream",
          "name": "stdout",
          "text": [
            "0 1 2 3 4 "
          ]
        }
      ]
    },
    {
      "cell_type": "code",
      "source": [
        "for i in range(0, 10, 2):\n",
        "  print(i, end = \" \")"
      ],
      "metadata": {
        "colab": {
          "base_uri": "https://localhost:8080/"
        },
        "id": "tQhakjgciArM",
        "outputId": "563b3045-5407-4dec-bf99-e3f8b927c407"
      },
      "execution_count": null,
      "outputs": [
        {
          "output_type": "stream",
          "name": "stdout",
          "text": [
            "0 2 4 6 8 "
          ]
        }
      ]
    },
    {
      "cell_type": "code",
      "source": [
        "for i in range(10, 0, -2):\n",
        "  print(i, end = \" \")"
      ],
      "metadata": {
        "colab": {
          "base_uri": "https://localhost:8080/"
        },
        "id": "drW2VmLaiTCq",
        "outputId": "bc637134-b7cb-4eff-f16b-0a4a888cab51"
      },
      "execution_count": null,
      "outputs": [
        {
          "output_type": "stream",
          "name": "stdout",
          "text": [
            "10 8 6 4 2 "
          ]
        }
      ]
    },
    {
      "cell_type": "code",
      "source": [
        "#list comprehension\n",
        "[i for i in range(5)]"
      ],
      "metadata": {
        "colab": {
          "base_uri": "https://localhost:8080/"
        },
        "id": "OY04m4sriGE-",
        "outputId": "6a9f9b13-2675-4c95-8c77-f77cc994d276"
      },
      "execution_count": null,
      "outputs": [
        {
          "output_type": "execute_result",
          "data": {
            "text/plain": [
              "[0, 1, 2, 3, 4]"
            ]
          },
          "metadata": {},
          "execution_count": 19
        }
      ]
    },
    {
      "cell_type": "markdown",
      "source": [
        "### while loop"
      ],
      "metadata": {
        "id": "Lr0PPJv_ih47"
      }
    },
    {
      "cell_type": "code",
      "source": [
        "i = 0\n",
        "while i < 5:\n",
        "  print(i, end = \" \")\n",
        "  i = i + 1"
      ],
      "metadata": {
        "colab": {
          "base_uri": "https://localhost:8080/"
        },
        "id": "Et92kGpziPoa",
        "outputId": "caab0f6b-2581-4256-de53-a6b072caab1c"
      },
      "execution_count": null,
      "outputs": [
        {
          "output_type": "stream",
          "name": "stdout",
          "text": [
            "0 1 2 3 4 "
          ]
        }
      ]
    },
    {
      "cell_type": "code",
      "source": [
        "i = 5\n",
        "while i > 0 :\n",
        "  print(i, end = \" \")\n",
        "  i = i - 1"
      ],
      "metadata": {
        "colab": {
          "base_uri": "https://localhost:8080/"
        },
        "id": "PqMPocL3io9s",
        "outputId": "5cd4f2b2-cf6b-4c65-f4f0-f869db90576a"
      },
      "execution_count": null,
      "outputs": [
        {
          "output_type": "stream",
          "name": "stdout",
          "text": [
            "5 4 3 2 1 "
          ]
        }
      ]
    },
    {
      "cell_type": "markdown",
      "source": [
        "### Control logic"
      ],
      "metadata": {
        "id": "80kdX82EkFve"
      }
    },
    {
      "cell_type": "code",
      "source": [
        "x = int(input(\"Number please: \"))\n",
        "if x % 2 == 0:\n",
        "  print(\"Even number\")\n",
        "else:\n",
        "  print(\"Odd number\")"
      ],
      "metadata": {
        "colab": {
          "base_uri": "https://localhost:8080/"
        },
        "id": "771QqT-0kALj",
        "outputId": "449f79a6-2335-48da-ec4b-2774edb11f92"
      },
      "execution_count": null,
      "outputs": [
        {
          "output_type": "stream",
          "name": "stdout",
          "text": [
            "Number please: 12\n",
            "Even number\n"
          ]
        }
      ]
    },
    {
      "cell_type": "code",
      "source": [
        "x = int(input(\"Number please: \"))\n",
        "if x % 2 == 0:\n",
        "  print(\"Multiple of 2\")\n",
        "elif x % 3 == 0:\n",
        "  print(\"Multiple of 3\")\n",
        "else:\n",
        "  print(\"Not a multiple of 2 or not a multiple of 3\")"
      ],
      "metadata": {
        "colab": {
          "base_uri": "https://localhost:8080/"
        },
        "id": "ypZl2v-hkWf2",
        "outputId": "f350fc17-7e29-4b00-a0f2-9c095ed49cf1"
      },
      "execution_count": null,
      "outputs": [
        {
          "output_type": "stream",
          "name": "stdout",
          "text": [
            "Number please: 15\n",
            "Multiple of 3\n"
          ]
        }
      ]
    },
    {
      "cell_type": "markdown",
      "source": [
        "### **break** and **continue** keyword"
      ],
      "metadata": {
        "id": "jotr8O4BoX5S"
      }
    },
    {
      "cell_type": "code",
      "source": [
        "#ignore everything after 4\n",
        "i = 0\n",
        "while i < 15:\n",
        "  i = i + 1\n",
        "  if i == 5:\n",
        "    break\n",
        "  print(i, end = \" \")\n",
        "  "
      ],
      "metadata": {
        "colab": {
          "base_uri": "https://localhost:8080/"
        },
        "id": "82s8lMG0oWuO",
        "outputId": "18c1c477-a608-43a1-b80b-48abd280f7d2"
      },
      "execution_count": null,
      "outputs": [
        {
          "output_type": "stream",
          "name": "stdout",
          "text": [
            "1 2 3 4 "
          ]
        }
      ]
    },
    {
      "cell_type": "code",
      "source": [
        "#ignore multiple of 3\n",
        "i = 0\n",
        "while i < 15:\n",
        "  i = i + 1\n",
        "  if i % 3 == 0:\n",
        "    continue\n",
        "  print(i, end = \" \")\n",
        "  "
      ],
      "metadata": {
        "colab": {
          "base_uri": "https://localhost:8080/"
        },
        "id": "aRjbZezApnql",
        "outputId": "c5e5a7f4-eabb-46d7-b365-0ddef5d750eb"
      },
      "execution_count": null,
      "outputs": [
        {
          "output_type": "stream",
          "name": "stdout",
          "text": [
            "1 2 4 5 7 8 10 11 13 14 "
          ]
        }
      ]
    },
    {
      "cell_type": "markdown",
      "source": [
        "### Something to remember by"
      ],
      "metadata": {
        "id": "szBm-iE2rLhY"
      }
    },
    {
      "cell_type": "code",
      "source": [
        "# take a close look how n is not changing\n",
        "# the number of times the for loop runs\n",
        "n = 10\n",
        "for i in range(0, n):\n",
        "  n = n + 10\n",
        "  print(n, end  = \" \")"
      ],
      "metadata": {
        "colab": {
          "base_uri": "https://localhost:8080/"
        },
        "id": "XVrLNO3DrfDW",
        "outputId": "aece3ecd-5b81-4630-a136-ace297f05264"
      },
      "execution_count": null,
      "outputs": [
        {
          "output_type": "stream",
          "name": "stdout",
          "text": [
            "20 30 40 50 60 70 80 90 100 110 "
          ]
        }
      ]
    },
    {
      "cell_type": "code",
      "source": [
        "# take a close look how n is not changing\n",
        "# the number of times the while loop run\n",
        "# it does not end ... beware before running\n",
        "n = 2\n",
        "i = 0\n",
        "#Uncomment if you want to use\n",
        "'''\n",
        "while i < n:\n",
        "  n = n + 3\n",
        "  print(n, end  = \" \")\n",
        "'''"
      ],
      "metadata": {
        "colab": {
          "base_uri": "https://localhost:8080/",
          "height": 35
        },
        "id": "_3rfjIvBskvM",
        "outputId": "7260a9d2-1acb-4849-e7e8-f9e9886a968c"
      },
      "execution_count": null,
      "outputs": [
        {
          "output_type": "execute_result",
          "data": {
            "text/plain": [
              "'\\nwhile i < n:\\n  n = n + 3\\n  print(n, end  = \" \")\\n'"
            ],
            "application/vnd.google.colaboratory.intrinsic+json": {
              "type": "string"
            }
          },
          "metadata": {},
          "execution_count": 87
        }
      ]
    },
    {
      "cell_type": "markdown",
      "source": [
        "## Write basic algorithm"
      ],
      "metadata": {
        "id": "5sI4hl-Qi0uK"
      }
    },
    {
      "cell_type": "code",
      "source": [
        "#Print the odd numbers\n",
        "for i in range(10):\n",
        "  if i % 2 == 1:\n",
        "    print(i, end = \" \")"
      ],
      "metadata": {
        "colab": {
          "base_uri": "https://localhost:8080/"
        },
        "id": "3NxfIAQmjELo",
        "outputId": "0f0a3067-d17c-446d-b8e2-9648bd53f8a7"
      },
      "execution_count": null,
      "outputs": [
        {
          "output_type": "stream",
          "name": "stdout",
          "text": [
            "1 3 5 7 9 "
          ]
        }
      ]
    },
    {
      "cell_type": "code",
      "source": [
        "#Print the even numbers\n",
        "while i < 10:\n",
        "  if i % 2 == 0:\n",
        "    print(i, end = \" \")\n",
        "  i = i + 1"
      ],
      "metadata": {
        "id": "CEuuxLa-jrtf"
      },
      "execution_count": null,
      "outputs": []
    },
    {
      "cell_type": "code",
      "source": [
        "#How to print prime numbers\n",
        "n = int(input(\"Number: \"))\n",
        "isPrime = True\n",
        "for i in range(2 ,n):\n",
        "  if (n % i == 0):\n",
        "    isPrime = False\n",
        "\n",
        "if isPrime == True:\n",
        "  print(f\"{n} is a prime number\")\n",
        "else:\n",
        "  print(f\"{n} is not a prime number\")"
      ],
      "metadata": {
        "colab": {
          "base_uri": "https://localhost:8080/"
        },
        "id": "Tte_jflnoRJO",
        "outputId": "6bb710a5-1bc2-4a77-bea4-aa60abd1087b"
      },
      "execution_count": null,
      "outputs": [
        {
          "output_type": "stream",
          "name": "stdout",
          "text": [
            "Number: 12\n",
            "12 is not a prime number\n"
          ]
        }
      ]
    },
    {
      "cell_type": "markdown",
      "source": [
        "## Functions"
      ],
      "metadata": {
        "id": "4L32CKJ8tuab"
      }
    },
    {
      "cell_type": "code",
      "source": [
        "def hello():\n",
        "  print(\"Hello\")\n",
        "hello()"
      ],
      "metadata": {
        "colab": {
          "base_uri": "https://localhost:8080/"
        },
        "id": "9buGv2batmQa",
        "outputId": "b25111de-9473-4b2c-9eee-f36e5ae5245e"
      },
      "execution_count": null,
      "outputs": [
        {
          "output_type": "stream",
          "name": "stdout",
          "text": [
            "Hello\n"
          ]
        }
      ]
    },
    {
      "cell_type": "code",
      "source": [
        "def hello(x):\n",
        "  print(f\"{x}\")\n",
        "hello(12)"
      ],
      "metadata": {
        "colab": {
          "base_uri": "https://localhost:8080/"
        },
        "id": "2qBtKKcUuLPa",
        "outputId": "7e0e6fc7-6d96-4055-afd8-fe23a496c3b9"
      },
      "execution_count": null,
      "outputs": [
        {
          "output_type": "stream",
          "name": "stdout",
          "text": [
            "12\n"
          ]
        }
      ]
    },
    {
      "cell_type": "code",
      "source": [
        "def hello(x,y):\n",
        "  print(f\"{x} + {y} is {x+y}\")\n",
        "hello(9,10)"
      ],
      "metadata": {
        "colab": {
          "base_uri": "https://localhost:8080/"
        },
        "id": "eWgoAn1pubQX",
        "outputId": "8426ba77-befb-47d9-b805-589321e7a95b"
      },
      "execution_count": null,
      "outputs": [
        {
          "output_type": "stream",
          "name": "stdout",
          "text": [
            "9 + 10 is 19\n"
          ]
        }
      ]
    },
    {
      "cell_type": "code",
      "source": [
        "def hello(x=10, y=20):\n",
        "  print(f\"{x} + {y} = {x+y}\")\n",
        "hello(x = 13)\n",
        "hello(y = 5)"
      ],
      "metadata": {
        "colab": {
          "base_uri": "https://localhost:8080/"
        },
        "id": "bjNpA_TOugbo",
        "outputId": "8309700c-ade9-4cb5-816d-c3d554f1780e"
      },
      "execution_count": null,
      "outputs": [
        {
          "output_type": "stream",
          "name": "stdout",
          "text": [
            "13 + 20 = 33\n",
            "10 + 5 = 15\n"
          ]
        }
      ]
    },
    {
      "cell_type": "code",
      "source": [
        "def hello(x):\n",
        "  return x ** 2\n",
        "print(hello(10))"
      ],
      "metadata": {
        "colab": {
          "base_uri": "https://localhost:8080/"
        },
        "id": "ensN5XD8wSyN",
        "outputId": "04de8a5f-a509-4dfd-cc18-581e697584e4"
      },
      "execution_count": null,
      "outputs": [
        {
          "output_type": "stream",
          "name": "stdout",
          "text": [
            "100\n"
          ]
        }
      ]
    },
    {
      "cell_type": "code",
      "source": [
        "def hello(x , y):\n",
        "  return (x, y)\n",
        "print(hello(10, 20))"
      ],
      "metadata": {
        "colab": {
          "base_uri": "https://localhost:8080/"
        },
        "id": "davfihsdwX4p",
        "outputId": "c6bff808-e9c5-4b07-afd7-eb21eba1365c"
      },
      "execution_count": null,
      "outputs": [
        {
          "output_type": "stream",
          "name": "stdout",
          "text": [
            "(10, 20)\n"
          ]
        }
      ]
    },
    {
      "cell_type": "markdown",
      "source": [
        "## File Reading And Writing"
      ],
      "metadata": {
        "id": "W6K-hPTSw9Wd"
      }
    },
    {
      "cell_type": "code",
      "source": [
        "%%writefile hello.txt\n",
        "There is a mango in the table\n",
        "There is a banana in the tree\n",
        "Today is Wednesday"
      ],
      "metadata": {
        "colab": {
          "base_uri": "https://localhost:8080/"
        },
        "id": "2jkVMoXbxEHV",
        "outputId": "6d907c6a-2405-4ed8-b501-cfe8b2ace1e9"
      },
      "execution_count": null,
      "outputs": [
        {
          "output_type": "stream",
          "name": "stdout",
          "text": [
            "Writing hello.txt\n"
          ]
        }
      ]
    },
    {
      "cell_type": "code",
      "source": [
        "f = open(\"hello.txt\", \"r\")\n",
        "print(f.readline()) #print line\n",
        "print(f.readlines()) #print lots of lines\n",
        "f.close() #close the file"
      ],
      "metadata": {
        "colab": {
          "base_uri": "https://localhost:8080/"
        },
        "id": "cd-OuKygwnfn",
        "outputId": "4fa81782-081f-4ffa-dd8e-8a4dabd689b0"
      },
      "execution_count": null,
      "outputs": [
        {
          "output_type": "stream",
          "name": "stdout",
          "text": [
            "There is a mango in the table\n",
            "\n",
            "['There is a banana in the tree\\n', 'Today is Wednesday']\n"
          ]
        }
      ]
    },
    {
      "cell_type": "code",
      "source": [
        "#Overwrite the content of \"hello.txt\"\n",
        "f = open(\"hello.txt\", \"w\")\n",
        "f.write(\"There is a bird in the sky\")\n",
        "f.close() #close the file"
      ],
      "metadata": {
        "id": "nbEYqqxKyAfg"
      },
      "execution_count": null,
      "outputs": []
    },
    {
      "cell_type": "code",
      "source": [
        "#Append the content of \"hello.txt\"\n",
        "f = open(\"hello.txt\", \"a\")\n",
        "f.write(\"There is another bird in the sky\")\n",
        "f.close() #close the file"
      ],
      "metadata": {
        "id": "YOuJx878xkl2"
      },
      "execution_count": null,
      "outputs": []
    },
    {
      "cell_type": "markdown",
      "source": [
        "# End of Chapter1"
      ],
      "metadata": {
        "id": "74C5AlATyfhq"
      }
    }
  ]
}