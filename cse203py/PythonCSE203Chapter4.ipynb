{
  "nbformat": 4,
  "nbformat_minor": 0,
  "metadata": {
    "colab": {
      "name": "PythonCSE203Chapter4.ipynb",
      "provenance": [],
      "authorship_tag": "ABX9TyMxpWm3gkqRsE8Pw9THpqMT",
      "include_colab_link": true
    },
    "kernelspec": {
      "name": "python3",
      "display_name": "Python 3"
    },
    "language_info": {
      "name": "python"
    }
  },
  "cells": [
    {
      "cell_type": "markdown",
      "metadata": {
        "id": "view-in-github",
        "colab_type": "text"
      },
      "source": [
        "<a href=\"https://colab.research.google.com/github/mohammadmotiurrahman/mohammadmotiurrahman.github.io/blob/main/cse203py/PythonCSE203Chapter4.ipynb\" target=\"_parent\"><img src=\"https://colab.research.google.com/assets/colab-badge.svg\" alt=\"Open In Colab\"/></a>"
      ]
    },
    {
      "cell_type": "markdown",
      "source": [
        "#Stacks and Queue"
      ],
      "metadata": {
        "id": "bXHestOdhAXt"
      }
    },
    {
      "cell_type": "markdown",
      "source": [
        "##Implementation of Queue\n"
      ],
      "metadata": {
        "id": "3i2mc-51hIiR"
      }
    },
    {
      "cell_type": "code",
      "source": [
        "class node:\n",
        "  def __init__(self, val):\n",
        "    self.data = val\n",
        "    self.next = None"
      ],
      "metadata": {
        "id": "hbYgFdLf7aUi"
      },
      "execution_count": null,
      "outputs": []
    },
    {
      "cell_type": "code",
      "source": [
        "def addBack(p, value):\n",
        "  if p is None: \n",
        "    p = node(value)\n",
        "\n",
        "  else:\n",
        "    \n",
        "    current = p\n",
        "    while current.next:\n",
        "      current = current.next\n",
        "    \n",
        "    x = node(value)\n",
        "    current.next = x\n",
        "  \n",
        "  #since p is initialized using passbyvalue\n",
        "  #so address of p is returned  \n",
        "  return p"
      ],
      "metadata": {
        "id": "i3lHZebSdRD0"
      },
      "execution_count": null,
      "outputs": []
    },
    {
      "cell_type": "code",
      "source": [
        "def removeBack(a):\n",
        "  if a == None:\n",
        "    return -5000, a\n",
        "  \n",
        "  if a.next == None:\n",
        "    d = a.data\n",
        "    a = a.next\n",
        "    return d, a\n",
        "  \n",
        "  current = a\n",
        "  while current.next.next :\n",
        "    current = current.next\n",
        "\n",
        "  p = current.next.data\n",
        "  current.next = None\n",
        "  return p, a"
      ],
      "metadata": {
        "id": "YJIdJd37dcle"
      },
      "execution_count": null,
      "outputs": []
    },
    {
      "cell_type": "code",
      "source": [
        "def printLinkedList(p):\n",
        "  while p:\n",
        "    print(p.data, end = \" \")\n",
        "    p = p.next"
      ],
      "metadata": {
        "id": "-GLw4P5Ngkod"
      },
      "execution_count": null,
      "outputs": []
    },
    {
      "cell_type": "code",
      "source": [
        "#Simulating a stack\n",
        "def main():\n",
        "  n = None\n",
        "  n = addBack(n,2)\n",
        "  n = addBack(n,4)\n",
        "  n = addBack(n,6)\n",
        "  printLinkedList(n)\n",
        "\n",
        "  print()\n",
        "  x, n = removeBack(n)\n",
        "  print(x)\n",
        "  x, n = removeBack(n)\n",
        "  print(x)\n",
        "  x, n = removeBack(n)\n",
        "  print(x)\n",
        "\n",
        "main()"
      ],
      "metadata": {
        "colab": {
          "base_uri": "https://localhost:8080/"
        },
        "id": "T2EKrpegfa2V",
        "outputId": "9a75566c-cee0-4df5-e455-2525d94b5052"
      },
      "execution_count": null,
      "outputs": [
        {
          "output_type": "stream",
          "name": "stdout",
          "text": [
            "2 4 6 \n",
            "6\n",
            "4\n",
            "2\n"
          ]
        }
      ]
    },
    {
      "cell_type": "markdown",
      "source": [
        "## Implementation of Stack"
      ],
      "metadata": {
        "id": "Wg7pnuWshRef"
      }
    },
    {
      "cell_type": "code",
      "source": [
        "class node:\n",
        "  def __init__(self, val):\n",
        "    self.data = val\n",
        "    self.next = None"
      ],
      "metadata": {
        "id": "tubskQrDfvIW"
      },
      "execution_count": null,
      "outputs": []
    },
    {
      "cell_type": "code",
      "source": [
        "def addBack(p, value):\n",
        "  if p is None: \n",
        "    p = node(value)\n",
        "\n",
        "  else:\n",
        "    current = p\n",
        "    while current.next:\n",
        "      current = current.next\n",
        "    \n",
        "    x = node(value)\n",
        "    current.next = x\n",
        "  \n",
        "  #since p is initialized using passbyvalue\n",
        "  #so address of p is returned  \n",
        "  return p"
      ],
      "metadata": {
        "id": "Egpk6QoZf0g_"
      },
      "execution_count": null,
      "outputs": []
    },
    {
      "cell_type": "code",
      "source": [
        "def removeFront(a):\n",
        "  if a == None:\n",
        "    return -5000, a\n",
        "  else:\n",
        "    t = a\n",
        "    d = a.data\n",
        "    a = a.next\n",
        "    del t\n",
        "    return d, a"
      ],
      "metadata": {
        "id": "ziaM7l27f3cU"
      },
      "execution_count": null,
      "outputs": []
    },
    {
      "cell_type": "code",
      "source": [
        "#Simulation of queue\n",
        "def main():\n",
        "  n = None\n",
        "  n = addBack(n, 2)\n",
        "  n = addBack(n, 4)\n",
        "  n = addBack(n, 6)\n",
        "  n = addBack(n, 8)\n",
        "  printLinkedList(n)\n",
        "\n",
        "  print()\n",
        "  x, n = removeFront(n)\n",
        "  print(x)\n",
        "  x, n = removeFront(n)\n",
        "  print(x)\n",
        "  x, n = removeFront(n)\n",
        "  print(x)\n",
        "  x, n = removeFront(n)\n",
        "  print(x)\n",
        "  \n",
        "main()"
      ],
      "metadata": {
        "colab": {
          "base_uri": "https://localhost:8080/"
        },
        "id": "Xl4p04_4gNAL",
        "outputId": "30f25a10-0686-4d3f-f3ce-42b2594dce9a"
      },
      "execution_count": null,
      "outputs": [
        {
          "output_type": "stream",
          "name": "stdout",
          "text": [
            "2 4 6 8 \n",
            "2\n",
            "4\n",
            "6\n",
            "8\n"
          ]
        }
      ]
    },
    {
      "cell_type": "markdown",
      "source": [
        "#End of Chapter 4\n",
        "\n",
        "\n"
      ],
      "metadata": {
        "id": "rrOPg-WwimaX"
      }
    }
  ]
}