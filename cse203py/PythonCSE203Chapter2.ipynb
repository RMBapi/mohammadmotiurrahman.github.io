{
  "nbformat": 4,
  "nbformat_minor": 0,
  "metadata": {
    "colab": {
      "name": "PythonCSE203Chapter2.ipynb",
      "provenance": [],
      "collapsed_sections": [],
      "include_colab_link": true
    },
    "kernelspec": {
      "name": "python3",
      "display_name": "Python 3"
    },
    "language_info": {
      "name": "python"
    }
  },
  "cells": [
    {
      "cell_type": "markdown",
      "metadata": {
        "id": "view-in-github",
        "colab_type": "text"
      },
      "source": [
        "<a href=\"https://colab.research.google.com/github/mohammadmotiurrahman/mohammadmotiurrahman.github.io/blob/main/cse203py/PythonCSE203Chapter2.ipynb\" target=\"_parent\"><img src=\"https://colab.research.google.com/assets/colab-badge.svg\" alt=\"Open In Colab\"/></a>"
      ]
    },
    {
      "cell_type": "markdown",
      "source": [
        "# Chapter 2 ... move towards data structure\n",
        "\n"
      ],
      "metadata": {
        "id": "y31N6CT6zdCv"
      }
    },
    {
      "cell_type": "markdown",
      "source": [
        "## A review of built-in datastructure\n",
        "\n",
        "\n",
        "\n",
        "1.   List \n",
        "2.   Tuple\n",
        "3.   Set\n",
        "4.   Dictionary\n",
        "5.   String"
      ],
      "metadata": {
        "id": "2YLD-rZrzw39"
      }
    },
    {
      "cell_type": "markdown",
      "source": [
        "### List"
      ],
      "metadata": {
        "id": "gzaL4wUi0QT2"
      }
    },
    {
      "cell_type": "code",
      "source": [
        "myList = [5, 2.5, 5, True, \"banana\"]\n",
        "\n",
        "lenList = len(myList)\n",
        "for i in range(lenList):\n",
        "  print(myList[i], end = \" \")\n",
        "print(\" \")\n",
        "for e in myList:\n",
        "  print(e, end = \" \")"
      ],
      "metadata": {
        "colab": {
          "base_uri": "https://localhost:8080/"
        },
        "id": "C5Yd24eCzs-d",
        "outputId": "9fd1a5c4-d0a4-47e8-c5aa-059a5f0ff2a9"
      },
      "execution_count": null,
      "outputs": [
        {
          "output_type": "stream",
          "name": "stdout",
          "text": [
            "5 2.5 5 True banana  \n",
            "5 2.5 5 True banana "
          ]
        }
      ]
    },
    {
      "cell_type": "markdown",
      "source": [
        "### Tuple"
      ],
      "metadata": {
        "id": "1II4AMZi1AvT"
      }
    },
    {
      "cell_type": "code",
      "source": [
        "myTuple = (5, 2.5, 5, True, \"banana\")\n",
        "\n",
        "lenTuple = len(myTuple)\n",
        "for i in range(lenTuple):\n",
        "  print(myTuple[i], end = \" \")\n",
        "\n",
        "print(\" \")\n",
        "\n",
        "for e in myTuple:\n",
        "  print(e, end = \" \")"
      ],
      "metadata": {
        "colab": {
          "base_uri": "https://localhost:8080/"
        },
        "id": "mHvIOasJ1Kh6",
        "outputId": "ac47b4de-4510-4308-e6bc-0c95f82077ab"
      },
      "execution_count": null,
      "outputs": [
        {
          "output_type": "stream",
          "name": "stdout",
          "text": [
            "5 2.5 5 True banana  \n",
            "5 2.5 5 True banana "
          ]
        }
      ]
    },
    {
      "cell_type": "markdown",
      "source": [
        "### Set "
      ],
      "metadata": {
        "id": "fpvbgwJn04DI"
      }
    },
    {
      "cell_type": "code",
      "source": [
        "mySet = {5, 2.5, 5, True, \"banana\"}\n",
        "\n",
        "#Only element level iteration is available\n",
        "for e in mySet:\n",
        "  print(e, end = \" \")"
      ],
      "metadata": {
        "colab": {
          "base_uri": "https://localhost:8080/"
        },
        "id": "ovNTg-VJ0n1_",
        "outputId": "099db345-1fc5-4d76-f1ba-3ccd8bc04344"
      },
      "execution_count": null,
      "outputs": [
        {
          "output_type": "stream",
          "name": "stdout",
          "text": [
            "banana True 2.5 5 "
          ]
        }
      ]
    },
    {
      "cell_type": "markdown",
      "source": [
        "### Dictionary"
      ],
      "metadata": {
        "id": "n_6s5J7G2BGK"
      }
    },
    {
      "cell_type": "code",
      "source": [
        "myDict = {\"apple\":10, \"banana\":20, \"carrot\":30}\n",
        "\n",
        "for key in myDict.keys():\n",
        "  print(f\"{key, myDict[key]}\")"
      ],
      "metadata": {
        "colab": {
          "base_uri": "https://localhost:8080/"
        },
        "id": "PDFUP8Ti1nvD",
        "outputId": "2eee28f7-d60d-4578-df71-c6b6ef297161"
      },
      "execution_count": null,
      "outputs": [
        {
          "output_type": "stream",
          "name": "stdout",
          "text": [
            "('apple', 10)\n",
            "('banana', 20)\n",
            "('carrot', 30)\n"
          ]
        }
      ]
    },
    {
      "cell_type": "markdown",
      "source": [
        "### String"
      ],
      "metadata": {
        "id": "zO_U7cPD3QgM"
      }
    },
    {
      "cell_type": "code",
      "source": [
        "myStr = \"mango\"\n",
        "lenStr = len(myStr)\n",
        "for i in range(lenStr):\n",
        "  print(myStr[i], end = \" \")\n",
        "\n",
        "print(\" \")\n",
        "\n",
        "for e in myStr:\n",
        "  print(e, end = \" \")"
      ],
      "metadata": {
        "colab": {
          "base_uri": "https://localhost:8080/"
        },
        "id": "KAagqFml2_WC",
        "outputId": "7a5170d9-73ab-4828-c594-b8e44ab23bf1"
      },
      "execution_count": null,
      "outputs": [
        {
          "output_type": "stream",
          "name": "stdout",
          "text": [
            "m a n g o  \n",
            "m a n g o "
          ]
        }
      ]
    },
    {
      "cell_type": "markdown",
      "source": [
        "### Comparison with pass by value and pass by reference as done in C++ language"
      ],
      "metadata": {
        "id": "Tjeo9IZkVqBQ"
      }
    },
    {
      "cell_type": "code",
      "source": [
        "def hello(y):\n",
        "  y = 45\n",
        "\n",
        "def main():\n",
        "  x = 10\n",
        "  hello(x)\n",
        "  print(x)\n",
        "\n",
        "main()"
      ],
      "metadata": {
        "colab": {
          "base_uri": "https://localhost:8080/"
        },
        "id": "zJpRlKPLVoRN",
        "outputId": "227fafad-a194-460f-b39a-ef4d30b94269"
      },
      "execution_count": null,
      "outputs": [
        {
          "output_type": "stream",
          "name": "stdout",
          "text": [
            "10\n"
          ]
        }
      ]
    },
    {
      "cell_type": "code",
      "source": [
        "def hello(y):\n",
        "  y[0] = 45\n",
        "\n",
        "def main():\n",
        "  x = list()\n",
        "  x.append(10)\n",
        "  hello(x)\n",
        "  print(x[0])\n",
        "\n",
        "main()"
      ],
      "metadata": {
        "colab": {
          "base_uri": "https://localhost:8080/"
        },
        "id": "DSm4QbDhXWwA",
        "outputId": "c8efa7cb-791c-4da6-ce73-1c17acb1e989"
      },
      "execution_count": null,
      "outputs": [
        {
          "output_type": "stream",
          "name": "stdout",
          "text": [
            "45\n"
          ]
        }
      ]
    },
    {
      "cell_type": "code",
      "source": [
        "def hello(y):\n",
        "  y.append(45)\n",
        "\n",
        "def main():\n",
        "  x = list()\n",
        "  x.append(10)\n",
        "  hello(x)\n",
        "  print(x[0], x[1])\n",
        "\n",
        "main()"
      ],
      "metadata": {
        "colab": {
          "base_uri": "https://localhost:8080/"
        },
        "id": "lYQKIF4RaEhm",
        "outputId": "99610144-f8b7-4808-f50d-7a69492de9e6"
      },
      "execution_count": null,
      "outputs": [
        {
          "output_type": "stream",
          "name": "stdout",
          "text": [
            "10 45\n"
          ]
        }
      ]
    },
    {
      "cell_type": "markdown",
      "source": [
        "### A note about shallow copy vs deep copy\n",
        "A **shallow copy** creates a new object which stores the reference of the original elements.So, a shallow copy doesn't create a copy of nested objects, instead it just copies the reference of nested objects. This means, a copy process does not recurse or create copies of nested objects itself.\n",
        "\n",
        "A **deep copy** creates a new object and recursively adds the copies of nested objects present in the original elements. The deep copy creates independent copy of original object and all its nested objects.\n",
        "\n",
        "Source: https://www.programiz.com/python-programming/shallow-deep-copy"
      ],
      "metadata": {
        "id": "x8aONYoY_Zt7"
      }
    },
    {
      "cell_type": "code",
      "source": [
        "#copying the elements\n",
        "aList = [1,2,3]\n",
        "bList = aList[:]\n",
        "aList[0] = 123\n",
        "print(bList)\n",
        "print(\"Compare the reference of aList and bList\")\n",
        "print(f\"id(aList): {id(aList)}\")\n",
        "print(f\"id(bList): {id(bList)}\")"
      ],
      "metadata": {
        "colab": {
          "base_uri": "https://localhost:8080/"
        },
        "id": "wvnh11PTDHQH",
        "outputId": "06f85b01-24d7-4c25-cd53-451ebe1c6a56"
      },
      "execution_count": null,
      "outputs": [
        {
          "output_type": "stream",
          "name": "stdout",
          "text": [
            "[1, 2, 3]\n",
            "Compare the reference of aList and bList\n",
            "id(aList): 140377445590112\n",
            "id(bList): 140377445642800\n"
          ]
        }
      ]
    },
    {
      "cell_type": "code",
      "source": [
        "#copying the reference to the list\n",
        "aList = [1,2,3]\n",
        "bList = aList\n",
        "aList[0] = 123\n",
        "print(bList)\n",
        "print(\"Compare the reference of aList and bList\")\n",
        "print(f\"id(aList): {id(aList)}\")\n",
        "print(f\"id(bList): {id(bList)}\")"
      ],
      "metadata": {
        "colab": {
          "base_uri": "https://localhost:8080/"
        },
        "id": "ZiHz9vJcDXAo",
        "outputId": "589bd265-9826-4cfc-930f-5783ea721b13"
      },
      "execution_count": null,
      "outputs": [
        {
          "output_type": "stream",
          "name": "stdout",
          "text": [
            "[123, 2, 3]\n",
            "Compare the reference of aList and bList\n",
            "id(aList): 140377445694272\n",
            "id(bList): 140377445694272\n"
          ]
        }
      ]
    },
    {
      "cell_type": "code",
      "source": [
        "import copy\n",
        "\n",
        "aList = [1,2,3]\n",
        "bList = copy.copy(aList)\n",
        "aList[0] = 'a'\n",
        "print(bList)\n",
        "print(\"Compare the reference of 1st element of aList and bList \")\n",
        "print(f\"id(aList): {[id(i) for i in aList]}\")\n",
        "print(f\"id(bList): {[id(i) for i in bList]}\")\n",
        "\n",
        "aList = [1,2,3]\n",
        "bList = copy.deepcopy(aList)\n",
        "aList[0] = 'a'\n",
        "print(bList)\n",
        "print(\"Compare the references of elements of aList and bList \")\n",
        "print(f\"id(aList): {[id(i) for i in aList]}\")\n",
        "print(f\"id(bList): {[id(i) for i in bList]}\")"
      ],
      "metadata": {
        "colab": {
          "base_uri": "https://localhost:8080/"
        },
        "id": "7LSrtqIx_qh9",
        "outputId": "7e3cd5b2-80a9-4571-890c-b4bd64989a52"
      },
      "execution_count": null,
      "outputs": [
        {
          "output_type": "stream",
          "name": "stdout",
          "text": [
            "[1, 2, 3]\n",
            "Compare the reference of 1st element of aList and bList \n",
            "id(aList): [140377862399664, 11256096, 11256128]\n",
            "id(bList): [11256064, 11256096, 11256128]\n",
            "[1, 2, 3]\n",
            "Compare the reference of elements of aList and bList \n",
            "id(aList): [140377862399664, 11256096, 11256128]\n",
            "id(bList): [11256064, 11256096, 11256128]\n"
          ]
        }
      ]
    },
    {
      "cell_type": "code",
      "source": [
        "import copy\n",
        "\n",
        "aList = [[1,2,3], [5,6,7], [8,9,10]]\n",
        "bList = copy.copy(aList)\n",
        "aList[0][0] = 'shallowcopy'\n",
        "print(bList)\n",
        "print(\"Compare the references of aList and bList \")\n",
        "print(f\"id(aList): {[id(i) for i in aList]}\")\n",
        "print(f\"id(bList): {[id(i) for i in bList]}\")\n",
        "\n",
        "\n",
        "\n",
        "aList = [[1,2,3], [5,6,7], [8,9,10]]\n",
        "bList = copy.deepcopy(aList)\n",
        "aList[0] = 'deepcopy'\n",
        "print(bList)\n",
        "print(\"Compare the reference of aList and bList \")\n",
        "print(f\"id(aList): {[id(i) for i in aList]}\")\n",
        "print(f\"id(bList): {[id(i) for i in bList]}\")\n"
      ],
      "metadata": {
        "colab": {
          "base_uri": "https://localhost:8080/"
        },
        "id": "4N65jjMXCbhg",
        "outputId": "e7741575-d6da-47e8-dd55-12ee4b7f1d61"
      },
      "execution_count": null,
      "outputs": [
        {
          "output_type": "stream",
          "name": "stdout",
          "text": [
            "[['shallowcopy', 2, 3], [5, 6, 7], [8, 9, 10]]\n",
            "Compare the references of aList and bList \n",
            "id(aList): [140377498881552, 140377498879712, 140377498880192]\n",
            "id(bList): [140377498881552, 140377498879712, 140377498880192]\n",
            "[[1, 2, 3], [5, 6, 7], [8, 9, 10]]\n",
            "Compare the reference of aList and bList \n",
            "id(aList): [140377860617712, 140377498818032, 140377524461888]\n",
            "id(bList): [140377498863808, 140377498878992, 140377498879072]\n"
          ]
        }
      ]
    },
    {
      "cell_type": "markdown",
      "source": [
        "### Recursion"
      ],
      "metadata": {
        "id": "OpwMgYB34lQi"
      }
    },
    {
      "cell_type": "code",
      "source": [
        "def printNum(a):\n",
        "  if (a == 5):\n",
        "    return\n",
        "  print(a, end = \" \")\n",
        "  a = a + 1\n",
        "  printNum(a)\n",
        "\n",
        "def main():\n",
        "  printNum(0)\n",
        "\n",
        "main()"
      ],
      "metadata": {
        "colab": {
          "base_uri": "https://localhost:8080/"
        },
        "id": "wtF2GteR4ivT",
        "outputId": "a7bedebc-d81d-426f-cb7b-9419c5d43064"
      },
      "execution_count": null,
      "outputs": [
        {
          "output_type": "stream",
          "name": "stdout",
          "text": [
            "0 1 2 3 4 "
          ]
        }
      ]
    },
    {
      "cell_type": "code",
      "source": [
        "def printNum(a, myList):\n",
        "  if (a == 5):\n",
        "    print(myList)\n",
        "    return\n",
        "  myList.append(a)\n",
        "  a = a + 1\n",
        "  printNum(a, myList)\n",
        "\n",
        "def main():\n",
        "  myList = []\n",
        "  printNum(0, myList)\n",
        "\n",
        "main()"
      ],
      "metadata": {
        "id": "-YkkckYD4Y_J",
        "colab": {
          "base_uri": "https://localhost:8080/"
        },
        "outputId": "c933e21f-36e2-41a5-80b8-fcc58dc0b68a"
      },
      "execution_count": null,
      "outputs": [
        {
          "output_type": "stream",
          "name": "stdout",
          "text": [
            "[0, 1, 2, 3, 4]\n"
          ]
        }
      ]
    },
    {
      "cell_type": "markdown",
      "source": [
        "### Class in Python"
      ],
      "metadata": {
        "id": "yiId_PGtNbFm"
      }
    },
    {
      "cell_type": "code",
      "source": [
        "class node:\n",
        "  a = 12\n",
        "\n",
        "n = node\n",
        "n.a = 13\n",
        "print(n.a)"
      ],
      "metadata": {
        "colab": {
          "base_uri": "https://localhost:8080/"
        },
        "id": "qntizDumNdV7",
        "outputId": "25988952-b676-45eb-b0f9-b598e067d4d8"
      },
      "execution_count": null,
      "outputs": [
        {
          "output_type": "stream",
          "name": "stdout",
          "text": [
            "13\n"
          ]
        }
      ]
    },
    {
      "cell_type": "code",
      "source": [
        "class node:\n",
        "  def __init__(self):\n",
        "    self.a = 12\n",
        "    print(f\"self.a: {self.a}\")\n",
        "    f = 39\n",
        "\n",
        "  def callMe(self, val):\n",
        "    b = val + self.a\n",
        "    print(f\"b: {b}\")\n",
        "    d = None\n",
        "\n",
        "  e = 33\n",
        "\n",
        "n = node()\n",
        "print(n.a)\n",
        "###################\n",
        "n.b = 89\n",
        "print(n.b)\n",
        "print(n.callMe(59))\n",
        "###################\n",
        "n.e = 78\n",
        "print(n.e)\n",
        "\n",
        "#For more - https://colab.research.google.com/github/mohammadmotiurrahman/mohammadmotiurrahman.github.io/blob/main/spring2021/python/code/Chapter5.ipynb"
      ],
      "metadata": {
        "colab": {
          "base_uri": "https://localhost:8080/"
        },
        "id": "bPX-jd54QBWZ",
        "outputId": "faee2734-6f88-4cb5-946a-469103601337"
      },
      "execution_count": null,
      "outputs": [
        {
          "output_type": "stream",
          "name": "stdout",
          "text": [
            "self.a: 12\n",
            "12\n",
            "89\n",
            "b: 71\n",
            "None\n",
            "78\n"
          ]
        }
      ]
    },
    {
      "cell_type": "markdown",
      "source": [
        "# End of Chapter 2"
      ],
      "metadata": {
        "id": "1M1KiVOLkomH"
      }
    }
  ]
}