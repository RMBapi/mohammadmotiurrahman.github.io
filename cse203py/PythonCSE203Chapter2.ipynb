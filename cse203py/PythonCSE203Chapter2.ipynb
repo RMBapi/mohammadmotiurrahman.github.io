{
  "nbformat": 4,
  "nbformat_minor": 0,
  "metadata": {
    "colab": {
      "name": "PythonCSE203Chapter2.ipynb",
      "provenance": [],
      "include_colab_link": true
    },
    "kernelspec": {
      "name": "python3",
      "display_name": "Python 3"
    },
    "language_info": {
      "name": "python"
    }
  },
  "cells": [
    {
      "cell_type": "markdown",
      "metadata": {
        "id": "view-in-github",
        "colab_type": "text"
      },
      "source": [
        "<a href=\"https://colab.research.google.com/github/mohammadmotiurrahman/mohammadmotiurrahman.github.io/blob/main/cse203py/PythonCSE203Chapter2.ipynb\" target=\"_parent\"><img src=\"https://colab.research.google.com/assets/colab-badge.svg\" alt=\"Open In Colab\"/></a>"
      ]
    },
    {
      "cell_type": "markdown",
      "source": [
        "#Move towards data structure\n",
        "\n"
      ],
      "metadata": {
        "id": "y31N6CT6zdCv"
      }
    },
    {
      "cell_type": "markdown",
      "source": [
        "## A review of built-in datastructure\n",
        "\n",
        "\n",
        "\n",
        "1.   List \n",
        "2.   Tuple\n",
        "3.   Set\n",
        "4.   Dictionary\n",
        "5.   String"
      ],
      "metadata": {
        "id": "2YLD-rZrzw39"
      }
    },
    {
      "cell_type": "markdown",
      "source": [
        "### List"
      ],
      "metadata": {
        "id": "gzaL4wUi0QT2"
      }
    },
    {
      "cell_type": "code",
      "source": [
        "myList = [5, 2.5, 5, True, \"banana\"]\n",
        "\n",
        "lenList = len(myList)\n",
        "for i in range(lenList):\n",
        "  print(myList[i], end = \" \")\n",
        "print(\" \")\n",
        "for e in myList:\n",
        "  print(e, end = \" \")"
      ],
      "metadata": {
        "colab": {
          "base_uri": "https://localhost:8080/"
        },
        "id": "C5Yd24eCzs-d",
        "outputId": "9fd1a5c4-d0a4-47e8-c5aa-059a5f0ff2a9"
      },
      "execution_count": null,
      "outputs": [
        {
          "output_type": "stream",
          "name": "stdout",
          "text": [
            "5 2.5 5 True banana  \n",
            "5 2.5 5 True banana "
          ]
        }
      ]
    },
    {
      "cell_type": "markdown",
      "source": [
        "### Tuple"
      ],
      "metadata": {
        "id": "1II4AMZi1AvT"
      }
    },
    {
      "cell_type": "code",
      "source": [
        "myTuple = (5, 2.5, 5, True, \"banana\")\n",
        "\n",
        "lenTuple = len(myTuple)\n",
        "for i in range(lenTuple):\n",
        "  print(myTuple[i], end = \" \")\n",
        "\n",
        "print(\" \")\n",
        "\n",
        "for e in myTuple:\n",
        "  print(e, end = \" \")"
      ],
      "metadata": {
        "colab": {
          "base_uri": "https://localhost:8080/"
        },
        "id": "mHvIOasJ1Kh6",
        "outputId": "ac47b4de-4510-4308-e6bc-0c95f82077ab"
      },
      "execution_count": null,
      "outputs": [
        {
          "output_type": "stream",
          "name": "stdout",
          "text": [
            "5 2.5 5 True banana  \n",
            "5 2.5 5 True banana "
          ]
        }
      ]
    },
    {
      "cell_type": "markdown",
      "source": [
        "### Set "
      ],
      "metadata": {
        "id": "fpvbgwJn04DI"
      }
    },
    {
      "cell_type": "code",
      "source": [
        "mySet = {5, 2.5, 5, True, \"banana\"}\n",
        "\n",
        "#Only element level iteration is available\n",
        "for e in mySet:\n",
        "  print(e, end = \" \")"
      ],
      "metadata": {
        "colab": {
          "base_uri": "https://localhost:8080/"
        },
        "id": "ovNTg-VJ0n1_",
        "outputId": "099db345-1fc5-4d76-f1ba-3ccd8bc04344"
      },
      "execution_count": null,
      "outputs": [
        {
          "output_type": "stream",
          "name": "stdout",
          "text": [
            "banana True 2.5 5 "
          ]
        }
      ]
    },
    {
      "cell_type": "markdown",
      "source": [
        "### Dictionary"
      ],
      "metadata": {
        "id": "n_6s5J7G2BGK"
      }
    },
    {
      "cell_type": "code",
      "source": [
        "myDict = {\"apple\":10, \"banana\":20, \"carrot\":30}\n",
        "\n",
        "for key in myDict.keys():\n",
        "  print(f\"{key, myDict[key]}\")"
      ],
      "metadata": {
        "colab": {
          "base_uri": "https://localhost:8080/"
        },
        "id": "PDFUP8Ti1nvD",
        "outputId": "2eee28f7-d60d-4578-df71-c6b6ef297161"
      },
      "execution_count": null,
      "outputs": [
        {
          "output_type": "stream",
          "name": "stdout",
          "text": [
            "('apple', 10)\n",
            "('banana', 20)\n",
            "('carrot', 30)\n"
          ]
        }
      ]
    },
    {
      "cell_type": "markdown",
      "source": [
        "### String"
      ],
      "metadata": {
        "id": "zO_U7cPD3QgM"
      }
    },
    {
      "cell_type": "code",
      "source": [
        "myStr = \"mango\"\n",
        "lenStr = len(myStr)\n",
        "for i in range(lenStr):\n",
        "  print(myStr[i], end = \" \")\n",
        "\n",
        "print(\" \")\n",
        "\n",
        "for e in myStr:\n",
        "  print(e, end = \" \")"
      ],
      "metadata": {
        "colab": {
          "base_uri": "https://localhost:8080/"
        },
        "id": "KAagqFml2_WC",
        "outputId": "7a5170d9-73ab-4828-c594-b8e44ab23bf1"
      },
      "execution_count": null,
      "outputs": [
        {
          "output_type": "stream",
          "name": "stdout",
          "text": [
            "m a n g o  \n",
            "m a n g o "
          ]
        }
      ]
    },
    {
      "cell_type": "markdown",
      "source": [
        "### Recursion"
      ],
      "metadata": {
        "id": "OpwMgYB34lQi"
      }
    },
    {
      "cell_type": "code",
      "source": [
        "def printNum(a):\n",
        "  if (a == 5):\n",
        "    return\n",
        "  print(a, end = \" \")\n",
        "  a = a + 1\n",
        "  printNum(a)\n",
        "\n",
        "def main():\n",
        "  printNum(0)\n",
        "\n",
        "main()"
      ],
      "metadata": {
        "colab": {
          "base_uri": "https://localhost:8080/"
        },
        "id": "wtF2GteR4ivT",
        "outputId": "05f1d6ed-4151-4de0-d355-f188d224713f"
      },
      "execution_count": null,
      "outputs": [
        {
          "output_type": "stream",
          "name": "stdout",
          "text": [
            "0 1 2 3 4 "
          ]
        }
      ]
    },
    {
      "cell_type": "code",
      "source": [
        ""
      ],
      "metadata": {
        "id": "-YkkckYD4Y_J"
      },
      "execution_count": null,
      "outputs": []
    }
  ]
}