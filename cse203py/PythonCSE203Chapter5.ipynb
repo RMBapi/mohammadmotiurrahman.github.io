{
  "nbformat": 4,
  "nbformat_minor": 0,
  "metadata": {
    "colab": {
      "provenance": [],
      "collapsed_sections": [],
      "include_colab_link": true
    },
    "kernelspec": {
      "name": "python3",
      "display_name": "Python 3"
    },
    "language_info": {
      "name": "python"
    }
  },
  "cells": [
    {
      "cell_type": "markdown",
      "metadata": {
        "id": "view-in-github",
        "colab_type": "text"
      },
      "source": [
        "<a href=\"https://colab.research.google.com/github/mohammadmotiurrahman/mohammadmotiurrahman.github.io/blob/main/cse203py/PythonCSE203Chapter5.ipynb\" target=\"_parent\"><img src=\"https://colab.research.google.com/assets/colab-badge.svg\" alt=\"Open In Colab\"/></a>"
      ]
    },
    {
      "cell_type": "markdown",
      "source": [
        "#Binary Search Tree"
      ],
      "metadata": {
        "id": "_k1bwTXOQmPc"
      }
    },
    {
      "cell_type": "markdown",
      "source": [
        "### Implementation of BST without being concerned about garbage collection V1"
      ],
      "metadata": {
        "id": "b3l9khDEEtJu"
      }
    },
    {
      "cell_type": "code",
      "source": [
        "class node:\n",
        "\tdef __init__(self,m):\n",
        "\t\tself.value = m\n",
        "\t\tself.left = None\n",
        "\t\tself.right = None\n",
        "\n",
        "class BST:\n",
        "\tdef __init__(self):\n",
        "\t\tself.root = None\n",
        "\n",
        "\n",
        "\tdef add(self,t, val):\n",
        "\t\tif t == None:\n",
        "\t\t\treturn node(val)\n",
        "\t\telif val > t.value:\n",
        "\t\t\tt.right = self.add(t.right, val)\n",
        "\t\telif val < t.value:\n",
        "\t\t\tt.left = self.add(t.left, val)\n",
        "\t\treturn t\n",
        "\n",
        "\tdef addValue(self, v):\n",
        "\t\tself.root = self.add(self.root, v)\n",
        "\n",
        "\n",
        "\tdef printBSTHelper(self, root):\n",
        "\t\tif root == None: return \n",
        "\t\tprint(root.value, end = \" \")\n",
        "\t\tself.printBSTHelper(root.left)\n",
        "\t\tself.printBSTHelper(root.right)\n",
        "\n",
        "\tdef printBST(self):\n",
        "\t\tself.printBSTHelper(self.root)\n",
        "\n",
        "\t\n",
        "def main():\n",
        "\tb = BST()\n",
        "\tb.addValue(9)\n",
        "\tb.addValue(92)\n",
        "\tb.addValue(93)\n",
        "\tb.printBST()\n",
        "\n",
        "main()"
      ],
      "metadata": {
        "id": "l9xgY3rk4hBu"
      },
      "execution_count": null,
      "outputs": []
    },
    {
      "cell_type": "markdown",
      "source": [
        "### Implementation of BST without being concerned about garbage collection V2"
      ],
      "metadata": {
        "id": "-ayPAsmX4lMg"
      }
    },
    {
      "cell_type": "code",
      "source": [
        "class node:\n",
        "  def __init__(self, data, left = None, right = None):\n",
        "    self.data = data\n",
        "    self.left = left\n",
        "    self.right = right\n",
        "\n",
        "\n",
        "def add(t, val):\n",
        "\n",
        "  if t == None:\n",
        "    return node(val)\n",
        "    \n",
        "  elif val > t.data:\n",
        "    t.right = add(t.right, val)\n",
        "\n",
        "  elif val < t.data:\n",
        "    t.left = add(t.left, val)\n",
        "\n",
        "  return t\n",
        "\n",
        "\n",
        "def findMax(t):\n",
        "  if t == None: return 10000\n",
        "  if t.right == None: return t.data\n",
        "  return findMax(t.right)\n",
        "\n",
        "def findMin(t):\n",
        "  if t == None: return -10000\n",
        "  if t.left == None: return t.data\n",
        "  return findMin(t.left)\n",
        "\n",
        "\n",
        "def printBST(t):\n",
        "  if t == None: return \n",
        "  print(t.data,end = \" \")\n",
        "  printBST(t.left)\n",
        "  printBST(t.right)\n",
        "\n",
        "\n",
        "\n",
        "def deleteNode(t, val):\n",
        "  if t == None:\n",
        "    return None\n",
        "\n",
        "  if val < t.data:\n",
        "    t.left = deleteNode(t.left, val)\n",
        "\n",
        "  elif val > t.data:\n",
        "    t.right = deleteNode(t.right, val)\n",
        "\n",
        "  else:\n",
        "\n",
        "    if t.right == None and t.left == None:\n",
        "      return None\n",
        "\n",
        "    elif t.left == None:\n",
        "      return t.right\n",
        "\n",
        "    elif t.right == None:\n",
        "      return t.left\n",
        "\n",
        "    else:\n",
        "      minVal = findMin(t.right)\n",
        "      t.data = minVal\n",
        "      t.right = deleteNode(t.right, t.data)\n",
        "  return t\n",
        "\n",
        "\n",
        "def main():\n",
        "  t = None\n",
        "  t = add(t, 10)\n",
        "  t = add(t, 120)\n",
        "  t = add(t, 1)\n",
        "  t = add(t, 61)\n",
        "  t = add(t, 19)\n",
        "  t = add(t, 100)\n",
        "  \n",
        "  printBST(t)\n",
        "  print(\" \\n\")\n",
        "  t = deleteNode(t, 10)\n",
        "  printBST(t)\n",
        "main()"
      ],
      "metadata": {
        "id": "07MS90vaEax9"
      },
      "execution_count": null,
      "outputs": []
    },
    {
      "cell_type": "markdown",
      "source": [
        "### Implementation of BST with garbage collection "
      ],
      "metadata": {
        "id": "i_wnZmBwEmKq"
      }
    },
    {
      "cell_type": "code",
      "source": [
        "class node:\n",
        "  def __init__(self, data, left = None, right = None):\n",
        "    self.data = data\n",
        "    self.left = left\n",
        "    self.right = right"
      ],
      "metadata": {
        "id": "99qNmkli8Rbg"
      },
      "execution_count": null,
      "outputs": []
    },
    {
      "cell_type": "code",
      "source": [
        "def add(t , val):\n",
        "  if not t:\n",
        "    return node(val)\n",
        "  elif val < t.data:\n",
        "    return node(t.data, add(t.left, val), t.right)\n",
        "  elif val > t.data:\n",
        "    return node(t.data, t.left, add(t.right, val))\n",
        "  else:\n",
        "    return node(val, t.left, t.right)"
      ],
      "metadata": {
        "id": "_TYKKOs6jjRj"
      },
      "execution_count": null,
      "outputs": []
    },
    {
      "cell_type": "code",
      "source": [
        "def add_iterator(t, values):\n",
        "  for v in values:\n",
        "    t = add(t, v)\n",
        "  return t"
      ],
      "metadata": {
        "id": "qt7oziNvzgBz"
      },
      "execution_count": null,
      "outputs": []
    },
    {
      "cell_type": "code",
      "source": [
        "from math import inf\n",
        "def maxVal(t, r = -inf):\n",
        "  if not t:\n",
        "    return r\n",
        "  elif t.data > r:\n",
        "    return max(maxVal(t.left, t.data), maxVal(t.right, t.data))\n",
        "  else:\n",
        "    return max(maxVal(t.left, r), maxVal(t.right, r))"
      ],
      "metadata": {
        "id": "auaDm9vA0AB3"
      },
      "execution_count": null,
      "outputs": []
    },
    {
      "cell_type": "code",
      "source": [
        "from math import inf\n",
        "def minVal(t, r = inf):\n",
        "  if not t:\n",
        "    return r\n",
        "  elif t.data < r:\n",
        "    return max(minVal(t.left, t.data), minVal(t.right, t.data))\n",
        "  else:\n",
        "    return max(minVal(t.left, r), minVal(t.right, r))"
      ],
      "metadata": {
        "id": "HZs_Q38F1pJu"
      },
      "execution_count": null,
      "outputs": []
    },
    {
      "cell_type": "code",
      "source": [
        "def inorder(t):\n",
        "  if not t: \n",
        "    return \n",
        "  yield from inorder(t.left)\n",
        "  yield t.data\n",
        "  yield from inorder(t.right)\n"
      ],
      "metadata": {
        "id": "1toN8HRv2MNR"
      },
      "execution_count": null,
      "outputs": []
    },
    {
      "cell_type": "code",
      "source": [
        "def preorder(t):\n",
        "  if not t:\n",
        "    return \n",
        "  yield t.data\n",
        "  yield from preorder(t.left)\n",
        "  yield from preorder(t.right)"
      ],
      "metadata": {
        "id": "-R4bmRspCymc"
      },
      "execution_count": null,
      "outputs": []
    },
    {
      "cell_type": "code",
      "source": [
        "def remove(t , value):\n",
        "  if not t:\n",
        "    return t\n",
        "  elif value < t.data:\n",
        "    return node(t.data, remove(t.left, value), t.right)\n",
        "  elif value > t.data:\n",
        "    return node(t.data, t.left, remove(t.right, value))\n",
        "  else:\n",
        "    return add_iterator(t.left, preorder(t.right))"
      ],
      "metadata": {
        "id": "GDryfw2ALABx"
      },
      "execution_count": null,
      "outputs": []
    },
    {
      "cell_type": "code",
      "source": [
        "def to_str(t):\n",
        "  return \"->\".join(map(str,inorder(t)))"
      ],
      "metadata": {
        "id": "SRvMoGm9PZFO"
      },
      "execution_count": null,
      "outputs": []
    },
    {
      "cell_type": "code",
      "source": [
        "import random\n",
        "random.seed(10)\n",
        "def main():\n",
        "  n = None\n",
        "  for i in range(10):\n",
        "    n = add(n, random.randint(0,200))\n",
        "  print(to_str(n))\n",
        "  n = remove(n,52)\n",
        "  print(to_str(n))\n",
        "main()"
      ],
      "metadata": {
        "colab": {
          "base_uri": "https://localhost:8080/"
        },
        "id": "WVYPrPkfNvjg",
        "outputId": "13e3af41-ebbb-4d2b-96a9-37f68d4c7518"
      },
      "execution_count": null,
      "outputs": [
        {
          "output_type": "stream",
          "name": "stdout",
          "text": [
            "3->8->52->71->109->118->123->125->146->147\n",
            "3->8->71->109->118->123->125->146->147\n"
          ]
        }
      ]
    },
    {
      "cell_type": "code",
      "source": [],
      "metadata": {
        "id": "Y2eAlESPEYm9"
      },
      "execution_count": null,
      "outputs": []
    },
    {
      "cell_type": "markdown",
      "source": [
        "#End of Chapter 5"
      ],
      "metadata": {
        "id": "tr0X8WraQiHu"
      }
    }
  ]
}