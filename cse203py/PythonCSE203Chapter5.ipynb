{
  "nbformat": 4,
  "nbformat_minor": 0,
  "metadata": {
    "colab": {
      "name": "PythonCSE203Chapter5.ipynb",
      "provenance": [],
      "collapsed_sections": [],
      "authorship_tag": "ABX9TyNBIN0C+LrjcDcTf54ZFDBo",
      "include_colab_link": true
    },
    "kernelspec": {
      "name": "python3",
      "display_name": "Python 3"
    },
    "language_info": {
      "name": "python"
    }
  },
  "cells": [
    {
      "cell_type": "markdown",
      "metadata": {
        "id": "view-in-github",
        "colab_type": "text"
      },
      "source": [
        "<a href=\"https://colab.research.google.com/github/mohammadmotiurrahman/mohammadmotiurrahman.github.io/blob/main/cse203py/PythonCSE203Chapter5.ipynb\" target=\"_parent\"><img src=\"https://colab.research.google.com/assets/colab-badge.svg\" alt=\"Open In Colab\"/></a>"
      ]
    },
    {
      "cell_type": "markdown",
      "source": [
        "#Binary Search Tree"
      ],
      "metadata": {
        "id": "_k1bwTXOQmPc"
      }
    },
    {
      "cell_type": "code",
      "execution_count": null,
      "metadata": {
        "id": "lA9R9dQS7yOS"
      },
      "outputs": [],
      "source": [
        "### Implementation of BST"
      ]
    },
    {
      "cell_type": "code",
      "source": [
        "class node:\n",
        "  def __init__(self, data, left = None, right = None):\n",
        "    self.data = data\n",
        "    self.left = left\n",
        "    self.right = right"
      ],
      "metadata": {
        "id": "99qNmkli8Rbg"
      },
      "execution_count": null,
      "outputs": []
    },
    {
      "cell_type": "code",
      "source": [
        "def add(t , val):\n",
        "  if not t:\n",
        "    return node(val)\n",
        "  elif val < t.data:\n",
        "    return node(t.data, add(t.left, val), t.right)\n",
        "  elif val > t.data:\n",
        "    return node(t.data, t.left, add(t.right, val))\n",
        "  else:\n",
        "    return node(val, t.left, t.right)"
      ],
      "metadata": {
        "id": "_TYKKOs6jjRj"
      },
      "execution_count": null,
      "outputs": []
    },
    {
      "cell_type": "code",
      "source": [
        "def add_iterator(t, values):\n",
        "  for v in values:\n",
        "    t = add(t, v)\n",
        "  return t"
      ],
      "metadata": {
        "id": "qt7oziNvzgBz"
      },
      "execution_count": null,
      "outputs": []
    },
    {
      "cell_type": "code",
      "source": [
        "from math import inf\n",
        "def maxVal(t, r = -inf):\n",
        "  if not t:\n",
        "    return r\n",
        "  elif t.data > r:\n",
        "    return max(maxVal(t.left, t.data), maxVal(t.right, t.data))\n",
        "  else:\n",
        "    return max(maxVal(t.left, r), maxVal(t.right, r))"
      ],
      "metadata": {
        "id": "auaDm9vA0AB3"
      },
      "execution_count": null,
      "outputs": []
    },
    {
      "cell_type": "code",
      "source": [
        "from math import inf\n",
        "def minVal(t, r = inf):\n",
        "  if not t:\n",
        "    return r\n",
        "  elif t.data < r:\n",
        "    return max(minVal(t.left, t.data), minVal(t.right, t.data))\n",
        "  else:\n",
        "    return max(minVal(t.left, r), minVal(t.right, r))"
      ],
      "metadata": {
        "id": "HZs_Q38F1pJu"
      },
      "execution_count": null,
      "outputs": []
    },
    {
      "cell_type": "code",
      "source": [
        "def inorder(t):\n",
        "  if not t: \n",
        "    return \n",
        "  yield from inorder(t.left)\n",
        "  yield t.data\n",
        "  yield from inorder(t.right)\n"
      ],
      "metadata": {
        "id": "1toN8HRv2MNR"
      },
      "execution_count": null,
      "outputs": []
    },
    {
      "cell_type": "code",
      "source": [
        "def preorder(t):\n",
        "  if not t:\n",
        "    return \n",
        "  yield t.data\n",
        "  yield from preorder(t.left)\n",
        "  yield from preorder(t.right)"
      ],
      "metadata": {
        "id": "-R4bmRspCymc"
      },
      "execution_count": null,
      "outputs": []
    },
    {
      "cell_type": "code",
      "source": [
        "def remove(t , value):\n",
        "  if not t:\n",
        "    return t\n",
        "  elif value < t.data:\n",
        "    return node(t.data, remove(t.left, value), t.right)\n",
        "  elif value > t.data:\n",
        "    return node(t.data, t.left, remove(t.right, value))\n",
        "  else:\n",
        "    return add_iterator(t.left, preorder(t.right))"
      ],
      "metadata": {
        "id": "GDryfw2ALABx"
      },
      "execution_count": null,
      "outputs": []
    },
    {
      "cell_type": "code",
      "source": [
        "def to_str(t):\n",
        "  return \"->\".join(map(str,inorder(t)))"
      ],
      "metadata": {
        "id": "SRvMoGm9PZFO"
      },
      "execution_count": null,
      "outputs": []
    },
    {
      "cell_type": "code",
      "source": [
        "import random\n",
        "random.seed(10)\n",
        "def main():\n",
        "  n = None\n",
        "  for i in range(10):\n",
        "    n = add(n, random.randint(0,200))\n",
        "  print(to_str(n))\n",
        "  n = remove(n,52)\n",
        "  print(to_str(n))\n",
        "main()"
      ],
      "metadata": {
        "colab": {
          "base_uri": "https://localhost:8080/"
        },
        "id": "WVYPrPkfNvjg",
        "outputId": "13e3af41-ebbb-4d2b-96a9-37f68d4c7518"
      },
      "execution_count": null,
      "outputs": [
        {
          "output_type": "stream",
          "name": "stdout",
          "text": [
            "3->8->52->71->109->118->123->125->146->147\n",
            "3->8->71->109->118->123->125->146->147\n"
          ]
        }
      ]
    },
    {
      "cell_type": "markdown",
      "source": [
        "#End of Chapter 5"
      ],
      "metadata": {
        "id": "tr0X8WraQiHu"
      }
    }
  ]
}