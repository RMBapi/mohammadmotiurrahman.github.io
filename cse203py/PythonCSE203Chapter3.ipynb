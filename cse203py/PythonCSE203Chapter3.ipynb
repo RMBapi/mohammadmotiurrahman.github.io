{
  "nbformat": 4,
  "nbformat_minor": 0,
  "metadata": {
    "colab": {
      "name": "PythonCSE203Chapter3.ipynb",
      "provenance": [],
      "collapsed_sections": [],
      "authorship_tag": "ABX9TyMNQfrGSTCBKjBjM3rSFB5W",
      "include_colab_link": true
    },
    "kernelspec": {
      "name": "python3",
      "display_name": "Python 3"
    },
    "language_info": {
      "name": "python"
    }
  },
  "cells": [
    {
      "cell_type": "markdown",
      "metadata": {
        "id": "view-in-github",
        "colab_type": "text"
      },
      "source": [
        "<a href=\"https://colab.research.google.com/github/mohammadmotiurrahman/mohammadmotiurrahman.github.io/blob/main/cse203py/PythonCSE203Chapter3.ipynb\" target=\"_parent\"><img src=\"https://colab.research.google.com/assets/colab-badge.svg\" alt=\"Open In Colab\"/></a>"
      ]
    },
    {
      "cell_type": "markdown",
      "source": [
        "#Linked List\n",
        "\n",
        "Implementation of Single Linked List\n",
        "\n",
        "Implementation of Double Linked List"
      ],
      "metadata": {
        "id": "DGwwji7cNfLr"
      }
    },
    {
      "cell_type": "markdown",
      "source": [
        "## A word about reference and values"
      ],
      "metadata": {
        "id": "esBmAgWJNQs9"
      }
    },
    {
      "cell_type": "code",
      "source": [
        "class fruit:\n",
        "  a = 0\n",
        "\n",
        "def hello(p):\n",
        "  p.a = 10\n",
        "\n",
        "def main():\n",
        "  f = fruit()\n",
        "  f.a = 20\n",
        "  hello(f)\n",
        "  print(\"Realize the value of the element has changed\")\n",
        "  print(f.a)\n",
        "\n",
        "main() "
      ],
      "metadata": {
        "colab": {
          "base_uri": "https://localhost:8080/"
        },
        "id": "zCuTvNY70TKw",
        "outputId": "4e3e497f-fabe-413d-9e28-08b9707062ce"
      },
      "execution_count": 61,
      "outputs": [
        {
          "output_type": "stream",
          "name": "stdout",
          "text": [
            "Realize the value of the element has changed\n",
            "10\n"
          ]
        }
      ]
    },
    {
      "cell_type": "code",
      "source": [
        "class fruit:\n",
        "  a = 0\n",
        "\n",
        "def hello(p):\n",
        "  p = fruit()\n",
        "  print(f\"id(p): {id(p)}\")\n",
        "  p.a = 10\n",
        "\n",
        "def main():\n",
        "  f = None\n",
        "  print(f\"Before calling function hello - id(f): {id(f)}\")\n",
        "  hello(f)\n",
        "  print(f\"After calling function hello - id(f): {id(f)}\")\n",
        "\n",
        "main() "
      ],
      "metadata": {
        "colab": {
          "base_uri": "https://localhost:8080/"
        },
        "id": "qdwpbqKTIFOl",
        "outputId": "435abe33-b3d2-4ea0-bd74-7fc2fd41d443"
      },
      "execution_count": 62,
      "outputs": [
        {
          "output_type": "stream",
          "name": "stdout",
          "text": [
            "Before calling function hello - id(f): 11125344\n",
            "id(p): 140409496781712\n",
            "After calling function hello - id(f): 11125344\n"
          ]
        }
      ]
    },
    {
      "cell_type": "code",
      "source": [
        "def hello(a):\n",
        "  a.append(10)\n",
        "\n",
        "def main():\n",
        "  myList = list()\n",
        "  print(f\"id(myList): {id(myList)}\")\n",
        "  print(myList)\n",
        "  hello(myList)\n",
        "  print(f\"id(myList): {id(myList)}\")\n",
        "  print(myList)\n",
        "  \n",
        "main()\n",
        "#Realize the content of the list has changed"
      ],
      "metadata": {
        "colab": {
          "base_uri": "https://localhost:8080/"
        },
        "id": "gMllvilaDH5M",
        "outputId": "82e41feb-c759-435b-adad-61f277dbfb71"
      },
      "execution_count": 63,
      "outputs": [
        {
          "output_type": "stream",
          "name": "stdout",
          "text": [
            "id(myList): 140409496856208\n",
            "[]\n",
            "id(myList): 140409496856208\n",
            "[10]\n"
          ]
        }
      ]
    },
    {
      "cell_type": "code",
      "source": [
        "def hello(a):\n",
        "  a = list([1,2,3])\n",
        "  print(f\"id(a) :{id(a)}\")\n",
        "\n",
        "def main():\n",
        "  myList = list()\n",
        "  print(f\"id(myList): {id(myList)}\")\n",
        "  print(myList)\n",
        "  hello(myList)\n",
        "  print(f\"id(myList):  {id(myList)}\")\n",
        "  print(myList)\n",
        "  \n",
        "#The content of the list has not changed\n",
        "#No pass by referencing happening here\n",
        "main()"
      ],
      "metadata": {
        "colab": {
          "base_uri": "https://localhost:8080/"
        },
        "id": "u-sEvccSKAno",
        "outputId": "c8a9cb18-7c41-4a3b-f631-7261484db593"
      },
      "execution_count": 64,
      "outputs": [
        {
          "output_type": "stream",
          "name": "stdout",
          "text": [
            "id(myList): 140409497129600\n",
            "[]\n",
            "id(a) :140409497159872\n",
            "id(myList):  140409497129600\n",
            "[]\n"
          ]
        }
      ]
    },
    {
      "cell_type": "markdown",
      "source": [
        "#Singly Linked List"
      ],
      "metadata": {
        "id": "4O6HNZOIzAjN"
      }
    },
    {
      "cell_type": "code",
      "source": [
        "class node:\n",
        "  def __init__(self, val):\n",
        "    self.data = val\n",
        "    self.next = None"
      ],
      "metadata": {
        "id": "gTHzvAL964bR"
      },
      "execution_count": 65,
      "outputs": []
    },
    {
      "cell_type": "code",
      "source": [
        "def addNode(p, value):\n",
        "  if p is None: \n",
        "    p = node(value)\n",
        "\n",
        "  else:\n",
        "    \n",
        "    current = p\n",
        "    while current.next:\n",
        "      current = current.next\n",
        "    \n",
        "    x = node(value)\n",
        "    current.next = x\n",
        "  \n",
        "  #since p is initialized using passbyvalue\n",
        "  #so address of p is returned  \n",
        "  return p\n"
      ],
      "metadata": {
        "id": "XS1aiXqA0MAA"
      },
      "execution_count": 66,
      "outputs": []
    },
    {
      "cell_type": "code",
      "source": [
        "def addValueAtIndex(p, value, index):\n",
        "  if index == 0:\n",
        "    a = node(value)\n",
        "    a.next = p\n",
        "    p = a\n",
        "  else:\n",
        "    current = p\n",
        "    for i in range(index - 1):\n",
        "      current = current.next\n",
        "\n",
        "    h = node(value)\n",
        "    h.next = current.next\n",
        "    current.next = h\n",
        "  return p\n"
      ],
      "metadata": {
        "id": "jzmfiwH2PtpY"
      },
      "execution_count": 67,
      "outputs": []
    },
    {
      "cell_type": "code",
      "source": [
        "def removeElement(a, value):\n",
        "  if a == None:\n",
        "    return a\n",
        "    \n",
        "  while a.data == value:\n",
        "    d = a\n",
        "    a = a.next\n",
        "    d = None\n",
        "    del d\n",
        "    if a == None:\n",
        "      return a\n",
        "\n",
        "  current = a\n",
        "  while current.next:\n",
        "    if current.next.data == value:\n",
        "      d = current.next\n",
        "\n",
        "      current.next = current.next.next\n",
        "      d = None\n",
        "      del d\n",
        "    \n",
        "    else:\n",
        "      current = current.next\n",
        "\n",
        "  return a"
      ],
      "metadata": {
        "id": "pq8MVDRSCQLx"
      },
      "execution_count": 68,
      "outputs": []
    },
    {
      "cell_type": "code",
      "source": [
        "def removeValueAtIndex(p, value, index):\n",
        "  pass\n"
      ],
      "metadata": {
        "id": "CGPYuCiNYjKd"
      },
      "execution_count": 69,
      "outputs": []
    },
    {
      "cell_type": "code",
      "source": [
        "def printLinkedList(p):\n",
        "  while p:\n",
        "    print(p.data, end = \" \")\n",
        "    p = p.next"
      ],
      "metadata": {
        "id": "Y25G-Dm44Deu"
      },
      "execution_count": 70,
      "outputs": []
    },
    {
      "cell_type": "code",
      "source": [
        "def main():\n",
        "  a = None\n",
        "  '''\n",
        "  a = None\n",
        "  for i in range(5):\n",
        "    a = addNode(a,i*i)\n",
        "  printLinkedList(a)\n",
        "  '''\n",
        "  for i in range(5):\n",
        "    a = addValueAtIndex(a, i*i, i)\n",
        "  printLinkedList(a)\n",
        "  print()\n",
        "  a = removeElement(a, 4)\n",
        "  printLinkedList(a)\n",
        "main()"
      ],
      "metadata": {
        "colab": {
          "base_uri": "https://localhost:8080/"
        },
        "id": "SIis7yP4zYhd",
        "outputId": "6502917e-2491-4442-8438-f6add9fb6cc9"
      },
      "execution_count": 71,
      "outputs": [
        {
          "output_type": "stream",
          "name": "stdout",
          "text": [
            "0 1 4 9 16 \n",
            "0 1 9 16 "
          ]
        }
      ]
    },
    {
      "cell_type": "markdown",
      "source": [
        "#End of Chapter 3"
      ],
      "metadata": {
        "id": "ngNHlqUsb2fn"
      }
    }
  ]
}