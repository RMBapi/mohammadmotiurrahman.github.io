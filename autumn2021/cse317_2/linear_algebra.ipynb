{
  "nbformat": 4,
  "nbformat_minor": 0,
  "metadata": {
    "interpreter": {
      "hash": "297c7fc3fbb9ca2b115b780b5fee517a0ca770be9d8f878422bb12ffb9087720"
    },
    "kernelspec": {
      "display_name": "Python 3.8.8 64-bit ('base': conda)",
      "name": "python3"
    },
    "language_info": {
      "codemirror_mode": {
        "name": "ipython",
        "version": 3
      },
      "file_extension": ".py",
      "mimetype": "text/x-python",
      "name": "python",
      "nbconvert_exporter": "python",
      "pygments_lexer": "ipython3",
      "version": "3.8.8"
    },
    "orig_nbformat": 4,
    "colab": {
      "name": "linear_algebra.ipynb",
      "provenance": [],
      "include_colab_link": true
    }
  },
  "cells": [
    {
      "cell_type": "markdown",
      "metadata": {
        "id": "view-in-github",
        "colab_type": "text"
      },
      "source": [
        "<a href=\"https://colab.research.google.com/github/mohammadmotiurrahman/mohammadmotiurrahman.github.io/blob/main/cse317_2/linear_algebra.ipynb\" target=\"_parent\"><img src=\"https://colab.research.google.com/assets/colab-badge.svg\" alt=\"Open In Colab\"/></a>"
      ]
    },
    {
      "cell_type": "code",
      "metadata": {
        "id": "dWR1MGeToXuv"
      },
      "source": [
        "import numpy as np"
      ],
      "execution_count": null,
      "outputs": []
    },
    {
      "cell_type": "code",
      "metadata": {
        "id": "89DOopyuoXuw",
        "outputId": "4159b9a6-480c-4530-8e51-2007fd247de7"
      },
      "source": [
        "a = np.array([1,2,3])\n",
        "print(a.shape)"
      ],
      "execution_count": null,
      "outputs": [
        {
          "name": "stdout",
          "output_type": "stream",
          "text": [
            "(3,)\n"
          ]
        }
      ]
    },
    {
      "cell_type": "code",
      "metadata": {
        "id": "azmO4O82oXux",
        "outputId": "3ce36f53-9879-4bd8-a27c-31c5e81b15c2"
      },
      "source": [
        "b = np.array([\n",
        "                [1,2,3],\n",
        "                [4,5,6]\n",
        "            ])\n",
        "print(b.shape)"
      ],
      "execution_count": null,
      "outputs": [
        {
          "name": "stdout",
          "output_type": "stream",
          "text": [
            "(2, 3)\n"
          ]
        }
      ]
    },
    {
      "cell_type": "code",
      "metadata": {
        "id": "mJmBLOs4oXuy",
        "outputId": "40184b1b-1d1a-4329-fd69-04d8b421145b"
      },
      "source": [
        "c = np.array(\n",
        "        [        \n",
        "            [\n",
        "                [1,2,3],\n",
        "                [4,5,6]    \n",
        "             ],\n",
        "             [\n",
        "                [10,20,30],\n",
        "                [40,50,60]\n",
        "             ]\n",
        "        ]\n",
        "        )\n",
        "print(c.shape)"
      ],
      "execution_count": null,
      "outputs": [
        {
          "name": "stdout",
          "output_type": "stream",
          "text": [
            "(2, 2, 3)\n"
          ]
        }
      ]
    },
    {
      "cell_type": "code",
      "metadata": {
        "id": "CjVDLSVQoXuy",
        "outputId": "f86a277d-0308-4f66-9b83-9033beb08deb"
      },
      "source": [
        "#empty\n",
        "e = np.empty([3])\n",
        "print(e)\n",
        "e = np.empty([3,4])\n",
        "print(e)"
      ],
      "execution_count": null,
      "outputs": [
        {
          "name": "stdout",
          "output_type": "stream",
          "text": [
            "[1. 1. 1.]\n",
            "[[9.34256398e-312 3.16202013e-322 0.00000000e+000 0.00000000e+000]\n",
            " [1.20953760e-312 4.66465602e-033 6.34436439e-066 2.47088397e-056]\n",
            " [2.05907750e+184 7.16454622e-038 2.00365172e-076 7.69122430e+169]]\n"
          ]
        }
      ]
    },
    {
      "cell_type": "code",
      "metadata": {
        "id": "5teZW-QeoXuy",
        "outputId": "67bc2b61-0aad-40b1-e1c1-23310d582d50"
      },
      "source": [
        "z = np.zeros([2,3])\n",
        "print(z)"
      ],
      "execution_count": null,
      "outputs": [
        {
          "name": "stdout",
          "output_type": "stream",
          "text": [
            "[[0. 0. 0.]\n",
            " [0. 0. 0.]]\n"
          ]
        }
      ]
    },
    {
      "cell_type": "code",
      "metadata": {
        "id": "lM9A3C0VoXuy",
        "outputId": "7988a0a8-42b0-4afd-f2a5-63334b47095c"
      },
      "source": [
        "o = np.ones([3,4])\n",
        "print(o)"
      ],
      "execution_count": null,
      "outputs": [
        {
          "name": "stdout",
          "output_type": "stream",
          "text": [
            "[[1. 1. 1. 1.]\n",
            " [1. 1. 1. 1.]\n",
            " [1. 1. 1. 1.]]\n"
          ]
        }
      ]
    },
    {
      "cell_type": "code",
      "metadata": {
        "id": "limYtXYXoXuy",
        "outputId": "c79d9cdc-bc84-4f0d-96c6-f612dd259a58"
      },
      "source": [
        "r = np.random.rand(2,4)\n",
        "print(r)"
      ],
      "execution_count": null,
      "outputs": [
        {
          "name": "stdout",
          "output_type": "stream",
          "text": [
            "[[0.8178617  0.01393303 0.56238242 0.41862615]\n",
            " [0.08657204 0.09575793 0.71053215 0.63408467]]\n"
          ]
        }
      ]
    },
    {
      "cell_type": "code",
      "metadata": {
        "id": "LtHG5-28oXuz",
        "outputId": "5c7646c9-aa4b-4071-afb6-227b13df8dde"
      },
      "source": [
        "r = np.random.randint(10, size= (2,5))\n",
        "print(r)"
      ],
      "execution_count": null,
      "outputs": [
        {
          "name": "stdout",
          "output_type": "stream",
          "text": [
            "[[1 2 2 5 3]\n",
            " [9 3 3 7 0]]\n"
          ]
        }
      ]
    },
    {
      "cell_type": "markdown",
      "metadata": {
        "id": "0TQr5b0poXuz"
      },
      "source": [
        "vectors"
      ]
    },
    {
      "cell_type": "code",
      "metadata": {
        "id": "uI06upgHoXu0",
        "outputId": "fa64a4d8-8b74-4f9c-aecd-3eeeae4a68d1"
      },
      "source": [
        "a = np.random.randint(1,5, size = (5))\n",
        "b = np.random.randint(1,5, size = (5))\n",
        "print(a)\n",
        "print(b)"
      ],
      "execution_count": null,
      "outputs": [
        {
          "name": "stdout",
          "output_type": "stream",
          "text": [
            "[3 1 4 3 2]\n",
            "[3 3 4 1 1]\n"
          ]
        }
      ]
    },
    {
      "cell_type": "code",
      "metadata": {
        "id": "BmaG3m5VoXu0",
        "outputId": "fb7abc70-5747-440c-e6e8-e276d2297f50"
      },
      "source": [
        "c = a + b\n",
        "print(c)"
      ],
      "execution_count": null,
      "outputs": [
        {
          "name": "stdout",
          "output_type": "stream",
          "text": [
            "[6 4 8 4 3]\n"
          ]
        }
      ]
    },
    {
      "cell_type": "code",
      "metadata": {
        "id": "MdocX7HyoXu0",
        "outputId": "ddc0417f-c0f9-4909-caf8-652b4993cd58"
      },
      "source": [
        "c = a - b\n",
        "print(c)"
      ],
      "execution_count": null,
      "outputs": [
        {
          "name": "stdout",
          "output_type": "stream",
          "text": [
            "[ 0 -2  0  2  1]\n"
          ]
        }
      ]
    },
    {
      "cell_type": "code",
      "metadata": {
        "id": "mk6yZ-nKoXu1",
        "outputId": "035e457e-f7c7-43cc-b337-00a3c2429539"
      },
      "source": [
        "c = a * b\n",
        "print(c)"
      ],
      "execution_count": null,
      "outputs": [
        {
          "name": "stdout",
          "output_type": "stream",
          "text": [
            "[ 9  3 16  3  2]\n"
          ]
        }
      ]
    },
    {
      "cell_type": "code",
      "metadata": {
        "id": "LM5nVEaHoXu1",
        "outputId": "f92d0b97-d83f-4c65-de47-ce8cfdd6055e"
      },
      "source": [
        "c = a / b\n",
        "print(c)"
      ],
      "execution_count": null,
      "outputs": [
        {
          "name": "stdout",
          "output_type": "stream",
          "text": [
            "[1.         0.33333333 1.         3.         2.        ]\n"
          ]
        }
      ]
    },
    {
      "cell_type": "code",
      "metadata": {
        "id": "_RKzVGAvoXu1",
        "outputId": "768fb088-0027-403f-9e86-85b5cf02b0ce"
      },
      "source": [
        "c = a.dot(b)\n",
        "print(c)"
      ],
      "execution_count": null,
      "outputs": [
        {
          "name": "stdout",
          "output_type": "stream",
          "text": [
            "33\n"
          ]
        }
      ]
    },
    {
      "cell_type": "code",
      "metadata": {
        "id": "1JnQjihpoXu1",
        "outputId": "98b40825-5ea7-4f5b-8efd-e402401995d5"
      },
      "source": [
        "c = a * 2\n",
        "print(c)"
      ],
      "execution_count": null,
      "outputs": [
        {
          "name": "stdout",
          "output_type": "stream",
          "text": [
            "[6 2 8 6 4]\n"
          ]
        }
      ]
    },
    {
      "cell_type": "code",
      "metadata": {
        "id": "jLzxoLG7oXu2",
        "outputId": "97a40347-47f8-4539-83dc-310d2a549443"
      },
      "source": [
        "m = np.random.randint(1,5, size=(3,3))\n",
        "a = np.tril(m,-1)\n",
        "print(a)"
      ],
      "execution_count": null,
      "outputs": [
        {
          "name": "stdout",
          "output_type": "stream",
          "text": [
            "[[0 0 0]\n",
            " [4 0 0]\n",
            " [1 2 0]]\n"
          ]
        }
      ]
    },
    {
      "cell_type": "code",
      "metadata": {
        "id": "CkJ5_y-hoXu2",
        "outputId": "b5ffd19a-3273-4eb5-bea4-0dd62d41c090"
      },
      "source": [
        "m = np.random.randint(1,5, size=(3,3))\n",
        "a = np.triu(m,1)\n",
        "print(a)"
      ],
      "execution_count": null,
      "outputs": [
        {
          "name": "stdout",
          "output_type": "stream",
          "text": [
            "[[0 3 2]\n",
            " [0 0 2]\n",
            " [0 0 0]]\n"
          ]
        }
      ]
    },
    {
      "cell_type": "code",
      "metadata": {
        "id": "rXxILmPGoXu2",
        "outputId": "5025c491-f570-4ce1-98b0-53bf0d165a8d"
      },
      "source": [
        "m = np.random.randint(1,5, size=(3,3))\n",
        "print(m)\n",
        "a = np.diag(m)\n",
        "print(a)"
      ],
      "execution_count": null,
      "outputs": [
        {
          "name": "stdout",
          "output_type": "stream",
          "text": [
            "[[2 1 4]\n",
            " [3 4 4]\n",
            " [3 3 3]]\n",
            "[2 4 3]\n"
          ]
        }
      ]
    },
    {
      "cell_type": "code",
      "metadata": {
        "id": "TpMFHIo6oXu2",
        "outputId": "71ac887d-c7f7-4076-d799-697ae0436403"
      },
      "source": [
        "i = np.identity(3)\n",
        "print(i)"
      ],
      "execution_count": null,
      "outputs": [
        {
          "name": "stdout",
          "output_type": "stream",
          "text": [
            "[[1. 0. 0.]\n",
            " [0. 1. 0.]\n",
            " [0. 0. 1.]]\n"
          ]
        }
      ]
    },
    {
      "cell_type": "code",
      "metadata": {
        "id": "KDa2np4roXu3",
        "outputId": "6a8dc107-3756-444c-e95c-05c1ab77ca83"
      },
      "source": [
        "#norm\n",
        "a = np.random.randint(1,5, size = (3))\n",
        "print(a)\n",
        "print(np.linalg.norm(a))"
      ],
      "execution_count": null,
      "outputs": [
        {
          "name": "stdout",
          "output_type": "stream",
          "text": [
            "[4 1 1]\n",
            "4.242640687119285\n"
          ]
        }
      ]
    },
    {
      "cell_type": "code",
      "metadata": {
        "id": "tjG7o6HroXu3",
        "outputId": "d72bf95b-6080-4205-c96d-5e0bdf53a75a"
      },
      "source": [
        "#matrix transpose\n",
        "a = np.random.randint(1,5, size = (2,3))\n",
        "print(a)\n",
        "print(a.shape)\n",
        "b = (a.T)\n",
        "print(b)\n",
        "print(b.shape)"
      ],
      "execution_count": null,
      "outputs": [
        {
          "name": "stdout",
          "output_type": "stream",
          "text": [
            "[[2 2 4]\n",
            " [1 2 4]]\n",
            "(2, 3)\n",
            "[[2 1]\n",
            " [2 2]\n",
            " [4 4]]\n",
            "(3, 2)\n"
          ]
        }
      ]
    },
    {
      "cell_type": "code",
      "metadata": {
        "id": "gHGuLcv5oXu3",
        "outputId": "32edfe21-0068-49e0-e91f-8fba06b82245"
      },
      "source": [
        "#inverse of a matrix\n",
        "a = np.random.randint(1,5, size = (3,3))\n",
        "print(a)\n",
        "b = np.linalg.inv(a)\n",
        "print(b)"
      ],
      "execution_count": null,
      "outputs": [
        {
          "name": "stdout",
          "output_type": "stream",
          "text": [
            "[[3 1 4]\n",
            " [2 2 3]\n",
            " [2 4 1]]\n",
            "[[ 1.  -1.5  0.5]\n",
            " [-0.4  0.5  0.1]\n",
            " [-0.4  1.  -0.4]]\n"
          ]
        }
      ]
    },
    {
      "cell_type": "code",
      "metadata": {
        "id": "OO0uDB1hoXu3",
        "outputId": "519fd063-3580-49ea-800d-86d1cf8c02a4"
      },
      "source": [
        "#trace of a matrix\n",
        "a = np.random.randint(1,5, size = (3,3))\n",
        "print(a)\n",
        "b = np.trace(a)\n",
        "print(b)"
      ],
      "execution_count": null,
      "outputs": [
        {
          "name": "stdout",
          "output_type": "stream",
          "text": [
            "[[1 1 1]\n",
            " [2 4 4]\n",
            " [2 2 4]]\n",
            "9\n"
          ]
        }
      ]
    },
    {
      "cell_type": "code",
      "metadata": {
        "id": "mgVKOdAKoXu3",
        "outputId": "3adffecc-905a-4dbf-aec2-e2305ed2b22e"
      },
      "source": [
        "#determinant\n",
        "a = np.random.randint(1,5, size = (3,3))\n",
        "print(a)\n",
        "b = np.linalg.det(a)\n",
        "print(b)"
      ],
      "execution_count": null,
      "outputs": [
        {
          "name": "stdout",
          "output_type": "stream",
          "text": [
            "[[3 1 2]\n",
            " [3 4 1]\n",
            " [4 3 2]]\n",
            "-1.0000000000000002\n"
          ]
        }
      ]
    },
    {
      "cell_type": "code",
      "metadata": {
        "id": "l139EQJIoXu4",
        "outputId": "414a893c-130a-47e4-c0e4-5f137e05c0e4"
      },
      "source": [
        "#rank\n",
        "a = np.random.randint(1,5, size = (3,3))\n",
        "print(a)\n",
        "r = np.linalg.matrix_rank(a)\n",
        "print(r)"
      ],
      "execution_count": null,
      "outputs": [
        {
          "name": "stdout",
          "output_type": "stream",
          "text": [
            "[[3 1 3]\n",
            " [2 3 4]\n",
            " [3 3 2]]\n",
            "3\n"
          ]
        }
      ]
    },
    {
      "cell_type": "code",
      "metadata": {
        "id": "P6Zgh6vyoXu5",
        "outputId": "1df7817d-ecbc-465b-98af-64afd837c2b1"
      },
      "source": [
        "#qr??\n",
        "a = np.random.randint(1,5, size = (3,3))\n",
        "print(a)\n",
        "Q, R = np.linalg.qr(a)\n",
        "print(Q)\n",
        "print(R)"
      ],
      "execution_count": null,
      "outputs": [
        {
          "name": "stdout",
          "output_type": "stream",
          "text": [
            "[[4 2 4]\n",
            " [3 3 4]\n",
            " [3 1 4]]\n",
            "[[-0.68599434  0.23606684 -0.6882472 ]\n",
            " [-0.51449576 -0.82623395  0.22941573]\n",
            " [-0.51449576  0.51147816  0.6882472 ]]\n",
            "[[-5.83095189 -3.4299717  -6.85994341]\n",
            " [ 0.         -1.49509    -0.31475579]\n",
            " [ 0.          0.          0.91766294]]\n"
          ]
        }
      ]
    },
    {
      "cell_type": "code",
      "metadata": {
        "id": "r75Y3NNAoXu5",
        "outputId": "d328f9d6-b7c9-47d9-f7a6-958cf92ae61b"
      },
      "source": [
        "a = np.random.randint(1,5, size = (3,3))\n",
        "val, vec = np.linalg.eig(a)\n",
        "print(val)\n",
        "print(vec)"
      ],
      "execution_count": null,
      "outputs": [
        {
          "name": "stdout",
          "output_type": "stream",
          "text": [
            "[ 6.32246081 -2.45149727  0.12903646]\n",
            "[[-0.40475024 -0.63079997  0.17949257]\n",
            " [-0.79411614 -0.12178298 -0.94773004]\n",
            " [-0.45338373  0.76632911  0.26379952]]\n"
          ]
        }
      ]
    },
    {
      "cell_type": "code",
      "metadata": {
        "id": "QBuVRq7DoXu5"
      },
      "source": [
        "import scipy as sc"
      ],
      "execution_count": null,
      "outputs": []
    },
    {
      "cell_type": "code",
      "metadata": {
        "id": "kDuGK8TuoXu5",
        "outputId": "015e4267-91b9-4ebd-ad36-75957b50b811"
      },
      "source": [
        "#lu decomposition\n",
        "a = np.random.randint(1,5, size = (3,3))\n",
        "P, L, U = sc.linalg.lu(a)\n",
        "print(L)\n",
        "print(U)\n",
        "print(P)"
      ],
      "execution_count": null,
      "outputs": [
        {
          "name": "stdout",
          "output_type": "stream",
          "text": [
            "[[1.         0.         0.        ]\n",
            " [1.         1.         0.        ]\n",
            " [0.66666667 0.         1.        ]]\n",
            "[[ 3.          3.          2.        ]\n",
            " [ 0.          1.          0.        ]\n",
            " [ 0.          0.         -0.33333333]]\n",
            "[[0. 0. 1.]\n",
            " [1. 0. 0.]\n",
            " [0. 1. 0.]]\n"
          ]
        }
      ]
    },
    {
      "cell_type": "code",
      "metadata": {
        "id": "n2pzUKc4oXu5",
        "outputId": "637a988e-c673-4c17-bf42-21b0aa76a5c7"
      },
      "source": [
        "a = np.random.randint(1,5, size = (3,3))\n",
        "U, S, V = sc.linalg.svd(a)\n",
        "print(U)\n",
        "print(S)\n",
        "print(V)"
      ],
      "execution_count": null,
      "outputs": [
        {
          "name": "stdout",
          "output_type": "stream",
          "text": [
            "[[-0.42009605 -0.86096706  0.28680138]\n",
            " [-0.57609898  0.49721122  0.6487611 ]\n",
            " [-0.7011628   0.10731599 -0.70487871]]\n",
            "[9.00402925 2.17671482 1.47965194]\n",
            "[[-0.48610962 -0.69006132 -0.53620221]\n",
            " [ 0.25851773 -0.69966473  0.66606145]\n",
            " [-0.83478502  0.1851611   0.51850684]]\n"
          ]
        }
      ]
    },
    {
      "cell_type": "code",
      "metadata": {
        "id": "vCcZHmJOoXu5",
        "outputId": "c704a01a-c3da-4cbb-a80f-fd547d2b188c"
      },
      "source": [
        "#mean\n",
        "a = np.random.randint(1,5, size = (3,3))\n",
        "m = np.mean(a)\n",
        "print(m)"
      ],
      "execution_count": null,
      "outputs": [
        {
          "name": "stdout",
          "output_type": "stream",
          "text": [
            "2.111111111111111\n"
          ]
        }
      ]
    },
    {
      "cell_type": "code",
      "metadata": {
        "id": "uNVXA26noXu6",
        "outputId": "c64da0f3-a74f-4242-f3bf-4dcd4b31ae8c"
      },
      "source": [
        "#variance\n",
        "a = np.random.randint(1,5, size = (3,3))\n",
        "v = np.var(a)\n",
        "print(v)"
      ],
      "execution_count": null,
      "outputs": [
        {
          "name": "stdout",
          "output_type": "stream",
          "text": [
            "1.3580246913580245\n"
          ]
        }
      ]
    },
    {
      "cell_type": "code",
      "metadata": {
        "id": "cByXXzcroXu6",
        "outputId": "81832685-b5ed-4d04-a6b8-5317e38c1967"
      },
      "source": [
        "#std dev\n",
        "a = np.random.randint(1,5, size = (3,3))\n",
        "std_dev = np.std(a)\n",
        "print(std_dev)"
      ],
      "execution_count": null,
      "outputs": [
        {
          "name": "stdout",
          "output_type": "stream",
          "text": [
            "1.1653431646335017\n"
          ]
        }
      ]
    },
    {
      "cell_type": "code",
      "metadata": {
        "id": "WrF8m0IloXu6",
        "outputId": "c2db0285-634f-4688-a69c-8db483512274"
      },
      "source": [
        "#covariance matrix\n",
        "a = np.random.randint(1,5, size = (3,3))\n",
        "b = np.random.randint(1,5, size = (3,3))\n",
        "c = np.cov(a,b)\n",
        "print(c)"
      ],
      "execution_count": null,
      "outputs": [
        {
          "name": "stdout",
          "output_type": "stream",
          "text": [
            "[[ 1.33333333 -1.         -0.66666667 -0.33333333 -1.33333333 -1.        ]\n",
            " [-1.          3.         -1.         -0.5         2.5         0.        ]\n",
            " [-0.66666667 -1.          1.33333333  0.66666667 -0.33333333  1.        ]\n",
            " [-0.33333333 -0.5         0.66666667  0.33333333 -0.16666667  0.5       ]\n",
            " [-1.33333333  2.5        -0.33333333 -0.16666667  2.33333333  0.5       ]\n",
            " [-1.          0.          1.          0.5         0.5         1.        ]]\n"
          ]
        }
      ]
    },
    {
      "cell_type": "code",
      "metadata": {
        "id": "fSVx98GhoXu6",
        "outputId": "93bc3b07-f9f7-4771-f3bc-f0191f9f3169"
      },
      "source": [
        "#linear least square\n",
        "a = np.random.randint(1,5, size = (3,3))\n",
        "b = np.random.randint(1,5, size = (3,3))\n",
        "l = np.linalg.lstsq(a,b)\n",
        "print(l)"
      ],
      "execution_count": null,
      "outputs": [
        {
          "name": "stdout",
          "output_type": "stream",
          "text": [
            "(array([[-1.        , -0.33333333,  2.        ],\n",
            "       [ 5.5       ,  3.66666667, -6.5       ],\n",
            "       [-2.        , -1.        ,  3.        ]]), array([], dtype=float64), 3, array([8.17773683, 2.65485302, 0.27636156]))\n"
          ]
        },
        {
          "name": "stderr",
          "output_type": "stream",
          "text": [
            "<ipython-input-90-eddb8ff1a82b>:4: FutureWarning: `rcond` parameter will change to the default of machine precision times ``max(M, N)`` where M and N are the input matrix dimensions.\n",
            "To use the future default and silence this warning we advise to pass `rcond=None`, to keep using the old, explicitly pass `rcond=-1`.\n",
            "  l = np.linalg.lstsq(a,b)\n"
          ]
        }
      ]
    },
    {
      "cell_type": "markdown",
      "metadata": {
        "id": "gLJK3v6CoXu7"
      },
      "source": [
        "https://docs.scipy.org/doc/numpy-1.13.0/reference/routines.linalg.html\n",
        "\n",
        "https://docs.scipy.org/doc/numpy-1.13.0/reference/routines.statistics.html\n",
        "\n",
        "https://docs.scipy.org/doc/scipy/reference/tutorial/linalg.html#\n",
        "\n",
        "https://github.com/scalanlp/breeze/wiki/Linear-Algebra-Cheat-Sheet"
      ]
    }
  ]
}