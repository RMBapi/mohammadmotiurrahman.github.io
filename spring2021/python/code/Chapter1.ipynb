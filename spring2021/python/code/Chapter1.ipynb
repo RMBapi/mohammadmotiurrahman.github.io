{
  "nbformat": 4,
  "nbformat_minor": 0,
  "metadata": {
    "colab": {
      "name": "Chapter1.ipynb",
      "provenance": [],
      "include_colab_link": true
    },
    "kernelspec": {
      "name": "python3",
      "display_name": "Python 3"
    }
  },
  "cells": [
    {
      "cell_type": "markdown",
      "metadata": {
        "id": "view-in-github",
        "colab_type": "text"
      },
      "source": [
        "<a href=\"https://colab.research.google.com/github/mohammadmotiurrahman/mohammadmotiurrahman.github.io/blob/main/spring2021/python/code/Chapter1.ipynb\" target=\"_parent\"><img src=\"https://colab.research.google.com/assets/colab-badge.svg\" alt=\"Open In Colab\"/></a>"
      ]
    },
    {
      "cell_type": "markdown",
      "metadata": {
        "id": "W806Mq7xNIJ1"
      },
      "source": [
        "#Welcome to the Universe of Python\n",
        "\n",
        "---\n",
        "\n",
        "Welcome to the first workshop on Python. Hopefully at the end of this workshop you will be able to learn something, and do awesome stuff."
      ]
    },
    {
      "cell_type": "markdown",
      "metadata": {
        "id": "fzxkDkkKML3k"
      },
      "source": [
        "##Variables and Data Types\n",
        "\n",
        "---\n",
        "\n",
        "We will start the first chapter with variables and data types. In C++ every data has a type associated with it, during its declaration phase. The following is an example:"
      ]
    },
    {
      "cell_type": "code",
      "metadata": {
        "id": "gzOHwwxUMnlU"
      },
      "source": [
        "int x = 56;\n",
        "string str = \"Hello\";\n",
        "float y = 78;\n",
        "bool x = true;"
      ],
      "execution_count": null,
      "outputs": []
    },
    {
      "cell_type": "markdown",
      "metadata": {
        "id": "EVgLgxXaN4n8"
      },
      "source": [
        "However this not the case for Python. In Python data instances do not have a type associated with it. "
      ]
    },
    {
      "cell_type": "code",
      "metadata": {
        "id": "NDCWck8aOOZy"
      },
      "source": [
        "x = 67\n",
        "y = 12.45\n",
        "z = \"hello\"\n",
        "b = True"
      ],
      "execution_count": null,
      "outputs": []
    },
    {
      "cell_type": "markdown",
      "metadata": {
        "id": "fyM0Rll0OYyw"
      },
      "source": [
        "As a result it is possible to do the following without getting any compilation error."
      ]
    },
    {
      "cell_type": "code",
      "metadata": {
        "id": "y57rb9XHOdq9"
      },
      "source": [
        "x = 34\n",
        "x = \"hello me\"\n",
        "x = True"
      ],
      "execution_count": null,
      "outputs": []
    },
    {
      "cell_type": "markdown",
      "metadata": {
        "id": "z-c-tWL4OrQP"
      },
      "source": [
        "Even though it might seem counter intuitive that how come a variable have so states, however, one can check the state of the variable during the assignment operations, like the following:"
      ]
    },
    {
      "cell_type": "code",
      "metadata": {
        "colab": {
          "base_uri": "https://localhost:8080/"
        },
        "id": "ErHbhvMrOmfT",
        "outputId": "b5d341ff-8911-4e6d-c6f3-cff9998dd2cc"
      },
      "source": [
        "x = 34\n",
        "print(type(x))\n",
        "x = \"hello me\"\n",
        "print(type(x))\n",
        "x = True\n",
        "print(type(x))"
      ],
      "execution_count": null,
      "outputs": [
        {
          "output_type": "stream",
          "text": [
            "<class 'int'>\n",
            "<class 'str'>\n",
            "<class 'bool'>\n"
          ],
          "name": "stdout"
        }
      ]
    },
    {
      "cell_type": "markdown",
      "metadata": {
        "id": "hZGrhFxSR2Xh"
      },
      "source": [
        "The type of `x` changes depending on the data type. In line 1, in the above codeblock it is an integer, denoted as `<class 'int'>`. In line 3 , `x` is of type `<class 'str'>` and in line 5, `x` is of type `<class 'bool'>`. What is a class, we will discuss it later, however, for the time remember that you do not need to put a data type whenever you instantiate a data literal.   "
      ]
    },
    {
      "cell_type": "markdown",
      "metadata": {
        "id": "8l10ETa0Vw0M"
      },
      "source": [
        "##Printing a variable \n",
        "\n",
        "---\n",
        "\n",
        "\n",
        "\n"
      ]
    },
    {
      "cell_type": "markdown",
      "metadata": {
        "id": "PAgngmTRV_2G"
      },
      "source": [
        "There are couple of ways to print variables in Python. Couple of examples are given below:"
      ]
    },
    {
      "cell_type": "code",
      "metadata": {
        "colab": {
          "base_uri": "https://localhost:8080/"
        },
        "id": "vyNHvH8vWwOd",
        "outputId": "8ec4934f-5294-4c54-c918-2bccb299cc4e"
      },
      "source": [
        "x = 56\n",
        "print(x)\n",
        "x = 78.6\n",
        "print(x)\n",
        "x = \"hello world\"\n",
        "print(x)\n",
        "x = True\n",
        "print(x)"
      ],
      "execution_count": null,
      "outputs": [
        {
          "output_type": "stream",
          "text": [
            "56\n",
            "78.6\n",
            "hello world\n",
            "True\n"
          ],
          "name": "stdout"
        }
      ]
    },
    {
      "cell_type": "code",
      "metadata": {
        "colab": {
          "base_uri": "https://localhost:8080/"
        },
        "id": "A425bNgSW54i",
        "outputId": "3f005a49-b97c-46ef-ed6f-22af2160e093"
      },
      "source": [
        "x = 56\n",
        "print(f\"The value of x is {x}\")\n",
        "\n",
        "x = 78.6\n",
        "print(f\"The value of x is {x}\")\n",
        "\n",
        "x = \"hello world\"\n",
        "print(f\"The value of x is {x}\")\n",
        "\n",
        "x = True\n",
        "print(f\"The value of x is {x}\")"
      ],
      "execution_count": null,
      "outputs": [
        {
          "output_type": "stream",
          "text": [
            "The value of x is 56\n",
            "The value of x is 78.6\n",
            "The value of x is hello world\n",
            "The value of x is True\n"
          ],
          "name": "stdout"
        }
      ]
    },
    {
      "cell_type": "markdown",
      "metadata": {
        "id": "awcJo7x6X0Am"
      },
      "source": [
        "One note of advice, do not forget `f` inside the `print` function. There are plenty of things to discuss about printing strings, which will be discussed in the subsequent notebooks."
      ]
    },
    {
      "cell_type": "markdown",
      "metadata": {
        "id": "Yt7yt6zzaG5q"
      },
      "source": [
        "##Operators and Operations in Python \n",
        "\n",
        "---\n",
        "The operators that are present in Python is similar to that found in C++. They behave more or less the same less way as they do in C++. Some example of them in action is given below:\n",
        "\n"
      ]
    },
    {
      "cell_type": "code",
      "metadata": {
        "colab": {
          "base_uri": "https://localhost:8080/"
        },
        "id": "dBa9Kz2raUhe",
        "outputId": "a6dca413-c646-4a03-9d60-71d7c0ae3990"
      },
      "source": [
        "a = 7\n",
        "b = 3\n",
        "print(a + b ) # 10 Addition\n",
        "\n",
        "print(a - b) # 4 Subtraction\n",
        "\n",
        "print(a * b) # 21 Multiplication\n",
        "\n",
        "print(a / b) # 2.3 Division with float result\n",
        "\n",
        "print(a // b) # 2 Division with int result\n",
        "\n",
        "print(a % b) # 1 Modulus\n",
        "\n",
        "print(a ** b) # 343 Power operation"
      ],
      "execution_count": null,
      "outputs": [
        {
          "output_type": "stream",
          "text": [
            "10\n",
            "4\n",
            "21\n",
            "2.3333333333333335\n",
            "2\n",
            "1\n",
            "343\n"
          ],
          "name": "stdout"
        }
      ]
    },
    {
      "cell_type": "markdown",
      "metadata": {
        "id": "Kh_sFgydcLYD"
      },
      "source": [
        "Some other common operations are given below:"
      ]
    },
    {
      "cell_type": "code",
      "metadata": {
        "colab": {
          "base_uri": "https://localhost:8080/"
        },
        "id": "j3eOXnVXlxUZ",
        "outputId": "5808fcfc-1a34-47c6-dc1c-0ecc5f818107"
      },
      "source": [
        "a = 5\n",
        "a = a + 1\n",
        "print(a)\n",
        "\n",
        "a += 1\n",
        "print(a)\n",
        "\n",
        "#This gives error\n",
        "#a++;\n",
        "#print(a);\n",
        "\n",
        "#This does not work\n",
        "#++a;\n",
        "#print(a);\n",
        "#A proper explanation\n",
        "#https://stackoverflow.com/questions/3654830/why-are-there-no-and-operators-in-python"
      ],
      "execution_count": null,
      "outputs": [
        {
          "output_type": "stream",
          "text": [
            "6\n",
            "7\n"
          ],
          "name": "stdout"
        }
      ]
    },
    {
      "cell_type": "code",
      "metadata": {
        "colab": {
          "base_uri": "https://localhost:8080/"
        },
        "id": "gTTxizWgl8nY",
        "outputId": "4f30ea1e-541b-42f8-e8a4-5a468343441b"
      },
      "source": [
        "#Similarly the following expression does not work:\n",
        "a = 5\n",
        "a = a - 1\n",
        "print(a)\n",
        "\n",
        "a -= 1\n",
        "print(a)\n",
        "\n",
        "#This gives error\n",
        "#a--;\n",
        "#print(a);\n",
        "\n",
        "#This does not work\n",
        "#--a;\n",
        "#print(a);\n",
        "#A proper explanation\n",
        "#https://stackoverflow.com/questions/3654830/why-are-there-no-and-operators-in-python"
      ],
      "execution_count": null,
      "outputs": [
        {
          "output_type": "stream",
          "text": [
            "4\n",
            "3\n"
          ],
          "name": "stdout"
        }
      ]
    },
    {
      "cell_type": "code",
      "metadata": {
        "colab": {
          "base_uri": "https://localhost:8080/"
        },
        "id": "qP9wpXExoAJ4",
        "outputId": "0e77785a-c008-453b-baf5-22aadd0abb1e"
      },
      "source": [
        "#However the following still works\n",
        "a  = 10\n",
        "a *= 4 #a = a * 4\n",
        "print(a)\n",
        "\n",
        "a /= 9 #a = a / 9\n",
        "print(a)\n",
        "\n",
        "a //= 2 #a = a // 2\n",
        "print(a)\n",
        "\n",
        "a %= 2 #a = a % 2\n",
        "print(a)\n",
        "\n",
        "a **= 2 #a = a ** 2\n",
        "print(a)"
      ],
      "execution_count": null,
      "outputs": [
        {
          "output_type": "stream",
          "text": [
            "40\n",
            "4.444444444444445\n",
            "2.0\n",
            "0.0\n",
            "0.0\n"
          ],
          "name": "stdout"
        }
      ]
    },
    {
      "cell_type": "markdown",
      "metadata": {
        "id": "EA168CJKWJ57"
      },
      "source": [
        "##Keywords in Python \n",
        "\n",
        "---\n",
        "\n",
        "As of Python 3.8, there are 35 keywords\n",
        "\n",
        "https://docs.python.org/3.8/reference/lexical_analysis.html#keywords\n",
        "\n",
        "```\n",
        "False      await      else       import     pass\n",
        "None       break      except     in         raise\n",
        "True       class      finally    is         return\n",
        "and        continue   for        lambda     try\n",
        "as         def        from       nonlocal   while\n",
        "assert     del        global     not        with\n",
        "async      elif       if         or         yield \n",
        "\n",
        "```\n",
        "\n"
      ]
    },
    {
      "cell_type": "markdown",
      "metadata": {
        "id": "0kHYIQ5-srB5"
      },
      "source": [
        "##Booleans \n",
        "\n",
        "---\n",
        "Python has `and`, `or` and `not` to represent the conditions. The condition of being true is being represented as `True` and the condition of being false is represented as `False`. So:\n"
      ]
    },
    {
      "cell_type": "code",
      "metadata": {
        "colab": {
          "base_uri": "https://localhost:8080/"
        },
        "id": "CT8zyTH6x8KS",
        "outputId": "99d5030a-e1e6-4585-c4d4-b11cefe69158"
      },
      "source": [
        "print(True) \n",
        "print(False)\n",
        "print(True and False)\n",
        "print(True or False)\n",
        "print(False and False)\n",
        "print(True and True)"
      ],
      "execution_count": null,
      "outputs": [
        {
          "output_type": "stream",
          "text": [
            "True\n",
            "False\n",
            "False\n",
            "True\n",
            "False\n",
            "True\n"
          ],
          "name": "stdout"
        }
      ]
    },
    {
      "cell_type": "code",
      "metadata": {
        "colab": {
          "base_uri": "https://localhost:8080/"
        },
        "id": "qfUHr7dF3alr",
        "outputId": "56a6a8cf-ad57-4b8e-8ed6-9088bde24983"
      },
      "source": [
        "#Equality and comparison operations\n",
        "print(2 == 4) # False\n",
        "print(3 == 3) # True\n",
        "print(2.11 == 2.1) # False\n",
        "print(2 != 4) # True\n",
        "print( 2 < 4) # True\n",
        "print( 5 <= 5) # True"
      ],
      "execution_count": null,
      "outputs": [
        {
          "output_type": "stream",
          "text": [
            "False\n",
            "True\n",
            "False\n",
            "True\n",
            "True\n",
            "True\n"
          ],
          "name": "stdout"
        }
      ]
    },
    {
      "cell_type": "markdown",
      "metadata": {
        "id": "CUBRaHOA6L0s"
      },
      "source": [
        "##Control flow \n",
        "\n",
        "---\n",
        "\n"
      ]
    },
    {
      "cell_type": "markdown",
      "metadata": {
        "id": "OPCAtWDDEb0S"
      },
      "source": [
        "###`if` , `elif` and `else` clause"
      ]
    },
    {
      "cell_type": "code",
      "metadata": {
        "id": "w_QTNaKR6NhZ"
      },
      "source": [
        "#The way to write control flow is the following:\n",
        "if something:\n",
        "  then something\n",
        "elif something_else:\n",
        "  then something different\n",
        "else:\n",
        "  then this is what you were looking "
      ],
      "execution_count": null,
      "outputs": []
    },
    {
      "cell_type": "code",
      "metadata": {
        "colab": {
          "base_uri": "https://localhost:8080/"
        },
        "id": "r50Vag-L604D",
        "outputId": "2f2d6525-8123-4226-ca00-e5d9b58339ca"
      },
      "source": [
        "#An example is the following\n",
        "name = input(\"Name please: \")\n",
        "if name == \"Motiur\":\n",
        "  print(f\"Hello, good morning: {name}\")\n",
        "else:\n",
        "  print(f\"Hmm, we weren't expecting you {name}\")"
      ],
      "execution_count": null,
      "outputs": [
        {
          "output_type": "stream",
          "text": [
            "Name please: Motiur\n",
            "Hello, good morning: Motiur\n"
          ],
          "name": "stdout"
        }
      ]
    },
    {
      "cell_type": "markdown",
      "metadata": {
        "id": "i8yYDl25DQlE"
      },
      "source": [
        "The important thing to realize in the example of control flow is the indentation after each control block. If the indentation is not given properly then the code will not run as expected."
      ]
    },
    {
      "cell_type": "code",
      "metadata": {
        "colab": {
          "base_uri": "https://localhost:8080/"
        },
        "id": "0cdCCTDoDEe7",
        "outputId": "d473a9d0-4605-4a29-f54e-82b3bcb4d50c"
      },
      "source": [
        "#An example of else and elif is the following\n",
        "name = input(\"Name please: \")\n",
        "if name == \"Motiur\":\n",
        "  print(f\"Hello, good morning: {name}\")\n",
        "elif name == \"Asif\":\n",
        "  print(f\"We were expecting you, {name}\")\n",
        "else:\n",
        "  print(f\"{name}, are you supposed to be here? \")"
      ],
      "execution_count": null,
      "outputs": [
        {
          "output_type": "stream",
          "text": [
            "Name please: Motiur\n",
            "Hello, good morning: Motiur\n"
          ],
          "name": "stdout"
        }
      ]
    },
    {
      "cell_type": "code",
      "metadata": {
        "colab": {
          "base_uri": "https://localhost:8080/"
        },
        "id": "ra2oQk6kGDVn",
        "outputId": "205e2ddc-2669-4b4e-f1b8-d485f556deb9"
      },
      "source": [
        "#An example using conjugate conditions\n",
        "age = int(input(\"Age please: \"))\n",
        "#Don't forget type casting the variable age\n",
        "#to an int,by default it is a string\n",
        "if (age > 0) and (age <= 30):\n",
        "  print(\"Hello there, young man\")\n",
        "elif (age > 30) and (age < 65):\n",
        "  print(\"How is life for middle aged people?\")\n",
        "elif (age > 65):\n",
        "  print(\"Hmm, you seem to have lived quite a long life\")\n",
        "else:\n",
        "  print(\"Re-enter value\")"
      ],
      "execution_count": null,
      "outputs": [
        {
          "output_type": "stream",
          "text": [
            "Age please: 56\n",
            "How is life for middle aged people?\n"
          ],
          "name": "stdout"
        }
      ]
    },
    {
      "cell_type": "code",
      "metadata": {
        "colab": {
          "base_uri": "https://localhost:8080/"
        },
        "id": "WTknJnQMJKkV",
        "outputId": "7b88cc35-cdcd-4fac-b7c7-e40f56640c65"
      },
      "source": [
        "#One other example\n",
        "day = input(\"What day is today? \")\n",
        "if not ((day == \"Friday\") or (day == \"Saturday\")):\n",
        "  print(\"Today is a weekday , I guess. Work harder.\")\n",
        "else:\n",
        "  print(\"Today is weekend, enjoy, my brethens.\") "
      ],
      "execution_count": null,
      "outputs": [
        {
          "output_type": "stream",
          "text": [
            "What day is today? Monday\n",
            "Today is a weekday , I guess. Work harder.\n"
          ],
          "name": "stdout"
        }
      ]
    },
    {
      "cell_type": "markdown",
      "metadata": {
        "id": "RIP3Dk3qElOa"
      },
      "source": [
        "###`for` loop"
      ]
    },
    {
      "cell_type": "markdown",
      "metadata": {
        "id": "XXFdDzYJMApe"
      },
      "source": [
        "Let us now do something with loops, for-loops, an example is given down below."
      ]
    },
    {
      "cell_type": "code",
      "metadata": {
        "colab": {
          "base_uri": "https://localhost:8080/"
        },
        "id": "Z6S2kI94Luqd",
        "outputId": "3e3c2b69-e070-44e0-a678-595ee75049a5"
      },
      "source": [
        "for x in range(5):\n",
        "  print(f\"{x} sheep\")"
      ],
      "execution_count": null,
      "outputs": [
        {
          "output_type": "stream",
          "text": [
            "0 sheep\n",
            "1 sheep\n",
            "2 sheep\n",
            "3 sheep\n",
            "4 sheep\n"
          ],
          "name": "stdout"
        }
      ]
    },
    {
      "cell_type": "code",
      "metadata": {
        "colab": {
          "base_uri": "https://localhost:8080/"
        },
        "id": "uTdocswTNj9W",
        "outputId": "5cbb6479-d5f1-4536-e491-2497a04d4781"
      },
      "source": [
        "#Or you can start from an arbitrary position\n",
        "#and end in a specified position\n",
        "for x in range(10, 15):\n",
        "  print(f\"{x} sheep\")"
      ],
      "execution_count": null,
      "outputs": [
        {
          "output_type": "stream",
          "text": [
            "10 sheep\n",
            "11 sheep\n",
            "12 sheep\n",
            "13 sheep\n",
            "14 sheep\n"
          ],
          "name": "stdout"
        }
      ]
    },
    {
      "cell_type": "code",
      "metadata": {
        "colab": {
          "base_uri": "https://localhost:8080/"
        },
        "id": "xhYMyTcSN4WR",
        "outputId": "100ad4fa-b946-4b13-bba7-62be3f2a75fc"
      },
      "source": [
        "#You can do one more thing, you can \n",
        "#skip by a constant value\n",
        "for x in range(10,20,2):\n",
        "  print(f\"{x} sheep\")"
      ],
      "execution_count": null,
      "outputs": [
        {
          "output_type": "stream",
          "text": [
            "10 sheep\n",
            "12 sheep\n",
            "14 sheep\n",
            "16 sheep\n",
            "18 sheep\n"
          ],
          "name": "stdout"
        }
      ]
    },
    {
      "cell_type": "code",
      "metadata": {
        "id": "OA4h0OJuQrWf"
      },
      "source": [
        "#However, can yo do this?\n",
        "#Skip without having a starting point\n",
        "for x in range(20,2):\n",
        "  print(f\"{x} sheep\")\n",
        "#The answer is no. So remember this bit:\n",
        "#the parameter that goes inside range is \n",
        "#like the following:\n",
        "#range(start, stop, step)\n",
        "#And you need start and stop, if you are\n",
        "#interested to skip"
      ],
      "execution_count": null,
      "outputs": []
    },
    {
      "cell_type": "markdown",
      "metadata": {
        "id": "On8RrP7aEq6C"
      },
      "source": [
        "###`while` loop"
      ]
    },
    {
      "cell_type": "markdown",
      "metadata": {
        "id": "VToTRNGpTF8i"
      },
      "source": [
        "Now let us move to `while` loops, shall we? The idea is similar to that of C++, but with the constructs of Python."
      ]
    },
    {
      "cell_type": "code",
      "metadata": {
        "colab": {
          "base_uri": "https://localhost:8080/"
        },
        "id": "XcY_VO1rQ_MR",
        "outputId": "8a180e16-372b-4666-f83f-2b9c1df9e3b7"
      },
      "source": [
        "i = 0\n",
        "while(i < 10):\n",
        "  print(f\"Hello there, I been waiting for you for {i} years\")\n",
        "  i += 1"
      ],
      "execution_count": null,
      "outputs": [
        {
          "output_type": "stream",
          "text": [
            "Hello there, I been waiting for you for 0 years\n",
            "Hello there, I been waiting for you for 1 years\n",
            "Hello there, I been waiting for you for 2 years\n",
            "Hello there, I been waiting for you for 3 years\n",
            "Hello there, I been waiting for you for 4 years\n",
            "Hello there, I been waiting for you for 5 years\n",
            "Hello there, I been waiting for you for 6 years\n",
            "Hello there, I been waiting for you for 7 years\n",
            "Hello there, I been waiting for you for 8 years\n",
            "Hello there, I been waiting for you for 9 years\n"
          ],
          "name": "stdout"
        }
      ]
    },
    {
      "cell_type": "code",
      "metadata": {
        "colab": {
          "base_uri": "https://localhost:8080/"
        },
        "id": "RrHVk9_QTi8v",
        "outputId": "cbfc335b-0f67-427d-8fc3-30dc94b82a09"
      },
      "source": [
        "#You can do all the useful tricks in C++,\n",
        "#for example:\n",
        "i = 10\n",
        "while(i):\n",
        "  print(f\"Hello there, I been waiting for you for {i} years\")\n",
        "  i -= 1"
      ],
      "execution_count": null,
      "outputs": [
        {
          "output_type": "stream",
          "text": [
            "Hello there, I been waiting for you for 10 years\n",
            "Hello there, I been waiting for you for 9 years\n",
            "Hello there, I been waiting for you for 8 years\n",
            "Hello there, I been waiting for you for 7 years\n",
            "Hello there, I been waiting for you for 6 years\n",
            "Hello there, I been waiting for you for 5 years\n",
            "Hello there, I been waiting for you for 4 years\n",
            "Hello there, I been waiting for you for 3 years\n",
            "Hello there, I been waiting for you for 2 years\n",
            "Hello there, I been waiting for you for 1 years\n"
          ],
          "name": "stdout"
        }
      ]
    },
    {
      "cell_type": "markdown",
      "metadata": {
        "id": "C553-BucUcPK"
      },
      "source": [
        "Oh, one more thing, while we are on the subject of loops, `do-while` loops does not exist in Python. However it can be simulated to a certain extent in the following way:"
      ]
    },
    {
      "cell_type": "code",
      "metadata": {
        "colab": {
          "base_uri": "https://localhost:8080/"
        },
        "id": "Fy41HvBgTyoI",
        "outputId": "3ce469c7-548f-49a0-d02b-0128096fadda"
      },
      "source": [
        "loopOn = True\n",
        "while loopOn:\n",
        "  drink = input(\"Favorite drink: \")\n",
        "  if drink == \"Water\":\n",
        "    loopOn = False\n",
        "    print(\"Hmm, not impressed by your choice of drink\")"
      ],
      "execution_count": null,
      "outputs": [
        {
          "output_type": "stream",
          "text": [
            "Favorite drink: Honey\n",
            "Favorite drink: Water\n",
            "Hmm, not impressed by your choice of drink\n"
          ],
          "name": "stdout"
        }
      ]
    },
    {
      "cell_type": "markdown",
      "metadata": {
        "id": "X2e-3oMZGk5f"
      },
      "source": [
        "###`break` and `continue`"
      ]
    },
    {
      "cell_type": "markdown",
      "metadata": {
        "id": "TlQf6YOvYrsd"
      },
      "source": [
        "We can also use `break` and `continue` in Python like so:"
      ]
    },
    {
      "cell_type": "code",
      "metadata": {
        "colab": {
          "base_uri": "https://localhost:8080/"
        },
        "id": "pQWs_u-sULKE",
        "outputId": "df83cd2f-1364-40dc-943a-6951886c1e20"
      },
      "source": [
        "loopOn = True\n",
        "while loopOn:\n",
        "  drink = input(\"Favorite drink: \")\n",
        "  if drink == \"Water\":\n",
        "    print(\"Hmm, not impressed by your choice of drink\")\n",
        "    break"
      ],
      "execution_count": null,
      "outputs": [
        {
          "output_type": "stream",
          "text": [
            "Favorite drink: Water\n",
            "Hmm, not impressed by your choice of drink\n"
          ],
          "name": "stdout"
        }
      ]
    },
    {
      "cell_type": "code",
      "metadata": {
        "colab": {
          "base_uri": "https://localhost:8080/"
        },
        "id": "r289t9SyZKir",
        "outputId": "7678a17e-996c-406e-8300-4ac5bb7372dd"
      },
      "source": [
        "loopOn = True\n",
        "while loopOn:\n",
        "  drink = input(\"Favorite drink: \")\n",
        "  if drink == \"Water\":\n",
        "    print(\"Hmm, not impressed by your choice of drink\")\n",
        "    break\n",
        "  elif drink == \"Honey\":\n",
        "    print(\"Honey is not a drink\")\n",
        "    continue"
      ],
      "execution_count": null,
      "outputs": [
        {
          "output_type": "stream",
          "text": [
            "Favorite drink: Cola\n",
            "Favorite drink: Miranda\n",
            "Favorite drink: Water\n",
            "Hmm, not impressed by your choice of drink\n"
          ],
          "name": "stdout"
        }
      ]
    },
    {
      "cell_type": "code",
      "metadata": {
        "colab": {
          "base_uri": "https://localhost:8080/"
        },
        "id": "MBtO5uTF5gPn",
        "outputId": "bf0d69ed-5c66-4fc6-e37e-1866826001aa"
      },
      "source": [
        "loopOn = True\n",
        "while loopOn:\n",
        "  password = input(\"Password: \")\n",
        "  #The len function is used to find\n",
        "  #the length of a string\n",
        "  lenPassword = len(password)\n",
        "  if lenPassword > 5:\n",
        "    print(\"Good password\")\n",
        "    loopOn = False\n",
        "  else:\n",
        "    loopOn = True"
      ],
      "execution_count": null,
      "outputs": [
        {
          "output_type": "stream",
          "text": [
            "Password: ab\n",
            "Password: abcde\n",
            "Password: abcdefg\n",
            "Good password\n"
          ],
          "name": "stdout"
        }
      ]
    },
    {
      "cell_type": "markdown",
      "metadata": {
        "id": "Xq5p-4lAiaSS"
      },
      "source": [
        "##Functions\n",
        "\n",
        "---\n",
        "In Python the keyword `def` is used to denote a function definition:\n"
      ]
    },
    {
      "cell_type": "code",
      "metadata": {
        "id": "fxpPkrxaZ3RS"
      },
      "source": [
        "def function_name(param1, param2):\n",
        "  #do something with/without the parameters\n",
        "  pass\n",
        "  return something/some_value"
      ],
      "execution_count": null,
      "outputs": []
    },
    {
      "cell_type": "markdown",
      "metadata": {
        "id": "KfHXa1RUW57a"
      },
      "source": [
        "Functions can be like this as well:"
      ]
    },
    {
      "cell_type": "code",
      "metadata": {
        "id": "VXl5g0ZuW4Q7"
      },
      "source": [
        "def function_name():\n",
        "  #do something\n",
        "  pass \n",
        "  return something/some_value"
      ],
      "execution_count": null,
      "outputs": []
    },
    {
      "cell_type": "markdown",
      "metadata": {
        "id": "v-9CfXOwXFBe"
      },
      "source": [
        "Also functions can be like this as well:"
      ]
    },
    {
      "cell_type": "code",
      "metadata": {
        "id": "4GeaFS3SXL4O"
      },
      "source": [
        "def function_name():\n",
        "  #do something \n",
        "  pass"
      ],
      "execution_count": null,
      "outputs": []
    },
    {
      "cell_type": "markdown",
      "metadata": {
        "id": "ShXiqvapYCCM"
      },
      "source": [
        "Some examples on using these functions are given below:"
      ]
    },
    {
      "cell_type": "code",
      "metadata": {
        "colab": {
          "base_uri": "https://localhost:8080/"
        },
        "id": "zx9jUpIzYBVQ",
        "outputId": "dcaaf5c7-bd6b-4ef4-907d-2d964562b97b"
      },
      "source": [
        "#Definition of the function\n",
        "def printSomething():\n",
        "  print(\"Today is Sunday\")\n",
        "\n",
        "#Call of the function\n",
        "printSomething()"
      ],
      "execution_count": null,
      "outputs": [
        {
          "output_type": "stream",
          "text": [
            "Today is Sunday\n"
          ],
          "name": "stdout"
        }
      ]
    },
    {
      "cell_type": "code",
      "metadata": {
        "colab": {
          "base_uri": "https://localhost:8080/"
        },
        "id": "3Y6yReO9YYmc",
        "outputId": "1608acb7-fe5a-4d23-de15-36396c0b0dbc"
      },
      "source": [
        "#Definition of the function\n",
        "def addTwoNumbers(a, b):\n",
        "  print(f\"Sum of {a} and {b} is {a+b}\")\n",
        "\n",
        "#Call of the function\n",
        "addTwoNumbers(4,5)"
      ],
      "execution_count": null,
      "outputs": [
        {
          "output_type": "stream",
          "text": [
            "Sum of 4 and 5 is 9\n"
          ],
          "name": "stdout"
        }
      ]
    },
    {
      "cell_type": "code",
      "metadata": {
        "colab": {
          "base_uri": "https://localhost:8080/"
        },
        "id": "QtBUe56HY0ME",
        "outputId": "9fe0d04b-d40c-436a-a77f-45370d3ca65a"
      },
      "source": [
        "#Definition of the function\n",
        "def multTwoNumbers(a, b):\n",
        "  return a*b\n",
        "\n",
        "#Call of the function\n",
        "a = int(input(\"a: \"))\n",
        "b = int(input(\"b: \"))\n",
        "val = multTwoNumbers(a, b)\n",
        "print(f\"Multiplication of {a} and {b} is {val}\")"
      ],
      "execution_count": null,
      "outputs": [
        {
          "output_type": "stream",
          "text": [
            "a: 5\n",
            "b: 3\n",
            "Multiplication of 5 and 3 is 15\n"
          ],
          "name": "stdout"
        }
      ]
    },
    {
      "cell_type": "markdown",
      "metadata": {
        "id": "3nv_Fg9heH5v"
      },
      "source": [
        "##Global variables and local variables\n",
        "\n",
        "---\n",
        "The scope of a variable depends on the context it is defined in. However if someone wants to explicitly make the scope of a variable, he/she needs to use `global` keyword. \n"
      ]
    },
    {
      "cell_type": "code",
      "metadata": {
        "colab": {
          "base_uri": "https://localhost:8080/"
        },
        "id": "HyEMnqzblEVV",
        "outputId": "38ee9e00-14dc-4c6f-ce2d-34a837b8fb3d"
      },
      "source": [
        "a = 14\n",
        "def func(x):\n",
        "  a = x\n",
        "\n",
        "a = 67\n",
        "func(a)\n",
        "print(a) # -> 67"
      ],
      "execution_count": null,
      "outputs": [
        {
          "output_type": "stream",
          "text": [
            "67\n"
          ],
          "name": "stdout"
        }
      ]
    },
    {
      "cell_type": "markdown",
      "metadata": {
        "id": "sVQ4uTAnbb-B"
      },
      "source": [
        "Inorder to change the value of `a` to `7`, one can do the following:"
      ]
    },
    {
      "cell_type": "code",
      "metadata": {
        "colab": {
          "base_uri": "https://localhost:8080/"
        },
        "id": "itH2ZYiXbVXf",
        "outputId": "04805c53-05ca-4d7d-ee87-8245f5356252"
      },
      "source": [
        "#global a\n",
        "a = 14\n",
        "def func(x):\n",
        "  global a\n",
        "  a = x \n",
        "\n",
        "b = 7\n",
        "func(b)\n",
        "print(a) # -> 7"
      ],
      "execution_count": null,
      "outputs": [
        {
          "output_type": "stream",
          "text": [
            "7\n"
          ],
          "name": "stdout"
        }
      ]
    },
    {
      "cell_type": "markdown",
      "metadata": {
        "id": "fvZc58Ojp775"
      },
      "source": [
        "Also beware that the placement of the `global` keyword determines the value that a variable is going to take."
      ]
    },
    {
      "cell_type": "markdown",
      "metadata": {
        "id": "G9dRh3Jmqm9y"
      },
      "source": [
        "##Reading and Writing to a file\n",
        "\n",
        "---\n"
      ]
    },
    {
      "cell_type": "markdown",
      "metadata": {
        "id": "dgwhbEocEzRN"
      },
      "source": [
        "###Read file"
      ]
    },
    {
      "cell_type": "code",
      "metadata": {
        "colab": {
          "base_uri": "https://localhost:8080/"
        },
        "id": "N8bpeNYQqwPx",
        "outputId": "9e538643-22ac-4c9d-ee94-adad92809d0c"
      },
      "source": [
        "%%writefile hello.txt\n",
        "Hello there, welcome,\n",
        "I have \n",
        "been waiting for you\n",
        "for sometime"
      ],
      "execution_count": null,
      "outputs": [
        {
          "output_type": "stream",
          "text": [
            "Overwriting hello.txt\n"
          ],
          "name": "stdout"
        }
      ]
    },
    {
      "cell_type": "code",
      "metadata": {
        "colab": {
          "base_uri": "https://localhost:8080/"
        },
        "id": "rw1_mfJVq_GJ",
        "outputId": "c887af76-582e-4012-a1b8-00f038b5eec7"
      },
      "source": [
        "#Read the text file hello.txt\n",
        "file = open('hello.txt', 'r')\n",
        "\n",
        "#To read the first line of the file\n",
        "print(file.readline())\n",
        "\n",
        "#To read all the lines of the file\n",
        "print(file.readlines())\n",
        "\n",
        "#Close the file after reading\n",
        "file.close()"
      ],
      "execution_count": null,
      "outputs": [
        {
          "output_type": "stream",
          "text": [
            "Hello there, welcome,\n",
            "\n",
            "['I have \\n', 'been waiting for you\\n', 'for sometime']\n"
          ],
          "name": "stdout"
        }
      ]
    },
    {
      "cell_type": "markdown",
      "metadata": {
        "id": "a8sJlmN1E5pe"
      },
      "source": [
        "###Write file"
      ]
    },
    {
      "cell_type": "code",
      "metadata": {
        "id": "CyIf0MKprYmX"
      },
      "source": [
        "#Writing to a file\n",
        "file = open('hello.txt', 'w')\n",
        "file.write('There is a horse who is eating carrot\\n')\n",
        "file.write('And the other pony is eating a cabbage\\n')\n",
        "file.close()\n",
        "#Open hello.txt file to read the content "
      ],
      "execution_count": null,
      "outputs": []
    }
  ]
}