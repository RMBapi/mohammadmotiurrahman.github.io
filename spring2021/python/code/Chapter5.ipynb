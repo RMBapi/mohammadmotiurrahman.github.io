{
  "nbformat": 4,
  "nbformat_minor": 0,
  "metadata": {
    "colab": {
      "name": "Chapter5.ipynb",
      "provenance": [],
      "collapsed_sections": [],
      "authorship_tag": "ABX9TyNjlPXS9A3bHNth2CjlLVa0",
      "include_colab_link": true
    },
    "kernelspec": {
      "name": "python3",
      "display_name": "Python 3"
    }
  },
  "cells": [
    {
      "cell_type": "markdown",
      "metadata": {
        "id": "view-in-github",
        "colab_type": "text"
      },
      "source": [
        "<a href=\"https://colab.research.google.com/github/mohammadmotiurrahman/mohammadmotiurrahman.github.io/blob/main/spring2021/python/code/Chapter5.ipynb\" target=\"_parent\"><img src=\"https://colab.research.google.com/assets/colab-badge.svg\" alt=\"Open In Colab\"/></a>"
      ]
    },
    {
      "cell_type": "markdown",
      "metadata": {
        "id": "PnY2qTSkdlL0"
      },
      "source": [
        "#Object Oriented Progamming\n",
        "\n",
        "---\n",
        "Let us see how it is done \n"
      ]
    },
    {
      "cell_type": "code",
      "metadata": {
        "id": "qK1OGaOXbSLk"
      },
      "source": [
        "# Definition of the class Food\n",
        "class Food:\n",
        "\tpass"
      ],
      "execution_count": null,
      "outputs": []
    },
    {
      "cell_type": "code",
      "metadata": {
        "colab": {
          "base_uri": "https://localhost:8080/"
        },
        "id": "s_os8455-E3W",
        "outputId": "f53e8593-0a97-4b0b-c97e-c71db0ea112f"
      },
      "source": [
        "#Instances of the class Food\n",
        "f1 = Food()\n",
        "print(f1)\n",
        "f2 = Food()\n",
        "print(f2)"
      ],
      "execution_count": null,
      "outputs": [
        {
          "output_type": "stream",
          "text": [
            "<__main__.Food object at 0x7fcfc760ba90>\n",
            "<__main__.Food object at 0x7fcfc760bc50>\n"
          ],
          "name": "stdout"
        }
      ]
    },
    {
      "cell_type": "code",
      "metadata": {
        "colab": {
          "base_uri": "https://localhost:8080/"
        },
        "id": "6NeEqnus-UDA",
        "outputId": "3ed7862b-35be-48a4-b03b-fd653cbd1389"
      },
      "source": [
        "#Add attributes to the instances\n",
        "f1.price = 10\n",
        "f1.weight = 20\n",
        "\n",
        "print(f\"f1.price: {f1.price}\")\n",
        "print(f\"f2.weight: {f1.weight}\")\n",
        "\n",
        "\n",
        "f2.price = 15\n",
        "f2.weight = 30\n",
        "\n",
        "print(f\"f2.price: {f2.price}\")\n",
        "print(f\"f2.weight: {f2.weight}\")\n"
      ],
      "execution_count": null,
      "outputs": [
        {
          "output_type": "stream",
          "text": [
            "f1.price: 10\n",
            "f2.weight: 20\n",
            "f2.price: 15\n",
            "f2.weight: 30\n"
          ],
          "name": "stdout"
        }
      ]
    },
    {
      "cell_type": "code",
      "metadata": {
        "colab": {
          "base_uri": "https://localhost:8080/"
        },
        "id": "ZFmIPs1QAgvI",
        "outputId": "0beef9f4-6d82-4ef0-92b2-481eb96f653e"
      },
      "source": [
        "#A better way to represent the instances\n",
        "class Food:\n",
        "  def __init__(self, price , weight):\n",
        "    self.price = price \n",
        "    self.weight = weight\n",
        "\n",
        "f1 = Food(10, 15)\n",
        "f2 = Food(15, 30)\n",
        "\n",
        "print(f\"f1.price: {f1.price}\")\n",
        "print(f\"f1.weight: {f1.weight}\")\n",
        "\n",
        "print(f\"f2.price: {f2.price}\")\n",
        "print(f\"f2.weight: {f2.weight}\")"
      ],
      "execution_count": null,
      "outputs": [
        {
          "output_type": "stream",
          "text": [
            "f1.price: 10\n",
            "f1.weight: 15\n",
            "f2.price: 15\n",
            "f2.weight: 30\n"
          ],
          "name": "stdout"
        }
      ]
    },
    {
      "cell_type": "code",
      "metadata": {
        "colab": {
          "base_uri": "https://localhost:8080/"
        },
        "id": "bkq6FW7FDR7u",
        "outputId": "7356eff4-e3d6-41fe-fee5-e52b88818a5b"
      },
      "source": [
        "#With the word self\n",
        "class hello:\n",
        "  def __init__(self):\n",
        "    print(\"Hello, this is an avocado\")\n",
        "\n",
        "h = hello()"
      ],
      "execution_count": null,
      "outputs": [
        {
          "output_type": "stream",
          "text": [
            "Hello, this is an avocado\n"
          ],
          "name": "stdout"
        }
      ]
    },
    {
      "cell_type": "code",
      "metadata": {
        "colab": {
          "base_uri": "https://localhost:8080/"
        },
        "id": "bOfYccY1hIE7",
        "outputId": "fded62d6-507a-4667-887d-834e370be146"
      },
      "source": [
        "#Without the use of the word self\n",
        "\n",
        "class hello:\n",
        "  def __init__():\n",
        "    print(\"Hello, this is an avocado\")\n",
        "try:\n",
        "  h = hello()\n",
        "except:\n",
        "  print(\"There is an error here.\")"
      ],
      "execution_count": null,
      "outputs": [
        {
          "output_type": "stream",
          "text": [
            "There is an error here.\n"
          ],
          "name": "stdout"
        }
      ]
    },
    {
      "cell_type": "code",
      "metadata": {
        "colab": {
          "base_uri": "https://localhost:8080/"
        },
        "id": "l-76bcwchjsi",
        "outputId": "ce0b517c-51ba-4aed-e2b2-707245e980eb"
      },
      "source": [
        "'''There has to be an argument inside __init__,\n",
        "it does not matter what the name of the argument\n",
        "is, however, the convention is to use self as the\n",
        "name of the argument.'''\n",
        "\n",
        "class hello:\n",
        "  def __init__(rabbit):\n",
        "    print(\"Hello, this is an avocado\")\n",
        "\n",
        "h = hello()"
      ],
      "execution_count": null,
      "outputs": [
        {
          "output_type": "stream",
          "text": [
            "Hello, this is an avocado\n"
          ],
          "name": "stdout"
        }
      ]
    },
    {
      "cell_type": "code",
      "metadata": {
        "colab": {
          "base_uri": "https://localhost:8080/"
        },
        "id": "YHlT2ftwh6KF",
        "outputId": "292cf37c-d874-46b6-d767-b3f038269a19"
      },
      "source": [
        "'''This can be used as follows '''\n",
        "\n",
        "class hello:\n",
        "  def __init__(bumblebee, price, weight):\n",
        "    bumblebee.price = price\n",
        "    bumblebee.volume = weight\n",
        "\n",
        "h = hello(10,12)\n",
        "print(h.price)\n",
        "print(h.volume)"
      ],
      "execution_count": null,
      "outputs": [
        {
          "output_type": "stream",
          "text": [
            "10\n",
            "12\n"
          ],
          "name": "stdout"
        }
      ]
    },
    {
      "cell_type": "code",
      "metadata": {
        "colab": {
          "base_uri": "https://localhost:8080/"
        },
        "id": "fRqfaebw-iuP",
        "outputId": "d1557a90-835e-4e82-9b50-7cfe2ea2886e"
      },
      "source": [
        "#Example of an instance method\n",
        "\n",
        "class Food:\n",
        "  def __init__(self, price , weight):\n",
        "    self.price = price \n",
        "    self.weight = weight\n",
        "  \n",
        "  def priceOfFood(self):\n",
        "    print(f\"Price of Food : {self.price}\")\n",
        "  \n",
        "  def weightOfFood(self):\n",
        "    print(f\"Weight of Food :{self.weight}\")\n",
        "  \n",
        "\n",
        "a = Food(12,20)\n",
        "b = Food(23, 45)\n",
        "\n",
        "#A method of an instance can be called this way\n",
        "a.priceOfFood()\n",
        "a.weightOfFood()\n",
        "\n",
        "b.priceOfFood()\n",
        "b.weightOfFood()\n",
        "\n",
        "#A method of an instance can also called using the class variable\n",
        "Food.priceOfFood(a)\n",
        "Food.priceOfFood(b)\n",
        "\n",
        "Food.weightOfFood(a)\n",
        "Food.weightOfFood(a)\n"
      ],
      "execution_count": null,
      "outputs": [
        {
          "output_type": "stream",
          "text": [
            "Price of Food : 12\n",
            "Weight of Food :20\n",
            "Price of Food : 23\n",
            "Weight of Food :45\n",
            "Price of Food : 12\n",
            "Price of Food : 23\n",
            "Weight of Food :20\n",
            "Weight of Food :20\n"
          ],
          "name": "stdout"
        }
      ]
    },
    {
      "cell_type": "markdown",
      "metadata": {
        "id": "LiQRZb3a4sR6"
      },
      "source": [
        "## Class Variable"
      ]
    },
    {
      "cell_type": "code",
      "metadata": {
        "colab": {
          "base_uri": "https://localhost:8080/"
        },
        "id": "bv5s3zGukcA-",
        "outputId": "1d8d181c-95a8-49aa-e616-60c0ccaa7b82"
      },
      "source": [
        "#Example of a class variable\n",
        "\n",
        "class Food:\n",
        "  \n",
        "  #Class variable\n",
        "  tax = 1.05\n",
        "\n",
        "  def __init__(self, price , weight):\n",
        "    self.price = price \n",
        "    self.weight = weight\n",
        "  \n",
        "  def priceOfFood(self):\n",
        "    #Express as class variable\n",
        "    print(f\"Price of Food as class variable: {Food.tax * self.price}\")\n",
        "\n",
        "    #Express as instance variable\n",
        "    print(f\"Price of Food as instance varible : {self.tax * self.price}\")\n",
        "\n",
        "  def weightOfFood(self):\n",
        "    print(f\"Weight of Food :{self.weight}\")\n",
        "  \n",
        "f1 = Food(10, 20)\n",
        "f1.priceOfFood()\n",
        "\n",
        "f2 = Food(15,25)\n",
        "f2.priceOfFood()\n",
        "\n",
        "print(\"\\nChange of tax percent by changing class variables \\n \")\n",
        "Food.tax = 1.10\n",
        "\n",
        "f1 = Food(10, 20)\n",
        "f1.priceOfFood()\n",
        "\n",
        "f2 = Food(15,25)\n",
        "f2.priceOfFood()\n",
        "\n",
        "print(\"\\nChange of tax percent by changing instance variables \\n \")\n",
        "f1 = Food(10, 20)\n",
        "f1.tax = 1.20\n",
        "f1.priceOfFood()\n",
        "\n",
        "f2 = Food(10,20)\n",
        "f2.tax = 1.30\n",
        "f2.priceOfFood()"
      ],
      "execution_count": null,
      "outputs": [
        {
          "output_type": "stream",
          "text": [
            "Price of Food as class variable: 10.5\n",
            "Price of Food as instance varible : 10.5\n",
            "Price of Food as class variable: 15.75\n",
            "Price of Food as instance varible : 15.75\n",
            "\n",
            "Change of tax percent by changing class variables \n",
            " \n",
            "Price of Food as class variable: 11.0\n",
            "Price of Food as instance varible : 11.0\n",
            "Price of Food as class variable: 16.5\n",
            "Price of Food as instance varible : 16.5\n",
            "\n",
            "Change of tax percent by changing instance variables \n",
            " \n",
            "Price of Food as class variable: 11.0\n",
            "Price of Food as instance varible : 12.0\n",
            "Price of Food as class variable: 11.0\n",
            "Price of Food as instance varible : 13.0\n"
          ],
          "name": "stdout"
        }
      ]
    },
    {
      "cell_type": "markdown",
      "metadata": {
        "id": "55DTSTh04zR2"
      },
      "source": [
        "## Class Method"
      ]
    },
    {
      "cell_type": "code",
      "metadata": {
        "id": "acGGypCIoqVV",
        "colab": {
          "base_uri": "https://localhost:8080/"
        },
        "outputId": "63e22653-fb77-4ba9-e7db-eb090b1dc764"
      },
      "source": [
        "#Example of a class method\n",
        "\n",
        "class Food:\n",
        "  \n",
        "  #Class variable\n",
        "  tax = 1.05\n",
        "\n",
        "  def __init__(self, price , weight):\n",
        "    self.price = price \n",
        "    self.weight = weight\n",
        "\n",
        "  \n",
        "  def priceOfFood(self):\n",
        "    #Express as class variable\n",
        "    print(f\"Price of Food as class variable: {Food.tax * self.price}\")\n",
        "\n",
        "    #Express as instance variable\n",
        "    print(f\"Price of Food as instance varible : {self.tax * self.price}\")\n",
        "\n",
        "  def weightOfFood(self):\n",
        "    print(f\"Weight of Food :{self.weight}\")\n",
        "\n",
        "  @classmethod\n",
        "  def hello(cls):\n",
        "    print(\"hello\")\n",
        "\n",
        "  @classmethod\n",
        "  def changeTax(cls, tax):\n",
        "    cls.tax = tax\n",
        "    cls.hello()\n",
        "\n",
        "Food.changeTax(1.1)\n"
      ],
      "execution_count": null,
      "outputs": [
        {
          "output_type": "stream",
          "text": [
            "hello\n"
          ],
          "name": "stdout"
        }
      ]
    },
    {
      "cell_type": "code",
      "metadata": {
        "colab": {
          "base_uri": "https://localhost:8080/"
        },
        "id": "sciFH2SMXaIg",
        "outputId": "dea3bae7-3c8f-4376-86c3-fa56cd8a6dc3"
      },
      "source": [
        "#Example of class method\n",
        "\n",
        "class Food:\n",
        "  \n",
        "  #Class variable\n",
        "  tax = 1.05\n",
        "  FoodsWeSell = [\"apple pie\", \"banana curd\", \"cherry smoothie\"]\n",
        "\n",
        "  def __init__(self, price , weight):\n",
        "    self.price = price \n",
        "    self.weight = weight\n",
        "\n",
        "  \n",
        "  def priceOfFood(self):\n",
        "    #Express as class variable\n",
        "    print(f\"Price of Food as class variable: {Food.tax * self.price}\")\n",
        "\n",
        "    #Express as instance variable\n",
        "    print(f\"Price of Food as instance varible : {self.tax * self.price}\")\n",
        "    \n",
        "\n",
        "  def weightOfFood(self):\n",
        "    print(f\"Weight of Food :{self.weight}\")\n",
        "\n",
        "  @classmethod\n",
        "  def getNewFood(cls,valText):\n",
        "    price, weight = valText.split(\",\")\n",
        "    return(cls(float(price),float(weight)))\n",
        "  \n",
        "  @classmethod\n",
        "  def printFoods(cls):\n",
        "    print(cls.FoodsWeSell)\n",
        "  \n",
        "\n",
        "f = Food.getNewFood(\"10,12\")\n",
        "f.priceOfFood()\n",
        "f.weightOfFood()\n",
        "f.printFoods()\n",
        "\n",
        "#Fun stuff to make class from calling an instance\n",
        "f1 = Food(10,12)\n",
        "f2 = f1.getNewFood(\"10,13\")\n",
        "f2.priceOfFood()\n",
        "f2.weightOfFood()"
      ],
      "execution_count": null,
      "outputs": [
        {
          "output_type": "stream",
          "text": [
            "Price of Food as class variable: 10.5\n",
            "Price of Food as instance varible : 10.5\n",
            "Weight of Food :12.0\n",
            "['apple pie', 'banana curd', 'cherry smoothie']\n",
            "Price of Food as class variable: 10.5\n",
            "Price of Food as instance varible : 10.5\n",
            "Weight of Food :13.0\n"
          ],
          "name": "stdout"
        }
      ]
    },
    {
      "cell_type": "markdown",
      "metadata": {
        "id": "zeM_psYH5F6_"
      },
      "source": [
        "## Static Method"
      ]
    },
    {
      "cell_type": "code",
      "metadata": {
        "colab": {
          "base_uri": "https://localhost:8080/"
        },
        "id": "0ISPKhOUKAKE",
        "outputId": "9f94bd29-a361-4970-dd95-32b02e6c7f63"
      },
      "source": [
        "#Example of static method\n",
        "\n",
        "class Food:\n",
        "  \n",
        "  #Class variable\n",
        "  tax = 1.05\n",
        "  \n",
        "  def __init__(self, price , weight):\n",
        "    self.price = price \n",
        "    self.weight = weight\n",
        "\n",
        "  def printSelf(self):\n",
        "    print(self)\n",
        "  \n",
        "  def priceOfFood(self):\n",
        "    #Express as class variable\n",
        "    print(f\"Price of Food as class variable: {Food.tax * self.price}\")\n",
        "\n",
        "    #Express as instance variable\n",
        "    print(f\"Price of Food as instance varible : {self.tax * self.price}\")\n",
        "    \n",
        "  def weightOfFood(self):\n",
        "    print(f\"Weight of Food :{self.weight}\")\n",
        "\n",
        "  @staticmethod\n",
        "  def whatWeDo():\n",
        "    print(\"Hello we sell Food here.\")\n",
        "    \n",
        "  @staticmethod\n",
        "  def dayToday():\n",
        "    from datetime import date\n",
        "    import calendar\n",
        "    my_date = date.today()\n",
        "    today = calendar.day_name[my_date.weekday()]\n",
        "    print(f\"Today is {today}.\") \n",
        "\n",
        "Food.whatWeDo()\n",
        "Food.dayToday()"
      ],
      "execution_count": null,
      "outputs": [
        {
          "output_type": "stream",
          "text": [
            "Hello we sell Food here.\n",
            "Today is Saturday.\n"
          ],
          "name": "stdout"
        }
      ]
    },
    {
      "cell_type": "markdown",
      "metadata": {
        "id": "oVaWMO7g34Yq"
      },
      "source": [
        "# Inheritance"
      ]
    },
    {
      "cell_type": "code",
      "metadata": {
        "colab": {
          "base_uri": "https://localhost:8080/"
        },
        "id": "uRDTM0hJbNME",
        "outputId": "e8edf1e2-1045-46e6-e822-9dab62ef8213"
      },
      "source": [
        "class Protein(Food):\n",
        "  pass\n",
        "\n",
        "p1 = Protein(10,12)\n",
        "p2 = Protein(15, 30)\n",
        "help(Protein)"
      ],
      "execution_count": null,
      "outputs": [
        {
          "output_type": "stream",
          "text": [
            "Help on class Protein in module __main__:\n",
            "\n",
            "class Protein(Food)\n",
            " |  Protein(price, weight)\n",
            " |  \n",
            " |  Method resolution order:\n",
            " |      Protein\n",
            " |      Food\n",
            " |      builtins.object\n",
            " |  \n",
            " |  Methods inherited from Food:\n",
            " |  \n",
            " |  __init__(self, price, weight)\n",
            " |      Initialize self.  See help(type(self)) for accurate signature.\n",
            " |  \n",
            " |  priceOfFood(self)\n",
            " |  \n",
            " |  printSelf(self)\n",
            " |  \n",
            " |  weightOfFood(self)\n",
            " |  \n",
            " |  ----------------------------------------------------------------------\n",
            " |  Static methods inherited from Food:\n",
            " |  \n",
            " |  dayToday()\n",
            " |  \n",
            " |  whatWeDo()\n",
            " |  \n",
            " |  ----------------------------------------------------------------------\n",
            " |  Data descriptors inherited from Food:\n",
            " |  \n",
            " |  __dict__\n",
            " |      dictionary for instance variables (if defined)\n",
            " |  \n",
            " |  __weakref__\n",
            " |      list of weak references to the object (if defined)\n",
            " |  \n",
            " |  ----------------------------------------------------------------------\n",
            " |  Data and other attributes inherited from Food:\n",
            " |  \n",
            " |  tax = 1.05\n",
            "\n"
          ],
          "name": "stdout"
        }
      ]
    },
    {
      "cell_type": "code",
      "metadata": {
        "colab": {
          "base_uri": "https://localhost:8080/"
        },
        "id": "jpLPyZyzfC15",
        "outputId": "fcadf9ce-9d0d-4910-9f82-9de150b7d9c9"
      },
      "source": [
        "class Protein(Food):\n",
        "  \n",
        "  def __init__(self, price, weight, calorie):\n",
        "    self.price = price\n",
        "    self.weight = weight\n",
        "    self.calorie = calorie\n",
        "    Food.tax = 1.5\n",
        "\n",
        "p1 = Protein(10, 20, 2000)\n",
        "p2 = Protein(15, 25, 3000)\n",
        "p1.priceOfFood()\n",
        "p2.priceOfFood()"
      ],
      "execution_count": null,
      "outputs": [
        {
          "output_type": "stream",
          "text": [
            "Price of Food as class variable: 15.0\n",
            "Price of Food as instance varible : 15.0\n",
            "Price of Food as class variable: 22.5\n",
            "Price of Food as instance varible : 22.5\n"
          ],
          "name": "stdout"
        }
      ]
    },
    {
      "cell_type": "code",
      "metadata": {
        "colab": {
          "base_uri": "https://localhost:8080/"
        },
        "id": "b7008xY2gfF-",
        "outputId": "39825261-cd83-4234-8442-780bf736f33e"
      },
      "source": [
        "class Protein(Food):\n",
        "  def __init__(self, price, weight, calorie):\n",
        "    super().__init__(price, weight)\n",
        "    self.calorie = calorie\n",
        "    Food.tax = 1.5\n",
        "\n",
        "p1 = Protein(10, 20, 2000)\n",
        "p2 = Protein(15, 25, 3000)\n",
        "p1.priceOfFood()\n",
        "p2.priceOfFood()"
      ],
      "execution_count": null,
      "outputs": [
        {
          "output_type": "stream",
          "text": [
            "Price of Food as class variable: 15.0\n",
            "Price of Food as instance varible : 15.0\n",
            "Price of Food as class variable: 22.5\n",
            "Price of Food as instance varible : 22.5\n"
          ],
          "name": "stdout"
        }
      ]
    },
    {
      "cell_type": "code",
      "metadata": {
        "colab": {
          "base_uri": "https://localhost:8080/"
        },
        "id": "as5FGKc-jpl_",
        "outputId": "c6fdc9f6-ebe3-492f-ca15-322809318569"
      },
      "source": [
        "class Protein(Food):\n",
        "  def __init__(self, price, weight, calorie):\n",
        "    super().__init__(price, weight)\n",
        "    self.calorie = calorie\n",
        "    Food.tax = 1.5\n",
        "\n",
        "  def printCalories(self):\n",
        "    print(f\"Calories in the food is {self.calorie}\")\n",
        "\n",
        "p1 = Protein(10, 20, 2000)\n",
        "p2 = Protein(15, 25, 3000)\n",
        "\n",
        "print(\" \")\n",
        "p1.priceOfFood()\n",
        "p1.printCalories()\n",
        "\n",
        "print(\" \")\n",
        "p2.priceOfFood()\n",
        "p2.printCalories()"
      ],
      "execution_count": null,
      "outputs": [
        {
          "output_type": "stream",
          "text": [
            " \n",
            "Price of Food as class variable: 15.0\n",
            "Price of Food as instance varible : 15.0\n",
            "Calories in the food is 2000\n",
            " \n",
            "Price of Food as class variable: 22.5\n",
            "Price of Food as instance varible : 22.5\n",
            "Calories in the food is 3000\n"
          ],
          "name": "stdout"
        }
      ]
    },
    {
      "cell_type": "code",
      "metadata": {
        "colab": {
          "base_uri": "https://localhost:8080/"
        },
        "id": "WO88NL2UmQBm",
        "outputId": "7534402b-da23-4684-e79a-2dbbcfaac24e"
      },
      "source": [
        "class Carbohydrate(Food):\n",
        "  def __init__(self, price, weight, fibreContent):\n",
        "    super().__init__(price, weight)\n",
        "    self.fibreContent = fibreContent\n",
        "    Food.tax = 1.1\n",
        "\n",
        "  def printFibreContent(self):\n",
        "    print(f\"Fibre content in the food is {self.fibreContent}\")\n",
        "\n",
        "c1 = Carbohydrate(10, 20, 2000)\n",
        "c2 = Carbohydrate(15, 25, 3000)\n",
        "\n",
        "print(\" \")\n",
        "c1.priceOfFood()\n",
        "c1.printFibreContent()\n",
        "\n",
        "print(\" \")\n",
        "c2.priceOfFood()\n",
        "c2.printFibreContent()"
      ],
      "execution_count": null,
      "outputs": [
        {
          "output_type": "stream",
          "text": [
            " \n",
            "Price of Food as class variable: 11.0\n",
            "Price of Food as instance varible : 11.0\n",
            "Fibre content in the food is 2000\n",
            " \n",
            "Price of Food as class variable: 16.5\n",
            "Price of Food as instance varible : 16.5\n",
            "Fibre content in the food is 3000\n"
          ],
          "name": "stdout"
        }
      ]
    }
  ]
}