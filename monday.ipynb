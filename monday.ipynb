{
  "nbformat": 4,
  "nbformat_minor": 0,
  "metadata": {
    "orig_nbformat": 4,
    "language_info": {
      "name": "python",
      "version": "3.8.8",
      "mimetype": "text/x-python",
      "codemirror_mode": {
        "name": "ipython",
        "version": 3
      },
      "pygments_lexer": "ipython3",
      "nbconvert_exporter": "python",
      "file_extension": ".py"
    },
    "kernelspec": {
      "name": "python3",
      "display_name": "Python 3.8.8 64-bit ('base': conda)"
    },
    "interpreter": {
      "hash": "297c7fc3fbb9ca2b115b780b5fee517a0ca770be9d8f878422bb12ffb9087720"
    },
    "colab": {
      "name": "monday.ipynb",
      "provenance": [],
      "include_colab_link": true
    }
  },
  "cells": [
    {
      "cell_type": "markdown",
      "metadata": {
        "id": "view-in-github",
        "colab_type": "text"
      },
      "source": [
        "<a href=\"https://colab.research.google.com/github/mohammadmotiurrahman/mohammadmotiurrahman.github.io/blob/main/cse317_2/monday.ipynb\" target=\"_parent\"><img src=\"https://colab.research.google.com/assets/colab-badge.svg\" alt=\"Open In Colab\"/></a>"
      ]
    },
    {
      "cell_type": "code",
      "metadata": {
        "id": "JisGjmX6bVnb",
        "outputId": "25740f0e-a878-47cf-e84e-2f7e7673cbc2"
      },
      "source": [
        "x = 56\n",
        "print(type(x))"
      ],
      "execution_count": null,
      "outputs": [
        {
          "output_type": "stream",
          "name": "stdout",
          "text": [
            "<class 'int'>\n"
          ]
        }
      ]
    },
    {
      "cell_type": "code",
      "metadata": {
        "id": "npVILX7cbVne",
        "outputId": "de149c07-27ae-41d8-b4a8-9de074b9a902"
      },
      "source": [
        "y = 56.6\n",
        "print(type(y))"
      ],
      "execution_count": null,
      "outputs": [
        {
          "output_type": "stream",
          "name": "stdout",
          "text": [
            "<class 'float'>\n"
          ]
        }
      ]
    },
    {
      "cell_type": "code",
      "metadata": {
        "id": "MFwquIVVbVnf",
        "outputId": "03adf862-8b29-4acb-dff9-5e713e16a6b1"
      },
      "source": [
        "s = \"Hello\"\n",
        "print(s)"
      ],
      "execution_count": null,
      "outputs": [
        {
          "output_type": "stream",
          "name": "stdout",
          "text": [
            "Hello\n"
          ]
        }
      ]
    },
    {
      "cell_type": "code",
      "metadata": {
        "id": "drf7rDNabVnf",
        "outputId": "e5dffe91-19cc-47fd-b108-2e7e8ad24548"
      },
      "source": [
        "b = False\n",
        "print(b)"
      ],
      "execution_count": null,
      "outputs": [
        {
          "output_type": "stream",
          "name": "stdout",
          "text": [
            "False\n"
          ]
        }
      ]
    },
    {
      "cell_type": "code",
      "metadata": {
        "id": "HsN3j-UBbVng",
        "outputId": "5de11ba7-2ad8-4b27-b9e2-49207ac02759"
      },
      "source": [
        "print(int(y))"
      ],
      "execution_count": null,
      "outputs": [
        {
          "output_type": "stream",
          "name": "stdout",
          "text": [
            "56\n"
          ]
        }
      ]
    },
    {
      "cell_type": "code",
      "metadata": {
        "id": "6i1v-Fo3bVng",
        "outputId": "dfa6e05a-d995-43b9-9261-c37d4de77d98"
      },
      "source": [
        "x = 56\n",
        "print(f\"The value of x is {x}\")"
      ],
      "execution_count": null,
      "outputs": [
        {
          "output_type": "stream",
          "name": "stdout",
          "text": [
            "The value of x is 56\n"
          ]
        }
      ]
    },
    {
      "cell_type": "code",
      "metadata": {
        "id": "zHZs9uXAbVng",
        "outputId": "df7bb924-83c0-4347-80d0-62ce9a3bcd8e"
      },
      "source": [
        "x = input(\"Enter your name: \")\n",
        "print(x)"
      ],
      "execution_count": null,
      "outputs": [
        {
          "output_type": "stream",
          "name": "stdout",
          "text": [
            "Hello\n"
          ]
        }
      ]
    },
    {
      "cell_type": "code",
      "metadata": {
        "id": "u-xo4kDobVnh",
        "outputId": "8f0a5d07-a1f6-4e31-8d91-7e0774b0c310"
      },
      "source": [
        "price = int(input(\"Enter the price of the item: \"))\n",
        "print(price + 10)\n"
      ],
      "execution_count": null,
      "outputs": [
        {
          "output_type": "stream",
          "name": "stdout",
          "text": [
            "23\n"
          ]
        }
      ]
    },
    {
      "cell_type": "code",
      "metadata": {
        "id": "UdX5peuWbVnh",
        "outputId": "1dc2b7bc-aec1-4bf5-8ba1-fec36f09da80"
      },
      "source": [
        "age = 20\n",
        "if (age < 30): \n",
        "    print(\"Young\")    \n",
        "    print(\"Something\")\n",
        "else:\n",
        "    print(\"Not young\")"
      ],
      "execution_count": null,
      "outputs": [
        {
          "output_type": "stream",
          "name": "stdout",
          "text": [
            "Young\n",
            "Something\n"
          ]
        }
      ]
    },
    {
      "cell_type": "code",
      "metadata": {
        "id": "_hcvTKxvbVni",
        "outputId": "cc0b2255-739e-4303-c0e8-197378ff1aed"
      },
      "source": [
        "x = 30\n",
        "if (x % 2 == 0):\n",
        "    if(x % 3 == 0):\n",
        "        print(\"Multiple of 2 and 3\")\n",
        "else:\n",
        "    print(\"Not a multiple of 2 and 4\")"
      ],
      "execution_count": null,
      "outputs": [
        {
          "output_type": "stream",
          "name": "stdout",
          "text": [
            "Multiple of 2 and 3\n"
          ]
        }
      ]
    },
    {
      "cell_type": "code",
      "metadata": {
        "id": "Flj6dwUHbVnj",
        "outputId": "b6dddc17-0352-4b1f-fec6-3f0290fdd192"
      },
      "source": [
        "x = 9\n",
        "if (x % 2 == 0) or (x % 3 == 0):\n",
        "    print(\"Multiple of 2 or 3\")\n",
        "else:\n",
        "    print(\"Something relevant\")"
      ],
      "execution_count": null,
      "outputs": [
        {
          "output_type": "stream",
          "name": "stdout",
          "text": [
            "Multiple of 2 or 3\n"
          ]
        }
      ]
    },
    {
      "cell_type": "code",
      "metadata": {
        "id": "8saIZDvgbVnj",
        "outputId": "fd79cb01-e98d-4458-9ff2-d75daab6ab1a"
      },
      "source": [
        "x = True\n",
        "print(not(x))"
      ],
      "execution_count": null,
      "outputs": [
        {
          "output_type": "stream",
          "name": "stdout",
          "text": [
            "False\n"
          ]
        }
      ]
    },
    {
      "cell_type": "code",
      "metadata": {
        "id": "eQhoMIBrbVnj",
        "outputId": "1288fe16-d18f-456c-e37f-ef6518acd5e5"
      },
      "source": [
        "age = 90\n",
        "if (age < 30): \n",
        "    print(\"Young\")    \n",
        "elif ((age >= 30 ) and (age < 60)):\n",
        "    print(\"Middle Age\")\n",
        "else:\n",
        "    print(\"Old Age\")"
      ],
      "execution_count": null,
      "outputs": [
        {
          "output_type": "stream",
          "name": "stdout",
          "text": [
            "Old Age\n"
          ]
        }
      ]
    },
    {
      "cell_type": "code",
      "metadata": {
        "id": "L4f6CtyYbVnj",
        "outputId": "fa5a4f4e-0477-4dc0-9799-18c8711d935b"
      },
      "source": [
        "for i in range(0,10):\n",
        "    print(i, end = \" \")"
      ],
      "execution_count": null,
      "outputs": [
        {
          "output_type": "stream",
          "name": "stdout",
          "text": [
            "0 1 2 3 4 5 6 7 8 9 "
          ]
        }
      ]
    },
    {
      "cell_type": "code",
      "metadata": {
        "id": "woLcXdYYbVnk",
        "outputId": "56e73b82-289d-45ef-f41d-ff7cadc19ddd"
      },
      "source": [
        "x = 0\n",
        "while( x < 5):\n",
        "    print(x, end = \" \")\n",
        "    x = x + 1"
      ],
      "execution_count": null,
      "outputs": [
        {
          "output_type": "stream",
          "name": "stdout",
          "text": [
            "0 1 2 3 4 "
          ]
        }
      ]
    },
    {
      "cell_type": "code",
      "metadata": {
        "id": "bFWXUGaObVnk",
        "outputId": "338df206-5c54-4d3b-f8ea-0c83c76257e6"
      },
      "source": [
        "x = 0\n",
        "while( x < 10):\n",
        "    x = x + 1\n",
        "    if(x == 5):\n",
        "        continue\n",
        "    print(x, end = \" \")\n",
        "    "
      ],
      "execution_count": null,
      "outputs": [
        {
          "output_type": "stream",
          "name": "stdout",
          "text": [
            "1 2 3 4 6 7 8 9 10 "
          ]
        }
      ]
    },
    {
      "cell_type": "code",
      "metadata": {
        "id": "mdzGIcZPbVnk",
        "outputId": "56e3b426-2a78-4b47-88f0-e73f52abe3df"
      },
      "source": [
        "file = open('hello.txt', 'r')\n",
        "#print(file.readline())\n",
        "#print(file.readline())\n",
        "print(file.readlines())\n",
        "file.close()\n"
      ],
      "execution_count": null,
      "outputs": [
        {
          "output_type": "stream",
          "name": "stdout",
          "text": [
            "Today is Monday\n",
            "\n",
            "['The sun is shining\\n', '4 + 5 = 6']\n"
          ]
        }
      ]
    },
    {
      "cell_type": "code",
      "metadata": {
        "id": "M4gULqsMbVnk"
      },
      "source": [
        "file = open('hello.txt', 'a')\n",
        "file.write(\"The night is dark \")\n",
        "file.close()\n"
      ],
      "execution_count": null,
      "outputs": []
    },
    {
      "cell_type": "code",
      "metadata": {
        "id": "NRlL9-qMbVnl"
      },
      "source": [
        "#function\n",
        "int hello(int a , int b){\n",
        "    return 2;\n",
        "}"
      ],
      "execution_count": null,
      "outputs": []
    },
    {
      "cell_type": "code",
      "metadata": {
        "id": "_HGQkFwHbVnl",
        "outputId": "48ec658a-0a7a-4d3f-d7f1-577f9a3c7302"
      },
      "source": [
        "def hello():\n",
        "    return 45\n",
        "\n",
        "print(hello())"
      ],
      "execution_count": null,
      "outputs": [
        {
          "output_type": "stream",
          "name": "stdout",
          "text": [
            "45\n"
          ]
        }
      ]
    },
    {
      "cell_type": "code",
      "metadata": {
        "id": "LGsymdMRbVnl"
      },
      "source": [
        "int arr[4] = [1,2,3,4]"
      ],
      "execution_count": null,
      "outputs": []
    },
    {
      "cell_type": "code",
      "metadata": {
        "id": "l8EzjsEibVnl",
        "outputId": "88f79a3c-9178-45fb-dc9c-8715945096a5"
      },
      "source": [
        "#list\n",
        "myList = [10,12,13,14]\n",
        "print(type(myList))\n",
        "print(len(myList))\n"
      ],
      "execution_count": null,
      "outputs": [
        {
          "output_type": "stream",
          "name": "stdout",
          "text": [
            "<class 'list'>\n",
            "4\n"
          ]
        }
      ]
    },
    {
      "cell_type": "code",
      "metadata": {
        "id": "XnVT3CEWbVnl",
        "outputId": "0db2cb26-cd43-458f-d34c-d68db0eaa5ae"
      },
      "source": [
        "for i in range(len(myList)):\n",
        "    print(myList[i], end = \" \")"
      ],
      "execution_count": null,
      "outputs": [
        {
          "output_type": "stream",
          "name": "stdout",
          "text": [
            "10 12 13 14 "
          ]
        }
      ]
    },
    {
      "cell_type": "code",
      "metadata": {
        "id": "OzDKXg2IbVnm",
        "outputId": "0931b152-60b9-4364-f02e-8863b774d2fa"
      },
      "source": [
        "for elm in myList:\n",
        "    print(elm, end = \" \")"
      ],
      "execution_count": null,
      "outputs": [
        {
          "output_type": "stream",
          "name": "stdout",
          "text": [
            "10 12 13 14 "
          ]
        }
      ]
    },
    {
      "cell_type": "code",
      "metadata": {
        "id": "b2YzhQZfbVnm",
        "outputId": "47ed5461-e3de-49dd-e8f5-b9b8584a5f2d"
      },
      "source": [
        "#list comprehension\n",
        "#[i for i in range(5)]\n",
        "myList = []\n",
        "for i in range(5):\n",
        "    myList.append(i)\n",
        "print(myList)"
      ],
      "execution_count": null,
      "outputs": [
        {
          "output_type": "stream",
          "name": "stdout",
          "text": [
            "[0, 1, 2, 3, 4]\n"
          ]
        }
      ]
    },
    {
      "cell_type": "code",
      "metadata": {
        "id": "mPmVZvbCbVnm",
        "outputId": "0f67c3d3-40f2-42d5-86e9-c40d8623c9f6"
      },
      "source": [
        "#list comprehension\n",
        "myList = [10, 12, 34, 56]\n",
        "a = [myList[i]+1 for i in range(len(myList))]\n",
        "print(a)"
      ],
      "execution_count": null,
      "outputs": [
        {
          "output_type": "stream",
          "name": "stdout",
          "text": [
            "[11, 13, 35, 57]\n"
          ]
        }
      ]
    },
    {
      "cell_type": "code",
      "metadata": {
        "id": "6FyGCZwqbVnm",
        "outputId": "eccfe5ee-8a24-4e8e-a1a4-e189ff9e21ac"
      },
      "source": [
        "myList = [1,2,3,4, \"apple\", \"banana\", 4.5, True]\n",
        "for i in range(len(myList)):\n",
        "    print(type(myList[i]), end = \" \")"
      ],
      "execution_count": null,
      "outputs": [
        {
          "output_type": "stream",
          "name": "stdout",
          "text": [
            "<class 'int'> <class 'int'> <class 'int'> <class 'int'> <class 'str'> <class 'str'> <class 'float'> <class 'bool'> "
          ]
        }
      ]
    },
    {
      "cell_type": "code",
      "metadata": {
        "id": "nA-g1492bVnm",
        "outputId": "e431a2ca-977f-43bf-fbd0-d69049113882"
      },
      "source": [
        "myList = [1,2,3,4, \"apple\", \"banana\", 4.5, True]\n",
        "for i in myList:\n",
        "    print(i, end = \" \")\n",
        "    "
      ],
      "execution_count": null,
      "outputs": [
        {
          "output_type": "stream",
          "name": "stdout",
          "text": [
            "1 2 3 4 apple banana 4.5 True "
          ]
        }
      ]
    },
    {
      "cell_type": "code",
      "metadata": {
        "id": "KSGJshOXbVnn",
        "outputId": "a11b58ca-f17c-4aea-9f40-ab9125ed32eb"
      },
      "source": [
        "#tuple\n",
        "myTuple = (1,2,3,4, \"apple\", True)\n",
        "for i in range(len(myTuple)):\n",
        "    print(myTuple[i])"
      ],
      "execution_count": null,
      "outputs": [
        {
          "output_type": "stream",
          "name": "stdout",
          "text": [
            "1\n",
            "2\n",
            "3\n",
            "4\n",
            "apple\n",
            "True\n"
          ]
        }
      ]
    },
    {
      "cell_type": "code",
      "metadata": {
        "id": "fpus4yfGbVnn",
        "outputId": "45b2dab4-be1d-4587-fbcd-72b6c5692a79"
      },
      "source": [
        "#tuple\n",
        "myTuple = (1,2,3,4, \"apple\", True)\n",
        "for i in myTuple:\n",
        "    print(i, end = \" \")"
      ],
      "execution_count": null,
      "outputs": [
        {
          "output_type": "stream",
          "name": "stdout",
          "text": [
            "1 2 3 4 apple True "
          ]
        }
      ]
    },
    {
      "cell_type": "code",
      "metadata": {
        "id": "x-YbwTm4bVnn",
        "outputId": "e066e136-21dd-4dc2-e075-b8c7425b76e0"
      },
      "source": [
        "myList = [1,2,3,4, \"apple\", \"banana\", 4.5, True]\n",
        "myTuple = (1,2,3,4, \"apple\", True)\n",
        "myList[0] = 1000\n",
        "print(myList)"
      ],
      "execution_count": null,
      "outputs": [
        {
          "output_type": "stream",
          "name": "stdout",
          "text": [
            "[1000, 2, 3, 4, 'apple', 'banana', 4.5, True]\n"
          ]
        }
      ]
    },
    {
      "cell_type": "code",
      "metadata": {
        "id": "OKYzva-1bVnn",
        "outputId": "87c2ebb9-ab7b-4cab-9249-ed3c636437d7"
      },
      "source": [
        "myList = [1,2,3,4, \"apple\", \"banana\", 4.5, True]\n",
        "myTuple = (1,2,3,4, \"apple\", True)\n",
        "myTuple[0] = 1000\n",
        "print(myTuple)"
      ],
      "execution_count": null,
      "outputs": [
        {
          "output_type": "error",
          "ename": "TypeError",
          "evalue": "'tuple' object does not support item assignment",
          "traceback": [
            "\u001b[1;31m---------------------------------------------------------------------------\u001b[0m",
            "\u001b[1;31mTypeError\u001b[0m                                 Traceback (most recent call last)",
            "\u001b[1;32m<ipython-input-7-5515346c84fb>\u001b[0m in \u001b[0;36m<module>\u001b[1;34m\u001b[0m\n\u001b[0;32m      1\u001b[0m \u001b[0mmyList\u001b[0m \u001b[1;33m=\u001b[0m \u001b[1;33m[\u001b[0m\u001b[1;36m1\u001b[0m\u001b[1;33m,\u001b[0m\u001b[1;36m2\u001b[0m\u001b[1;33m,\u001b[0m\u001b[1;36m3\u001b[0m\u001b[1;33m,\u001b[0m\u001b[1;36m4\u001b[0m\u001b[1;33m,\u001b[0m \u001b[1;34m\"apple\"\u001b[0m\u001b[1;33m,\u001b[0m \u001b[1;34m\"banana\"\u001b[0m\u001b[1;33m,\u001b[0m \u001b[1;36m4.5\u001b[0m\u001b[1;33m,\u001b[0m \u001b[1;32mTrue\u001b[0m\u001b[1;33m]\u001b[0m\u001b[1;33m\u001b[0m\u001b[1;33m\u001b[0m\u001b[0m\n\u001b[0;32m      2\u001b[0m \u001b[0mmyTuple\u001b[0m \u001b[1;33m=\u001b[0m \u001b[1;33m(\u001b[0m\u001b[1;36m1\u001b[0m\u001b[1;33m,\u001b[0m\u001b[1;36m2\u001b[0m\u001b[1;33m,\u001b[0m\u001b[1;36m3\u001b[0m\u001b[1;33m,\u001b[0m\u001b[1;36m4\u001b[0m\u001b[1;33m,\u001b[0m \u001b[1;34m\"apple\"\u001b[0m\u001b[1;33m,\u001b[0m \u001b[1;32mTrue\u001b[0m\u001b[1;33m)\u001b[0m\u001b[1;33m\u001b[0m\u001b[1;33m\u001b[0m\u001b[0m\n\u001b[1;32m----> 3\u001b[1;33m \u001b[0mmyTuple\u001b[0m\u001b[1;33m[\u001b[0m\u001b[1;36m0\u001b[0m\u001b[1;33m]\u001b[0m \u001b[1;33m=\u001b[0m \u001b[1;36m1000\u001b[0m\u001b[1;33m\u001b[0m\u001b[1;33m\u001b[0m\u001b[0m\n\u001b[0m\u001b[0;32m      4\u001b[0m \u001b[0mprint\u001b[0m\u001b[1;33m(\u001b[0m\u001b[0mmyTuple\u001b[0m\u001b[1;33m)\u001b[0m\u001b[1;33m\u001b[0m\u001b[1;33m\u001b[0m\u001b[0m\n",
            "\u001b[1;31mTypeError\u001b[0m: 'tuple' object does not support item assignment"
          ]
        }
      ]
    },
    {
      "cell_type": "code",
      "metadata": {
        "id": "NoY2TuZgbVnn",
        "outputId": "f5c55be5-c2b2-4258-ea37-43dbd30dac7c"
      },
      "source": [
        "import sys\n",
        "myList = [1,2,3,4, \"apple\", True]\n",
        "myTuple = (1,2,3,4, \"apple\", True)\n",
        "#space\n",
        "print(sys.getsizeof(myList))\n",
        "print(sys.getsizeof(myTuple))\n"
      ],
      "execution_count": null,
      "outputs": [
        {
          "output_type": "stream",
          "name": "stdout",
          "text": [
            "104\n",
            "88\n"
          ]
        }
      ]
    },
    {
      "cell_type": "code",
      "metadata": {
        "id": "YsjHsO9EbVnn",
        "outputId": "2531ffd7-d8cf-4f60-a2b1-a9551d503252"
      },
      "source": [
        "import timeit\n",
        "#time comparison\n",
        "print(timeit.timeit(stmt='[1,2,3,4, \"apple\", True]'))#list\n",
        "print(timeit.timeit(stmt='(1,2,3,4, \"apple\", True)'))#tuple\n"
      ],
      "execution_count": null,
      "outputs": [
        {
          "output_type": "stream",
          "name": "stdout",
          "text": [
            "0.05175259999987247\n",
            "0.008360099999890735\n"
          ]
        }
      ]
    },
    {
      "cell_type": "code",
      "metadata": {
        "id": "mb6DzXehbVno",
        "outputId": "7a9c80bd-85a3-46b5-fd06-6ae3458769f9"
      },
      "source": [
        "myList = [1,2,3,4, \"apple\", True]\n",
        "myTuple = tuple(myList)\n",
        "myList2 = list(myTuple)\n",
        "print(type(myList2))"
      ],
      "execution_count": null,
      "outputs": [
        {
          "output_type": "stream",
          "name": "stdout",
          "text": [
            "<class 'list'>\n"
          ]
        }
      ]
    },
    {
      "cell_type": "code",
      "metadata": {
        "id": "bVQHOPhRbVno",
        "outputId": "61b090f0-dd5a-4b2d-95af-d6dc89aed7e9"
      },
      "source": [
        "#dictionary\n",
        "priceElements = {\"Apple\":10, \"Banana\":20, \"Carrot\":30}\n",
        "for key, value in priceElements.items():\n",
        "    print(key, value)\n"
      ],
      "execution_count": null,
      "outputs": [
        {
          "output_type": "stream",
          "name": "stdout",
          "text": [
            "Apple 10\n",
            "Banana 20\n",
            "Carrot 30\n"
          ]
        }
      ]
    },
    {
      "cell_type": "code",
      "metadata": {
        "id": "LJiEn0XIbVno",
        "outputId": "8c848121-0976-41c8-a3db-64b37794d5d7"
      },
      "source": [
        "#dictionary\n",
        "priceElements = {1:10, \"Banana\":20, \"Carrot\":30}\n",
        "for key in priceElements:\n",
        "    print(key, priceElements[key])\n"
      ],
      "execution_count": null,
      "outputs": [
        {
          "output_type": "stream",
          "name": "stdout",
          "text": [
            "1 10\n",
            "Banana 20\n",
            "Carrot 30\n"
          ]
        }
      ]
    },
    {
      "cell_type": "code",
      "metadata": {
        "id": "PitB2L6sbVno",
        "outputId": "ac69e103-fb47-4524-bc5f-63763736418b"
      },
      "source": [
        "#set\n",
        "a = {1,2,3,4,4,3,2}\n",
        "print(a)\n",
        "b = {3,4,5}\n",
        "print(b)"
      ],
      "execution_count": null,
      "outputs": [
        {
          "output_type": "stream",
          "name": "stdout",
          "text": [
            "{1, 2, 3, 4}\n",
            "{3, 4, 5}\n"
          ]
        }
      ]
    },
    {
      "cell_type": "code",
      "metadata": {
        "id": "OVfZWQeCbVnp",
        "outputId": "f016938e-c82f-43ec-b56b-ffbadd717ec5"
      },
      "source": [
        "c = a.union(b)\n",
        "print(c)"
      ],
      "execution_count": null,
      "outputs": [
        {
          "output_type": "stream",
          "name": "stdout",
          "text": [
            "{1, 2, 3, 4, 5}\n"
          ]
        }
      ]
    },
    {
      "cell_type": "code",
      "metadata": {
        "id": "3TCSTb9_bVnp",
        "outputId": "2844fd8d-4b7b-4c96-d7f3-ff3266e50841"
      },
      "source": [
        "c = a.intersection(b)\n",
        "print(c)"
      ],
      "execution_count": null,
      "outputs": [
        {
          "output_type": "stream",
          "name": "stdout",
          "text": [
            "{3, 4}\n"
          ]
        }
      ]
    },
    {
      "cell_type": "code",
      "metadata": {
        "id": "iVB7QNmqbVnp",
        "outputId": "a30740af-40b4-40ec-c613-b9ea78508b1d"
      },
      "source": [
        "#string - this can not be mutated\n",
        "s = \"Hello\"\n",
        "print(s)\n",
        "s[0] = 'J'\n",
        "print(s)"
      ],
      "execution_count": null,
      "outputs": [
        {
          "output_type": "stream",
          "name": "stdout",
          "text": [
            "Hello\n"
          ]
        },
        {
          "output_type": "error",
          "ename": "TypeError",
          "evalue": "'str' object does not support item assignment",
          "traceback": [
            "\u001b[1;31m---------------------------------------------------------------------------\u001b[0m",
            "\u001b[1;31mTypeError\u001b[0m                                 Traceback (most recent call last)",
            "\u001b[1;32m<ipython-input-23-60d8a1cb4377>\u001b[0m in \u001b[0;36m<module>\u001b[1;34m\u001b[0m\n\u001b[0;32m      2\u001b[0m \u001b[0ms\u001b[0m \u001b[1;33m=\u001b[0m \u001b[1;34m\"Hello\"\u001b[0m\u001b[1;33m\u001b[0m\u001b[1;33m\u001b[0m\u001b[0m\n\u001b[0;32m      3\u001b[0m \u001b[0mprint\u001b[0m\u001b[1;33m(\u001b[0m\u001b[0ms\u001b[0m\u001b[1;33m)\u001b[0m\u001b[1;33m\u001b[0m\u001b[1;33m\u001b[0m\u001b[0m\n\u001b[1;32m----> 4\u001b[1;33m \u001b[0ms\u001b[0m\u001b[1;33m[\u001b[0m\u001b[1;36m0\u001b[0m\u001b[1;33m]\u001b[0m \u001b[1;33m=\u001b[0m \u001b[1;34m'J'\u001b[0m\u001b[1;33m\u001b[0m\u001b[1;33m\u001b[0m\u001b[0m\n\u001b[0m\u001b[0;32m      5\u001b[0m \u001b[0mprint\u001b[0m\u001b[1;33m(\u001b[0m\u001b[0ms\u001b[0m\u001b[1;33m)\u001b[0m\u001b[1;33m\u001b[0m\u001b[1;33m\u001b[0m\u001b[0m\n",
            "\u001b[1;31mTypeError\u001b[0m: 'str' object does not support item assignment"
          ]
        }
      ]
    },
    {
      "cell_type": "code",
      "metadata": {
        "id": "H1TwDPt0bVnp",
        "outputId": "5ec7e95b-bd92-4c59-8807-ad3eb844d096"
      },
      "source": [
        "#string - this can not be mutated\n",
        "s = (\"Hello\",)\n",
        "print(type(s))\n"
      ],
      "execution_count": null,
      "outputs": [
        {
          "output_type": "stream",
          "name": "stdout",
          "text": [
            "<class 'tuple'>\n"
          ]
        }
      ]
    },
    {
      "cell_type": "code",
      "metadata": {
        "id": "xfLNOXaLbVnp",
        "outputId": "c8cba138-c790-4513-8d83-85ed8b336ad5"
      },
      "source": [
        "f = open('hello.txt', 'r')\n",
        "textList = []\n",
        "textList = f.readlines()\n",
        "for i in textList:\n",
        "    print(i)"
      ],
      "execution_count": null,
      "outputs": [
        {
          "output_type": "stream",
          "name": "stdout",
          "text": [
            "The night is dark \n",
            "\n",
            "The moon is still bright\n",
            "\n",
            "Have a good day and a good night\n"
          ]
        }
      ]
    },
    {
      "cell_type": "code",
      "metadata": {
        "id": "4c75BdKvbVnp",
        "outputId": "1d4844ef-78c5-42ff-9441-887ebf4e008f"
      },
      "source": [
        "listNum = [1,2,3,4]\n",
        "def printNum(a):\n",
        "    for i in a:\n",
        "        print(i, end = \" \")\n",
        "\n",
        "printNum(listNum)"
      ],
      "execution_count": null,
      "outputs": [
        {
          "output_type": "stream",
          "name": "stdout",
          "text": [
            "1 2 3 4 "
          ]
        }
      ]
    },
    {
      "cell_type": "code",
      "metadata": {
        "id": "iUYUqzenbVnq"
      },
      "source": [
        "listNum = [1,2,3,4]\n",
        "def printNum(a):\n",
        "    for i in a:\n",
        "        yield i\n",
        "\n",
        "p = printNum(listNum)"
      ],
      "execution_count": null,
      "outputs": []
    },
    {
      "cell_type": "code",
      "metadata": {
        "id": "q--LVuCTbVnq",
        "outputId": "67f50020-2e7f-4238-89f0-a56497a6db58"
      },
      "source": [
        "next(p)"
      ],
      "execution_count": null,
      "outputs": [
        {
          "output_type": "execute_result",
          "data": {
            "text/plain": [
              "4"
            ]
          },
          "metadata": {},
          "execution_count": 40
        }
      ]
    },
    {
      "cell_type": "code",
      "metadata": {
        "id": "fOuHK3VubVnq"
      },
      "source": [
        "def printLine():\n",
        "    for i in open('hello.txt', 'r'):\n",
        "        print(i)"
      ],
      "execution_count": null,
      "outputs": []
    },
    {
      "cell_type": "code",
      "metadata": {
        "id": "BFSv1-xqbVnq",
        "outputId": "2f1db3f3-5e75-432b-c9ec-92acacd0067a"
      },
      "source": [
        "printLine()"
      ],
      "execution_count": null,
      "outputs": [
        {
          "output_type": "stream",
          "name": "stdout",
          "text": [
            "The night is dark \n",
            "\n",
            "The moon is still bright\n",
            "\n",
            "Have a good day and a good night\n"
          ]
        }
      ]
    },
    {
      "cell_type": "code",
      "metadata": {
        "id": "Q7vDcqDQbVnq",
        "outputId": "1f142fd3-1af0-4583-b0d8-a1110fcfd50b"
      },
      "source": [
        "def printLine():\n",
        "    for i in open('hello.txt', 'r'):\n",
        "        yield i\n",
        "\n",
        "p = printLine()\n",
        "print(p)"
      ],
      "execution_count": null,
      "outputs": [
        {
          "output_type": "stream",
          "name": "stdout",
          "text": [
            "<generator object printLine at 0x00000214365649E0>\n"
          ]
        }
      ]
    },
    {
      "cell_type": "code",
      "metadata": {
        "id": "DlLZV5fCbVnq",
        "outputId": "08314da8-e4ac-4174-ee14-0f69732f719a"
      },
      "source": [
        "try:\n",
        "    print(next(p))\n",
        "except:\n",
        "    print(\"End of file\")"
      ],
      "execution_count": null,
      "outputs": [
        {
          "output_type": "stream",
          "name": "stdout",
          "text": [
            "End of file\n"
          ]
        }
      ]
    },
    {
      "cell_type": "code",
      "metadata": {
        "id": "UI987YpVbVnq",
        "outputId": "b8272263-6c93-4219-e255-44b66ea926d1"
      },
      "source": [
        "class Vehicle:\n",
        "    def __init__(self, nWheels, price):\n",
        "        self.nWheels = nWheels + 10\n",
        "        self.price = price+100\n",
        "    \n",
        "    def about(self):\n",
        "        return self.nWheels, self.price\n",
        "\n",
        "v = Vehicle(2,10000)\n",
        "print(v.about())\n"
      ],
      "execution_count": null,
      "outputs": [
        {
          "output_type": "stream",
          "name": "stdout",
          "text": [
            "(12, 10100)\n"
          ]
        }
      ]
    },
    {
      "cell_type": "code",
      "metadata": {
        "id": "zidnhMHhbVnq",
        "outputId": "c42b13bc-dcc9-4973-81dd-5fc9b9885bfe"
      },
      "source": [
        "class Bicycle(Vehicle):\n",
        "    def __init__(self, nWheels, price , engineType):\n",
        "        super().__init__(nWheels, price)\n",
        "        self.engineType = engineType\n",
        "    \n",
        "    def aboutBicyle(self):\n",
        "        print(str(super().about()[0]) +\" \"+str(super().about()[1])+ \" \"+self.engineType)\n",
        "\n",
        "b = Bicycle(2,10000, \"manual\")\n",
        "b.aboutBicyle()"
      ],
      "execution_count": null,
      "outputs": [
        {
          "output_type": "stream",
          "name": "stdout",
          "text": [
            "12 10100 manual\n"
          ]
        }
      ]
    },
    {
      "cell_type": "code",
      "metadata": {
        "id": "7ReK_atdbVnr",
        "outputId": "8bd255e5-99e4-4044-ea62-b6905be4570a"
      },
      "source": [
        "class Value:\n",
        "    a = 56\n",
        "    def __init__(self, x, y):\n",
        "        self.x = x\n",
        "        self.y = y\n",
        "    \n",
        "    def add(self, x, y):\n",
        "        return x + y + Value.a\n",
        "\n",
        "v = Value(2,3)\n",
        "print(v.add(9,10))\n",
        "v.a = 34\n",
        "print(v.a)"
      ],
      "execution_count": null,
      "outputs": [
        {
          "output_type": "stream",
          "name": "stdout",
          "text": [
            "75\n",
            "34\n"
          ]
        }
      ]
    },
    {
      "cell_type": "code",
      "metadata": {
        "id": "7KyCMnHtbVnr"
      },
      "source": [
        "class Value:\n",
        "    a = 56\n",
        "    def __init__(self, x, y):\n",
        "        self.x = x\n",
        "        self.y = y\n",
        "    \n",
        "    def add(self, x, y):\n",
        "        return x + y\n",
        "    \n",
        "    @classmethod\n",
        "    def printSomething(cls, a, b):\n",
        "        cls.a = 90\n",
        "\n",
        "v = Value(2,3)\n",
        "v.printSomething(3,4)\n",
        "Value.printSomething(4,5)\n",
        "\n"
      ],
      "execution_count": null,
      "outputs": []
    },
    {
      "cell_type": "code",
      "metadata": {
        "id": "mK-blYq4bVnr",
        "outputId": "bc6ef9b7-4ccc-47ef-a8b7-c69cfc9b289a"
      },
      "source": [
        "class Value:\n",
        "\n",
        "    #class variable\n",
        "    x = 500\n",
        "    def __init__(self):\n",
        "        self.a = 10\n",
        "        self.b = 20\n",
        "    \n",
        "    @classmethod\n",
        "    def add(cls):\n",
        "        print(\"Inside class method\")\n",
        "        cls.x = 412\n",
        "\n",
        "    @staticmethod\n",
        "    def greeting():\n",
        "        print(\"Welcome, to our Value class\")\n",
        "\n",
        "v = Value()\n",
        "v.x = 1500\n",
        "Value.add()\n",
        "print(v.x)\n",
        "print(Value.x)\n",
        "Value.greeting()\n"
      ],
      "execution_count": null,
      "outputs": [
        {
          "output_type": "stream",
          "name": "stdout",
          "text": [
            "Inside class method\n",
            "1500\n",
            "412\n",
            "Welcome, to our Value class\n"
          ]
        }
      ]
    },
    {
      "cell_type": "code",
      "metadata": {
        "id": "swlHkqW0bVnr"
      },
      "source": [
        ""
      ],
      "execution_count": null,
      "outputs": []
    }
  ]
}